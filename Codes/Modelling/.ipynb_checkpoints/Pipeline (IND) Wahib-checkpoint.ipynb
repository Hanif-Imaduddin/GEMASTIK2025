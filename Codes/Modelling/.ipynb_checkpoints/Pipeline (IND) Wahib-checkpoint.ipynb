{
 "cells": [
  {
   "cell_type": "markdown",
   "id": "84e85f11-1e2f-444b-8244-3dddc33e19b0",
   "metadata": {},
   "source": [
    "## Libraries and Helper Functions"
   ]
  },
  {
   "cell_type": "code",
   "execution_count": 1,
   "id": "31107097-d45f-47a2-9a5b-2baf44b8e89e",
   "metadata": {},
   "outputs": [
    {
     "name": "stderr",
     "output_type": "stream",
     "text": [
      "[nltk_data] Downloading package punkt to\n",
      "[nltk_data]     C:\\Users\\hanif\\AppData\\Roaming\\nltk_data...\n",
      "[nltk_data]   Package punkt is already up-to-date!\n",
      "[nltk_data] Downloading package stopwords to\n",
      "[nltk_data]     C:\\Users\\hanif\\AppData\\Roaming\\nltk_data...\n",
      "[nltk_data]   Package stopwords is already up-to-date!\n"
     ]
    }
   ],
   "source": [
    "import numpy as np\n",
    "import pandas as pd\n",
    "import matplotlib.pyplot as plt\n",
    "import seaborn as sns\n",
    "\n",
    "import re\n",
    "import string\n",
    "import nltk\n",
    "from gensim.models import Word2Vec\n",
    "from nltk.tokenize import word_tokenize\n",
    "from nltk.corpus import stopwords\n",
    "from sklearn.feature_extraction.text import CountVectorizer, TfidfVectorizer\n",
    "\n",
    "from sklearn.decomposition import NMF, LatentDirichletAllocation, TruncatedSVD\n",
    "\n",
    "from umap.umap_ import UMAP\n",
    "from hdbscan import HDBSCAN\n",
    "from bertopic import BERTopic\n",
    "from bertopic.representation import KeyBERTInspired,MaximalMarginalRelevance\n",
    "from bertopic.representation import OpenAI as OpenAI_BERTopic\n",
    "from sentence_transformers import SentenceTransformer\n",
    "\n",
    "from gensim.corpora import Dictionary\n",
    "from gensim.models import CoherenceModel\n",
    "\n",
    "import os\n",
    "from dotenv import load_dotenv\n",
    "\n",
    "import optuna\n",
    "\n",
    "nltk.download('punkt')\n",
    "nltk.download('stopwords')\n",
    "\n",
    "import torch\n",
    "import random\n",
    "import os"
   ]
  },
  {
   "cell_type": "code",
   "execution_count": 2,
   "id": "672a47df-c24c-4ebd-b05b-6404653a136d",
   "metadata": {
    "scrolled": true
   },
   "outputs": [],
   "source": [
    "import torch\n",
    "import torchvision"
   ]
  },
  {
   "cell_type": "code",
   "execution_count": 3,
   "id": "931982be-8821-4b85-94c2-1a57b67b5386",
   "metadata": {},
   "outputs": [
    {
     "data": {
      "text/plain": [
       "True"
      ]
     },
     "execution_count": 3,
     "metadata": {},
     "output_type": "execute_result"
    }
   ],
   "source": [
    "load_dotenv(override=True)"
   ]
  },
  {
   "cell_type": "code",
   "execution_count": 4,
   "id": "4eee1db6-ca58-4278-a12a-679370b82111",
   "metadata": {},
   "outputs": [],
   "source": [
    "from Sastrawi.StopWordRemover.StopWordRemoverFactory import StopWordRemoverFactory\n",
    "from Sastrawi.StopWordRemover.StopWordRemover import StopWordRemover"
   ]
  },
  {
   "cell_type": "code",
   "execution_count": 92,
   "id": "6e386210-97f7-47fc-9b7b-063b7ae28ccf",
   "metadata": {},
   "outputs": [],
   "source": [
    "import os\n",
    "import json\n",
    "import re\n",
    "from openai import OpenAI\n",
    "import openai\n",
    "\n",
    "openai.api_key = os.getenv(\"OPENAI_API_KEY\")\n",
    "client = OpenAI()\n",
    "\n",
    "def summarize_topic(keywords, docs):\n",
    "    prompt = f\"Saya mempunyai sebuah topik terkait penelitian ilmiah atau pengabdian masyarakat yang dapat di-deskripsikan dengan beberapa kata kunci berikut: {keywords}\\n\\n\"\n",
    "    prompt += \"Di dalam topik ini, dokumen-dokumen berikut adalah judul penelitian atau pengabdian masyarakat yang merupakan sebagian kecil namun representatif dari semua dokumen dalam topik ini:\\n\\n\"\n",
    "    prompt += \"\\n\\n\".join(docs[:5])  # ambil 5 dokumen saja\n",
    "    prompt += 'Berdasarkan informasi di atas, deskripsikan topik ini dan berikan label berupa satu kalimat yang representatif terhadap topik ini dengan format JSON berikut:\\n {\"label_topik\":<label> , \"deskripsi\":<deskripsi>}'\n",
    "\n",
    "    response = client.chat.completions.create(\n",
    "        model=\"gpt-4o-2024-08-06\",\n",
    "        messages=[\n",
    "            {\"role\": \"system\", \"content\": 'Kamu adalah asisten akademik yang merangkum topik. Anda adalah model yang hanya menjawab dalam format JSON valid. Jangan beri penjelasan. Berikan hanya output seperti ini: {\"label_topik\": \"...\", \"deskripsi\": \"...\"}'},\n",
    "            {\"role\": \"user\", \"content\": prompt}\n",
    "        ],\n",
    "        temperature=0.5,\n",
    "        max_tokens=300\n",
    "    )\n",
    "    content = response.choices[0].message.content.strip()\n",
    "    try:\n",
    "        match = re.search(r'\\{.*?\\}', content, re.DOTALL)\n",
    "        json_str = match.group(0)\n",
    "        result = json.loads(json_str)\n",
    "        return result\n",
    "    except json.JSONDecodeError:\n",
    "        print(\"JSON tidak valid:\", content)\n"
   ]
  },
  {
   "cell_type": "code",
   "execution_count": 6,
   "id": "51633753-2520-42cf-b110-efe9bcb42182",
   "metadata": {},
   "outputs": [
    {
     "name": "stderr",
     "output_type": "stream",
     "text": [
      "[nltk_data] Downloading package punkt to\n",
      "[nltk_data]     C:\\Users\\hanif\\AppData\\Roaming\\nltk_data...\n",
      "[nltk_data]   Package punkt is already up-to-date!\n",
      "[nltk_data] Downloading package stopwords to\n",
      "[nltk_data]     C:\\Users\\hanif\\AppData\\Roaming\\nltk_data...\n",
      "[nltk_data]   Package stopwords is already up-to-date!\n"
     ]
    },
    {
     "data": {
      "text/plain": [
       "True"
      ]
     },
     "execution_count": 6,
     "metadata": {},
     "output_type": "execute_result"
    }
   ],
   "source": [
    "def set_seed(seed=42):\n",
    "    random.seed(seed)\n",
    "    np.random.seed(seed)\n",
    "    torch.manual_seed(seed)\n",
    "    torch.cuda.manual_seed(seed)\n",
    "    torch.cuda.manual_seed_all(seed)\n",
    "    torch.backends.cudnn.deterministic = True\n",
    "    torch.backends.cudnn.benchmark = False\n",
    "    os.environ['PYTHONHASHSEED'] = str(seed)\n",
    "    \n",
    "set_seed()\n",
    "nltk.download('punkt')\n",
    "nltk.download('stopwords')"
   ]
  },
  {
   "cell_type": "code",
   "execution_count": 7,
   "id": "4c4eff65-c287-4075-876a-3e93537b50d0",
   "metadata": {},
   "outputs": [],
   "source": [
    "import time\n",
    "class StopWatch():\n",
    "    def __init__(self):\n",
    "        self.__start_time = 0\n",
    "        self.__end_time = 0\n",
    "        self.__elapsed_time = 0\n",
    "    def start(self):\n",
    "        self.__start_time = time.time()\n",
    "        self.__end_time = 0\n",
    "    def stop(self):\n",
    "        self.__end_time = time.time()\n",
    "        self.__elapsed_time = self.__end_time - self.__start_time\n",
    "    def print(self):\n",
    "        detik = self.__elapsed_time\n",
    "\n",
    "        jam = detik // 3600\n",
    "        detik = detik % 3600\n",
    "\n",
    "        menit = detik // 60\n",
    "        detik = detik % 60\n",
    "\n",
    "        print('Waktu eksekusi: ',end='')\n",
    "        if jam != 0:\n",
    "            print(int(jam),'jam ',end='')\n",
    "        if menit != 0:\n",
    "            print(int(menit),'menit',end='')\n",
    "        print(f' {detik:.2f}','detik.')\n",
    "    def get_elapsed_time(self):\n",
    "        return self.__elapsed_time"
   ]
  },
  {
   "cell_type": "code",
   "execution_count": 8,
   "id": "1079471c-5370-4279-a9ff-44707e41eb9d",
   "metadata": {},
   "outputs": [],
   "source": [
    "factory = StopWordRemoverFactory()\n",
    "stopword_remover = factory.create_stop_word_remover()  \n",
    "repeated_phrases = [\"kecerdasan buatan\"]\n",
    "\n",
    "additional_stop_words = ['ai']\n",
    "\n",
    "stop_words = set(stopwords.words('english'))\n",
    "for word in additional_stop_words:\n",
    "    stop_words.add(word)\n",
    "\n",
    "def preprocess_text(text):\n",
    "    # Lowercasing\n",
    "    text = text.lower()\n",
    "    \n",
    "    # URL removal\n",
    "    text = re.sub(r'http\\S+|www\\S+|https\\S+', '', text, flags=re.MULTILINE)\n",
    "    \n",
    "    # Punctuation removal\n",
    "    text = text.translate(str.maketrans('', '', string.punctuation))\n",
    "\n",
    "    # Remove repeated phrases\n",
    "    for phrase in repeated_phrases:\n",
    "        text = re.sub(phrase,\"\",text)\n",
    "\n",
    "    # Remove duplicate white space\n",
    "    text = re.sub(r'\\s+', ' ', text)\n",
    "    \n",
    "    text = stopword_remover.remove(text) \n",
    "\n",
    "     # Tokenization\n",
    "    tokens = word_tokenize(text)\n",
    "    \n",
    "    # Stopword removal\n",
    "    tokens = [word for word in tokens if word not in stop_words]\n",
    "    \n",
    "    return ' '.join(tokens)"
   ]
  },
  {
   "cell_type": "code",
   "execution_count": 9,
   "id": "3ae5e7d6-7369-4ac1-8744-d7721420c558",
   "metadata": {},
   "outputs": [],
   "source": [
    "def trim(x):\n",
    "    if x[-8:]=='Collapse':\n",
    "        return x[:-8]\n",
    "    elif x[-9:] == ' … Expand':\n",
    "        return x[:-9]\n",
    "    else:\n",
    "        return x"
   ]
  },
  {
   "cell_type": "code",
   "execution_count": 10,
   "id": "ab0fdffb-d5ac-43c2-939d-08f4e1f6519d",
   "metadata": {},
   "outputs": [],
   "source": [
    "def display_topics(model, feature_names, no_top_words):\n",
    "    for topic_idx, topic in enumerate(model.components_):\n",
    "        print(f\"\\nTopic #{topic_idx + 1}:\")\n",
    "        print(\" \".join([feature_names[i] for i in topic.argsort()[:-no_top_words - 1:-1]]))"
   ]
  },
  {
   "cell_type": "code",
   "execution_count": 11,
   "id": "bf8f0888-dba0-4555-8bf3-b63a2829b702",
   "metadata": {},
   "outputs": [],
   "source": [
    "def get_topics_words(model, vectorizer):\n",
    "    feature_names = vectorizer.get_feature_names_out()\n",
    "    topics_words = []\n",
    "    for topic_idx, topic in enumerate(model.components_):\n",
    "        top_features_ind = topic.argsort()[:-11:-1]\n",
    "        top_words = [feature_names[i] for i in top_features_ind]\n",
    "        topics_words.append(top_words)\n",
    "\n",
    "    return topics_words\n",
    "\n",
    "def get_bert_topics_words(topic_model):\n",
    "    bert_topics_words = []\n",
    "    for topic_id in topic_model.get_topics().keys():\n",
    "        if topic_id == -1:\n",
    "            continue\n",
    "        topic_words = [word for word, _ in topic_model.get_topic(topic_id)]\n",
    "        bert_topics_words.append(topic_words)\n",
    "    return bert_topics_words\n",
    "\n",
    "def get_coherence(topics_words):\n",
    "    sw = StopWatch()\n",
    "    sw.start()\n",
    "    \n",
    "    coherence = CoherenceModel(\n",
    "                    topics=topics_words,\n",
    "                    texts=tokenized_docs,\n",
    "                    dictionary=dictionary,\n",
    "                    coherence='c_v'\n",
    "                ).get_coherence()\n",
    "\n",
    "    sw.stop()\n",
    "    sw.print()\n",
    "\n",
    "    return coherence"
   ]
  },
  {
   "cell_type": "code",
   "execution_count": 12,
   "id": "cbf29648-bf01-413e-a12e-4bca8e4f765c",
   "metadata": {},
   "outputs": [],
   "source": [
    "config = {\n",
    "    'dataset_dir' : '../../Datasets/'\n",
    "}"
   ]
  },
  {
   "cell_type": "markdown",
   "id": "6321737d-1bdf-49d2-86dd-3d78d69372b3",
   "metadata": {},
   "source": [
    "## EDA"
   ]
  },
  {
   "cell_type": "code",
   "execution_count": 13,
   "id": "a62c072d-c252-44b4-84eb-49f2683f3496",
   "metadata": {},
   "outputs": [],
   "source": [
    "df_penelitian = pd.read_csv(config['dataset_dir']+'Daftar Penerima Pendanaan Program Penelitian Tahun Anggaran 2024.csv')\n",
    "df_abdimas = pd.read_csv(config['dataset_dir']+'Penerima Pendanaan Program Pengabdian kepada Masyarakat Batch II  Tahun  Anggaran 2025.csv')"
   ]
  },
  {
   "cell_type": "code",
   "execution_count": 14,
   "id": "9ff58823-6558-44b2-a412-7709a1b110da",
   "metadata": {},
   "outputs": [
    {
     "data": {
      "text/html": [
       "<div>\n",
       "<style scoped>\n",
       "    .dataframe tbody tr th:only-of-type {\n",
       "        vertical-align: middle;\n",
       "    }\n",
       "\n",
       "    .dataframe tbody tr th {\n",
       "        vertical-align: top;\n",
       "    }\n",
       "\n",
       "    .dataframe thead th {\n",
       "        text-align: right;\n",
       "    }\n",
       "</style>\n",
       "<table border=\"1\" class=\"dataframe\">\n",
       "  <thead>\n",
       "    <tr style=\"text-align: right;\">\n",
       "      <th></th>\n",
       "      <th>No</th>\n",
       "      <th>Kategori Institusi</th>\n",
       "      <th>Nama Institusi</th>\n",
       "      <th>NIDN</th>\n",
       "      <th>Nama</th>\n",
       "      <th>Judul</th>\n",
       "      <th>Ruang Lingkup</th>\n",
       "    </tr>\n",
       "  </thead>\n",
       "  <tbody>\n",
       "    <tr>\n",
       "      <th>0</th>\n",
       "      <td>1</td>\n",
       "      <td>PTNBH</td>\n",
       "      <td>Institut Pertanian Bogor</td>\n",
       "      <td>27046503</td>\n",
       "      <td>Achmad Farajallah</td>\n",
       "      <td>Pola Distribusi Macrobrachium Sintangense di J...</td>\n",
       "      <td>PPS- PTM</td>\n",
       "    </tr>\n",
       "    <tr>\n",
       "      <th>1</th>\n",
       "      <td>2</td>\n",
       "      <td>PTNBH</td>\n",
       "      <td>Institut Pertanian Bogor</td>\n",
       "      <td>24129002</td>\n",
       "      <td>Adisti Permatasari Putri Hartoyo</td>\n",
       "      <td>APLIKASI BIO-NANOFERTILIZERS DAN DRONE SEEDING...</td>\n",
       "      <td>PFR</td>\n",
       "    </tr>\n",
       "    <tr>\n",
       "      <th>2</th>\n",
       "      <td>3</td>\n",
       "      <td>PTNBH</td>\n",
       "      <td>Institut Pertanian Bogor</td>\n",
       "      <td>24129002</td>\n",
       "      <td>Adisti Permatasari Putri Hartoyo</td>\n",
       "      <td>APLIKASI SEED BOMB TECHNOLOGY DAN NANO- CS/PMA...</td>\n",
       "      <td>PPS- PTM</td>\n",
       "    </tr>\n",
       "    <tr>\n",
       "      <th>3</th>\n",
       "      <td>4</td>\n",
       "      <td>PTNBH</td>\n",
       "      <td>Institut Pertanian Bogor</td>\n",
       "      <td>2076607</td>\n",
       "      <td>Agus Buono</td>\n",
       "      <td>Optimasi Model Hybrid Convolutional Vision Tra...</td>\n",
       "      <td>PPS- PDD</td>\n",
       "    </tr>\n",
       "    <tr>\n",
       "      <th>4</th>\n",
       "      <td>5</td>\n",
       "      <td>PTNBH</td>\n",
       "      <td>Institut Pertanian Bogor</td>\n",
       "      <td>18096208</td>\n",
       "      <td>Agus Hikmat</td>\n",
       "      <td>Pengembangan Sistem Agroforestri dan Produk Ar...</td>\n",
       "      <td>PFR</td>\n",
       "    </tr>\n",
       "    <tr>\n",
       "      <th>...</th>\n",
       "      <td>...</td>\n",
       "      <td>...</td>\n",
       "      <td>...</td>\n",
       "      <td>...</td>\n",
       "      <td>...</td>\n",
       "      <td>...</td>\n",
       "      <td>...</td>\n",
       "    </tr>\n",
       "    <tr>\n",
       "      <th>11989</th>\n",
       "      <td>11990</td>\n",
       "      <td>LLDIKTI Wilayah XVI</td>\n",
       "      <td>Universitas Trinita</td>\n",
       "      <td>912086503</td>\n",
       "      <td>Yongker Baali</td>\n",
       "      <td>Pemanfaatan Limbah Tempurung Kelapa untuk pros...</td>\n",
       "      <td>PDP Reguler</td>\n",
       "    </tr>\n",
       "    <tr>\n",
       "      <th>11990</th>\n",
       "      <td>11991</td>\n",
       "      <td>LLDIKTI Wilayah XVI</td>\n",
       "      <td>Universitas Widya Nusantara</td>\n",
       "      <td>1613039801</td>\n",
       "      <td>Hardianti</td>\n",
       "      <td>Nuget Daun Krokot Dan Tepung Bekatul Sebagai A...</td>\n",
       "      <td>PDP Reguler</td>\n",
       "    </tr>\n",
       "    <tr>\n",
       "      <th>11991</th>\n",
       "      <td>11992</td>\n",
       "      <td>LLDIKTI Wilayah XVI</td>\n",
       "      <td>Universitas Widya Nusantara</td>\n",
       "      <td>917068903</td>\n",
       "      <td>Matius Paundanan</td>\n",
       "      <td>Studi Kandungan Logam Berat (Hg, Pb, Cd dan Cu...</td>\n",
       "      <td>PDP Reguler</td>\n",
       "    </tr>\n",
       "    <tr>\n",
       "      <th>11992</th>\n",
       "      <td>11993</td>\n",
       "      <td>LLDIKTI Wilayah XVI</td>\n",
       "      <td>Universitas Widya Nusantara</td>\n",
       "      <td>1602099801</td>\n",
       "      <td>Nuristha Febrianti</td>\n",
       "      <td>Pemanfaatan Pangan Lokal Stik Dangke Kelor Seb...</td>\n",
       "      <td>PDP Reguler</td>\n",
       "    </tr>\n",
       "    <tr>\n",
       "      <th>11993</th>\n",
       "      <td>11994</td>\n",
       "      <td>LLDIKTI Wilayah XVI</td>\n",
       "      <td>Universitas Widya Nusantara</td>\n",
       "      <td>1608099401</td>\n",
       "      <td>Viere Allanled Siauta</td>\n",
       "      <td>Rancangan aplikasi komunikasi SBAR berbasis di...</td>\n",
       "      <td>PDP Afirmasi</td>\n",
       "    </tr>\n",
       "  </tbody>\n",
       "</table>\n",
       "<p>11994 rows × 7 columns</p>\n",
       "</div>"
      ],
      "text/plain": [
       "          No   Kategori Institusi               Nama Institusi        NIDN  \\\n",
       "0          1                PTNBH     Institut Pertanian Bogor    27046503   \n",
       "1          2                PTNBH     Institut Pertanian Bogor    24129002   \n",
       "2          3                PTNBH     Institut Pertanian Bogor    24129002   \n",
       "3          4                PTNBH     Institut Pertanian Bogor     2076607   \n",
       "4          5                PTNBH     Institut Pertanian Bogor    18096208   \n",
       "...      ...                  ...                          ...         ...   \n",
       "11989  11990  LLDIKTI Wilayah XVI          Universitas Trinita   912086503   \n",
       "11990  11991  LLDIKTI Wilayah XVI  Universitas Widya Nusantara  1613039801   \n",
       "11991  11992  LLDIKTI Wilayah XVI  Universitas Widya Nusantara   917068903   \n",
       "11992  11993  LLDIKTI Wilayah XVI  Universitas Widya Nusantara  1602099801   \n",
       "11993  11994  LLDIKTI Wilayah XVI  Universitas Widya Nusantara  1608099401   \n",
       "\n",
       "                                   Nama  \\\n",
       "0                     Achmad Farajallah   \n",
       "1      Adisti Permatasari Putri Hartoyo   \n",
       "2      Adisti Permatasari Putri Hartoyo   \n",
       "3                            Agus Buono   \n",
       "4                           Agus Hikmat   \n",
       "...                                 ...   \n",
       "11989                     Yongker Baali   \n",
       "11990                         Hardianti   \n",
       "11991                  Matius Paundanan   \n",
       "11992                Nuristha Febrianti   \n",
       "11993             Viere Allanled Siauta   \n",
       "\n",
       "                                                   Judul Ruang Lingkup  \n",
       "0      Pola Distribusi Macrobrachium Sintangense di J...      PPS- PTM  \n",
       "1      APLIKASI BIO-NANOFERTILIZERS DAN DRONE SEEDING...           PFR  \n",
       "2      APLIKASI SEED BOMB TECHNOLOGY DAN NANO- CS/PMA...      PPS- PTM  \n",
       "3      Optimasi Model Hybrid Convolutional Vision Tra...      PPS- PDD  \n",
       "4      Pengembangan Sistem Agroforestri dan Produk Ar...           PFR  \n",
       "...                                                  ...           ...  \n",
       "11989  Pemanfaatan Limbah Tempurung Kelapa untuk pros...   PDP Reguler  \n",
       "11990  Nuget Daun Krokot Dan Tepung Bekatul Sebagai A...   PDP Reguler  \n",
       "11991  Studi Kandungan Logam Berat (Hg, Pb, Cd dan Cu...   PDP Reguler  \n",
       "11992  Pemanfaatan Pangan Lokal Stik Dangke Kelor Seb...   PDP Reguler  \n",
       "11993  Rancangan aplikasi komunikasi SBAR berbasis di...  PDP Afirmasi  \n",
       "\n",
       "[11994 rows x 7 columns]"
      ]
     },
     "execution_count": 14,
     "metadata": {},
     "output_type": "execute_result"
    }
   ],
   "source": [
    "df_penelitian"
   ]
  },
  {
   "cell_type": "code",
   "execution_count": 15,
   "id": "5a71ead7-af05-4eee-86ea-676174fd3477",
   "metadata": {},
   "outputs": [],
   "source": [
    "df_abdimas = df_abdimas.rename(columns={'Institusi':'Nama Institusi'})"
   ]
  },
  {
   "cell_type": "code",
   "execution_count": 16,
   "id": "c73a5fe7-adc4-4a3f-bb4c-1b6ae1fdaebe",
   "metadata": {},
   "outputs": [],
   "source": [
    "df = pd.concat([df_penelitian[['Nama Institusi','Judul']],df_abdimas[['Nama Institusi','Judul']]]).reset_index(drop=True)"
   ]
  },
  {
   "cell_type": "code",
   "execution_count": 17,
   "id": "d0ab1155-2406-40e2-9f7b-eaebf4f55cd9",
   "metadata": {},
   "outputs": [
    {
     "name": "stdout",
     "output_type": "stream",
     "text": [
      "<class 'pandas.core.frame.DataFrame'>\n",
      "RangeIndex: 12490 entries, 0 to 12489\n",
      "Data columns (total 2 columns):\n",
      " #   Column          Non-Null Count  Dtype \n",
      "---  ------          --------------  ----- \n",
      " 0   Nama Institusi  12490 non-null  object\n",
      " 1   Judul           12490 non-null  object\n",
      "dtypes: object(2)\n",
      "memory usage: 195.3+ KB\n"
     ]
    }
   ],
   "source": [
    "df.info()"
   ]
  },
  {
   "cell_type": "markdown",
   "id": "4789f96b-5c46-4a3e-bcc8-8f028ff939d5",
   "metadata": {},
   "source": [
    "## Preprocessing and Feature Engineering #1"
   ]
  },
  {
   "cell_type": "code",
   "execution_count": 18,
   "id": "597f4e0a-6016-423d-9c10-77df110ceff3",
   "metadata": {},
   "outputs": [],
   "source": [
    "df_tm = df[['Judul']].copy()"
   ]
  },
  {
   "cell_type": "code",
   "execution_count": 19,
   "id": "56636a1a-6dc4-43c3-ab42-a8286976d4c0",
   "metadata": {
    "scrolled": true
   },
   "outputs": [
    {
     "name": "stdout",
     "output_type": "stream",
     "text": [
      "Waktu eksekusi:  2.73 detik.\n"
     ]
    }
   ],
   "source": [
    "sw = StopWatch()\n",
    "sw.start()\n",
    "df_tm['processed_judul'] = df_tm['Judul'].apply(preprocess_text)\n",
    "sw.stop()\n",
    "sw.print()"
   ]
  },
  {
   "cell_type": "code",
   "execution_count": 20,
   "id": "afd682d3-c146-4874-9a67-781a5dd0cb6a",
   "metadata": {},
   "outputs": [
    {
     "data": {
      "text/html": [
       "<div>\n",
       "<style scoped>\n",
       "    .dataframe tbody tr th:only-of-type {\n",
       "        vertical-align: middle;\n",
       "    }\n",
       "\n",
       "    .dataframe tbody tr th {\n",
       "        vertical-align: top;\n",
       "    }\n",
       "\n",
       "    .dataframe thead th {\n",
       "        text-align: right;\n",
       "    }\n",
       "</style>\n",
       "<table border=\"1\" class=\"dataframe\">\n",
       "  <thead>\n",
       "    <tr style=\"text-align: right;\">\n",
       "      <th></th>\n",
       "      <th>Judul</th>\n",
       "      <th>processed_judul</th>\n",
       "    </tr>\n",
       "  </thead>\n",
       "  <tbody>\n",
       "    <tr>\n",
       "      <th>0</th>\n",
       "      <td>Pola Distribusi Macrobrachium Sintangense di J...</td>\n",
       "      <td>pola distribusi macrobrachium sintangense jawa...</td>\n",
       "    </tr>\n",
       "    <tr>\n",
       "      <th>1</th>\n",
       "      <td>APLIKASI BIO-NANOFERTILIZERS DAN DRONE SEEDING...</td>\n",
       "      <td>aplikasi bionanofertilizers drone seeding sist...</td>\n",
       "    </tr>\n",
       "    <tr>\n",
       "      <th>2</th>\n",
       "      <td>APLIKASI SEED BOMB TECHNOLOGY DAN NANO- CS/PMA...</td>\n",
       "      <td>aplikasi seed bomb technology nano cspmaanpkmi...</td>\n",
       "    </tr>\n",
       "    <tr>\n",
       "      <th>3</th>\n",
       "      <td>Optimasi Model Hybrid Convolutional Vision Tra...</td>\n",
       "      <td>optimasi model hybrid convolutional vision tra...</td>\n",
       "    </tr>\n",
       "    <tr>\n",
       "      <th>4</th>\n",
       "      <td>Pengembangan Sistem Agroforestri dan Produk Ar...</td>\n",
       "      <td>pengembangan sistem agroforestri produk berbas...</td>\n",
       "    </tr>\n",
       "  </tbody>\n",
       "</table>\n",
       "</div>"
      ],
      "text/plain": [
       "                                               Judul  \\\n",
       "0  Pola Distribusi Macrobrachium Sintangense di J...   \n",
       "1  APLIKASI BIO-NANOFERTILIZERS DAN DRONE SEEDING...   \n",
       "2  APLIKASI SEED BOMB TECHNOLOGY DAN NANO- CS/PMA...   \n",
       "3  Optimasi Model Hybrid Convolutional Vision Tra...   \n",
       "4  Pengembangan Sistem Agroforestri dan Produk Ar...   \n",
       "\n",
       "                                     processed_judul  \n",
       "0  pola distribusi macrobrachium sintangense jawa...  \n",
       "1  aplikasi bionanofertilizers drone seeding sist...  \n",
       "2  aplikasi seed bomb technology nano cspmaanpkmi...  \n",
       "3  optimasi model hybrid convolutional vision tra...  \n",
       "4  pengembangan sistem agroforestri produk berbas...  "
      ]
     },
     "execution_count": 20,
     "metadata": {},
     "output_type": "execute_result"
    }
   ],
   "source": [
    "df_tm.head()"
   ]
  },
  {
   "cell_type": "markdown",
   "id": "d6f05348-c939-4c76-b7a8-7f7b8f8f69be",
   "metadata": {},
   "source": [
    "## Topic Modelling"
   ]
  },
  {
   "cell_type": "code",
   "execution_count": 21,
   "id": "302a083e-f2be-477c-84e9-cdd5120ea762",
   "metadata": {},
   "outputs": [],
   "source": [
    "docs = df_tm['processed_judul'].to_list()"
   ]
  },
  {
   "cell_type": "code",
   "execution_count": 22,
   "id": "d72145e1-d846-44bd-845a-1904b7d543d8",
   "metadata": {},
   "outputs": [],
   "source": [
    "def get_top_keyword(vectorizer,model):\n",
    "    componenets = model.components_\n",
    "    feature_names = vectorizer.get_feature_names_out()\n",
    "    top_n = 10\n",
    "    keywords_per_topic = [\n",
    "        [feature_names[i] for i in topic.argsort()[:-top_n - 1:-1]] for topic in componenets\n",
    "    ]\n",
    "    return keywords_per_topic\n",
    "\n",
    "def select_representative_docs(model,topics):\n",
    "    topics_docs = {}\n",
    "    for topic_idx in range(model.n_components):\n",
    "        topic_strength = topics[:,topic_idx]\n",
    "        top_doc_indices = topic_strength.argsort()[::-1][:5]\n",
    "        topics_docs[topic_idx] = [docs[i] for i in top_doc_indices]\n",
    "    return topics_docs"
   ]
  },
  {
   "cell_type": "code",
   "execution_count": 23,
   "id": "0754ce3a-92ab-431a-854c-9b411a7536bc",
   "metadata": {},
   "outputs": [],
   "source": [
    "def summarize(model, topics, vectorizer):\n",
    "    r_docs = select_representative_docs(model,topics)\n",
    "    top_key = get_top_keyword(vectorizer,model)\n",
    "    topic_desc = {}\n",
    "    for topic_idx, keywords in enumerate(top_key):\n",
    "        docs_sample = r_docs[topic_idx]\n",
    "        result = summarize_topic(keywords, docs_sample)\n",
    "        topic_desc[topic_idx] = result\n",
    "    return topic_desc"
   ]
  },
  {
   "cell_type": "code",
   "execution_count": 24,
   "id": "bf542d7b-5a6b-44e9-b8f5-2f08b622eb2a",
   "metadata": {},
   "outputs": [],
   "source": [
    "tfidf_vectorizer = TfidfVectorizer(max_features=1000)\n",
    "tfidf = tfidf_vectorizer.fit_transform(df_tm['processed_judul'])\n",
    "\n",
    "count_vectorizer = CountVectorizer(max_features=1000)\n",
    "count = count_vectorizer.fit_transform(df_tm['processed_judul'])"
   ]
  },
  {
   "cell_type": "markdown",
   "id": "c5bb8bdd-7d97-41fd-b10d-7c8023602960",
   "metadata": {},
   "source": [
    "### NMF"
   ]
  },
  {
   "cell_type": "code",
   "execution_count": 25,
   "id": "3ccc5ece-c762-4acf-9152-f3189fa841e4",
   "metadata": {},
   "outputs": [
    {
     "name": "stdout",
     "output_type": "stream",
     "text": [
      "Waktu eksekusi:  0.83 detik.\n"
     ]
    }
   ],
   "source": [
    "sw = StopWatch()\n",
    "sw.start()\n",
    "nmf_model = NMF(n_components=10, random_state=42)\n",
    "nmf_topics = nmf_model.fit_transform(tfidf)\n",
    "sw.stop()\n",
    "sw.print()"
   ]
  },
  {
   "cell_type": "code",
   "execution_count": 26,
   "id": "4b645e42-fd08-43a5-b6ec-5c48a702d1b1",
   "metadata": {},
   "outputs": [],
   "source": [
    "df_tm['NMF_topic'] = np.argmax(nmf_topics,axis=1)"
   ]
  },
  {
   "cell_type": "code",
   "execution_count": 27,
   "id": "791adde0-839c-4ba3-8a0e-dd72ef3d2083",
   "metadata": {},
   "outputs": [
    {
     "data": {
      "text/plain": [
       "NMF_topic\n",
       "4    1559\n",
       "8    1558\n",
       "6    1543\n",
       "7    1495\n",
       "3    1365\n",
       "5    1361\n",
       "2    1056\n",
       "0     966\n",
       "1     901\n",
       "9     686\n",
       "Name: count, dtype: int64"
      ]
     },
     "execution_count": 27,
     "metadata": {},
     "output_type": "execute_result"
    }
   ],
   "source": [
    "df_tm['NMF_topic'].value_counts()"
   ]
  },
  {
   "cell_type": "markdown",
   "id": "3c1e3f24-9a7a-4499-8895-4f147b0132fd",
   "metadata": {},
   "source": [
    "### LDA"
   ]
  },
  {
   "cell_type": "code",
   "execution_count": 28,
   "id": "132e8ba0-8c87-4042-ad05-090640a44e1f",
   "metadata": {},
   "outputs": [
    {
     "name": "stdout",
     "output_type": "stream",
     "text": [
      "Waktu eksekusi:  24.57 detik.\n"
     ]
    }
   ],
   "source": [
    "sw = StopWatch()\n",
    "sw.start()\n",
    "lda_model = LatentDirichletAllocation(n_components=10, random_state=42)\n",
    "lda_topics = lda_model.fit_transform(count)\n",
    "sw.stop()\n",
    "sw.print()"
   ]
  },
  {
   "cell_type": "code",
   "execution_count": 29,
   "id": "5e7bac2b-9540-44af-9b94-e27cbb0f42a9",
   "metadata": {},
   "outputs": [],
   "source": [
    "df_tm['LDA_topic'] = np.argmax(lda_topics,axis=1)"
   ]
  },
  {
   "cell_type": "code",
   "execution_count": 30,
   "id": "c8fef007-7e74-49a0-acad-a27bb0df5af5",
   "metadata": {},
   "outputs": [
    {
     "data": {
      "text/plain": [
       "LDA_topic\n",
       "5    2031\n",
       "1    1864\n",
       "4    1734\n",
       "3    1319\n",
       "8    1082\n",
       "9    1042\n",
       "0     939\n",
       "7     899\n",
       "6     795\n",
       "2     785\n",
       "Name: count, dtype: int64"
      ]
     },
     "execution_count": 30,
     "metadata": {},
     "output_type": "execute_result"
    }
   ],
   "source": [
    "df_tm['LDA_topic'].value_counts()"
   ]
  },
  {
   "cell_type": "markdown",
   "id": "a8ddce03-08ac-43f9-b94f-4676013c6513",
   "metadata": {},
   "source": [
    "### LSA"
   ]
  },
  {
   "cell_type": "code",
   "execution_count": 31,
   "id": "98899563-2f0d-4fba-8aa2-ce9ea4ed7a56",
   "metadata": {},
   "outputs": [
    {
     "name": "stdout",
     "output_type": "stream",
     "text": [
      "Waktu eksekusi:  0.06 detik.\n"
     ]
    }
   ],
   "source": [
    "sw = StopWatch()\n",
    "sw.start()\n",
    "lsa_model = TruncatedSVD(n_components=10, random_state=42)\n",
    "lsa_topics = lsa_model.fit_transform(tfidf)\n",
    "sw.stop()\n",
    "sw.print()"
   ]
  },
  {
   "cell_type": "code",
   "execution_count": 32,
   "id": "1b91934d-11f5-49b2-9f92-4655cb99f77f",
   "metadata": {},
   "outputs": [],
   "source": [
    "df_tm['LSA_topics'] = np.argmax(lsa_topics,axis=1)"
   ]
  },
  {
   "cell_type": "code",
   "execution_count": 33,
   "id": "8ee988c2-f623-40bc-a784-412e0a379ff7",
   "metadata": {},
   "outputs": [
    {
     "data": {
      "text/plain": [
       "LSA_topics\n",
       "0    7477\n",
       "2    1526\n",
       "5     927\n",
       "6     808\n",
       "7     592\n",
       "9     414\n",
       "4     210\n",
       "8     201\n",
       "1     188\n",
       "3     147\n",
       "Name: count, dtype: int64"
      ]
     },
     "execution_count": 33,
     "metadata": {},
     "output_type": "execute_result"
    }
   ],
   "source": [
    "df_tm['LSA_topics'].value_counts()"
   ]
  },
  {
   "cell_type": "markdown",
   "id": "3caa2eb7-afd9-4cd2-968b-873a779b8198",
   "metadata": {},
   "source": [
    "### BERTopic"
   ]
  },
  {
   "cell_type": "code",
   "execution_count": 34,
   "id": "c663bbe6-959b-4cf7-b5ef-69cbbfd41fb4",
   "metadata": {},
   "outputs": [],
   "source": [
    "# Prepare sub-models\n",
    "embedding_model = SentenceTransformer(\"paraphrase-multilingual-MiniLM-L12-v2\")\n",
    "umap_model = UMAP(n_components=5, n_neighbors=50, random_state=42, metric=\"cosine\", verbose=True)\n",
    "hdbscan_model = HDBSCAN(min_samples=20, gen_min_span_tree=True, prediction_data=True, min_cluster_size=20)\n",
    "vectorizer_model = CountVectorizer(ngram_range=(1, 3), min_df=5)"
   ]
  },
  {
   "cell_type": "code",
   "execution_count": 35,
   "id": "b75147fd-a0e1-4883-9156-243a23afcaa5",
   "metadata": {},
   "outputs": [
    {
     "name": "stderr",
     "output_type": "stream",
     "text": [
      "2025-07-28 07:08:39,683 - BERTopic - Embedding - Transforming documents to embeddings.\n"
     ]
    },
    {
     "data": {
      "application/vnd.jupyter.widget-view+json": {
       "model_id": "a0272671c8d049e88e5953026b0bc728",
       "version_major": 2,
       "version_minor": 0
      },
      "text/plain": [
       "Batches:   0%|          | 0/391 [00:00<?, ?it/s]"
      ]
     },
     "metadata": {},
     "output_type": "display_data"
    },
    {
     "name": "stderr",
     "output_type": "stream",
     "text": [
      "2025-07-28 07:08:50,582 - BERTopic - Embedding - Completed ✓\n",
      "2025-07-28 07:08:50,583 - BERTopic - Dimensionality - Fitting the dimensionality reduction algorithm\n"
     ]
    },
    {
     "name": "stdout",
     "output_type": "stream",
     "text": [
      "UMAP(angular_rp_forest=True, metric='cosine', n_components=5, n_jobs=1, n_neighbors=50, random_state=42, verbose=True)\n",
      "Mon Jul 28 07:08:50 2025 Construct fuzzy simplicial set\n",
      "Mon Jul 28 07:08:50 2025 Finding Nearest Neighbors\n",
      "Mon Jul 28 07:08:50 2025 Building RP forest with 11 trees\n",
      "Mon Jul 28 07:09:03 2025 NN descent for 14 iterations\n",
      "\t 1  /  14\n",
      "\t 2  /  14\n",
      "\t 3  /  14\n",
      "\tStopping threshold met -- exiting after 3 iterations\n",
      "Mon Jul 28 07:09:41 2025 Finished Nearest Neighbor Search\n",
      "Mon Jul 28 07:09:46 2025 Construct embedding\n"
     ]
    },
    {
     "data": {
      "application/vnd.jupyter.widget-view+json": {
       "model_id": "6869698537f84f33b078cb3a5147fa60",
       "version_major": 2,
       "version_minor": 0
      },
      "text/plain": [
       "Epochs completed:   0%|            0/200 [00:00]"
      ]
     },
     "metadata": {},
     "output_type": "display_data"
    },
    {
     "name": "stdout",
     "output_type": "stream",
     "text": [
      "\tcompleted  0  /  200 epochs\n",
      "\tcompleted  20  /  200 epochs\n",
      "\tcompleted  40  /  200 epochs\n",
      "\tcompleted  60  /  200 epochs\n",
      "\tcompleted  80  /  200 epochs\n",
      "\tcompleted  100  /  200 epochs\n",
      "\tcompleted  120  /  200 epochs\n",
      "\tcompleted  140  /  200 epochs\n",
      "\tcompleted  160  /  200 epochs\n",
      "\tcompleted  180  /  200 epochs\n",
      "Mon Jul 28 07:10:01 2025 Finished embedding\n"
     ]
    },
    {
     "name": "stderr",
     "output_type": "stream",
     "text": [
      "2025-07-28 07:10:01,201 - BERTopic - Dimensionality - Completed ✓\n",
      "2025-07-28 07:10:01,203 - BERTopic - Cluster - Start clustering the reduced embeddings\n",
      "2025-07-28 07:10:01,956 - BERTopic - Cluster - Completed ✓\n",
      "2025-07-28 07:10:01,964 - BERTopic - Representation - Fine-tuning topics using representation models.\n",
      "2025-07-28 07:10:05,440 - BERTopic - Representation - Completed ✓\n"
     ]
    },
    {
     "name": "stdout",
     "output_type": "stream",
     "text": [
      "Waktu eksekusi: 1 menit 26.21 detik.\n"
     ]
    }
   ],
   "source": [
    "# Representation models\n",
    "representation_models = {\n",
    "    \"KeyBERTInspired\": KeyBERTInspired()\n",
    "}\n",
    "\n",
    "# Fit BERTopic\n",
    "sw = StopWatch()\n",
    "sw.start()\n",
    "\n",
    "topic_model= BERTopic(\n",
    "        embedding_model=embedding_model,\n",
    "        umap_model=umap_model,\n",
    "        hdbscan_model=hdbscan_model,\n",
    "        vectorizer_model=vectorizer_model,\n",
    "        representation_model=representation_models,\n",
    "        verbose=True\n",
    ").fit(docs)\n",
    "\n",
    "sw.stop()\n",
    "sw.print()"
   ]
  },
  {
   "cell_type": "code",
   "execution_count": 36,
   "id": "fdafa2dc-b886-4563-8308-00c5f4d423a8",
   "metadata": {},
   "outputs": [],
   "source": [
    "topic_info = topic_model.get_topic_info()  \n",
    "id_to_name = topic_info.set_index(\"Topic\")[\"Name\"].to_dict()"
   ]
  },
  {
   "cell_type": "code",
   "execution_count": 37,
   "id": "754e7e58-2e9e-44c1-a0dd-b6c059c86a8e",
   "metadata": {},
   "outputs": [
    {
     "data": {
      "text/plain": [
       "{-1: '-1_berbasis_pengembangan_model_indonesia',\n",
       " 0: '0_menggunakan_deep_deteksi_sistem',\n",
       " 1: '1_wisata_tourism_desa wisata_destinasi',\n",
       " 2: '2_bakteri_tanaman_endofit_senyawa',\n",
       " 3: '3_ikan_perikanan_perairan_pakan',\n",
       " 4: '4_budaya_adat_masyarakat_tradisi',\n",
       " 5: '5_marketing_digital marketing_digital_pemasaran',\n",
       " 6: '6_pangan_ketahanan pangan_ketahanan_petani',\n",
       " 7: '7_listrik_energi_pembangkit_surya',\n",
       " 8: '8_reality_augmented_augmented reality_virtual',\n",
       " 9: '9_matematika_kemampuan_siswa_pembelajaran',\n",
       " 10: '10_inggris_bahasa inggris_bahasa_membaca',\n",
       " 11: '11_kanker_payudara_sel_antikanker',\n",
       " 12: '12_bencana_mitigasi_banjir_tsunami',\n",
       " 13: '13_green_hijau_green economy_economy',\n",
       " 14: '14_antioksidan_ekstrak_daun_etanol',\n",
       " 15: '15_ion_sensor_material_oksida',\n",
       " 16: '16_berpikir_keterampilan_berpikir kritis_kritis',\n",
       " 17: '17_sapi_daging_ayam_telur',\n",
       " 18: '18_diabetes_tikus_ekstrak_daun',\n",
       " 19: '19_nanopartikel_luka_ekstrak_delivery',\n",
       " 20: '20_ibu_bayi_stunting_pencegahan',\n",
       " 21: '21_katalis_bahan bakar_bakar_menjadi',\n",
       " 22: '22_sampah_pengelolaan_sirkular_karbon',\n",
       " 23: '23_perusahaan_korupsi_fraud_bank',\n",
       " 24: '24_keluarga_remaja_mental_kesehatan mental',\n",
       " 25: '25_keuangan_literasi_financial_inklusi keuangan',\n",
       " 26: '26_padi_hasil_varietas_sawah',\n",
       " 27: '27_limbah_material_struktur_beban',\n",
       " 28: '28_hutan_iklim_masyarakat_berkelanjutan',\n",
       " 29: '29_karyawan_organizational_organisasi_work',\n",
       " 30: '30_islam_agama_pendidikan_beragama',\n",
       " 31: '31_olahraga_latihan_usia_fisik',\n",
       " 32: '32_anak_pencegahan_korban_perlindungan',\n",
       " 33: '33_mangrove_ekosistem_ekowisata_pesisir',\n",
       " 34: '34_pasien_obat_pengobatan_resisten',\n",
       " 35: '35_digital_literasi digital_literasi_kompetensi',\n",
       " 36: '36_kesehatan_rumah sakit_sakit_rumah',\n",
       " 37: '37_diabetes_tipe_pasien_kaki',\n",
       " 38: '38_tulang_regenerasi_bone_nanofiber',\n",
       " 39: '39_gender_perempuan_wanita_kesetaraan gender',\n",
       " 40: '40_degradasi_zat_warna_sintesis',\n",
       " 41: '41_kelapa_kelapa sawit_sawit_tandan kosong',\n",
       " 42: '42_remaja_putri_gizi_status gizi',\n",
       " 43: '43_game_permainan_meningkatkan kemampuan_edukasi',\n",
       " 44: '44_guru_sekolah_penggerak_kepala',\n",
       " 45: '45_air_sungai_air sungai_das',\n",
       " 46: '46_kewirausahaan_berwirausaha_mahasiswa_intensi',\n",
       " 47: '47_korban_remaja_konseling_sekolah',\n",
       " 48: '48_hipertensi_pasien_hidup_kepatuhan',\n",
       " 49: '49_model pembelajaran_pembelajaran_learning_belajar',\n",
       " 50: '50_syariah_keuangan_islam_perbankan syariah',\n",
       " 51: '51_membran_selulosa_biokomposit_oxide',\n",
       " 52: '52_akut_molekuler_karakterisasi_infeksi',\n",
       " 53: '53_halal_muslim_tourism_wisata',\n",
       " 54: '54_sapi_pakan_peternakan_ternak',\n",
       " 55: '55_media_media sosial_sosial_2024',\n",
       " 56: '56_ikan_ikan nila_nila_pakan',\n",
       " 57: '57_halal_sertifikasi_produk_rantai pasok'}"
      ]
     },
     "execution_count": 37,
     "metadata": {},
     "output_type": "execute_result"
    }
   ],
   "source": [
    "id_to_name"
   ]
  },
  {
   "cell_type": "code",
   "execution_count": 38,
   "id": "7f420d5c-667d-46d6-9b06-e36ec3338263",
   "metadata": {},
   "outputs": [
    {
     "data": {
      "text/html": [
       "<div>\n",
       "<style scoped>\n",
       "    .dataframe tbody tr th:only-of-type {\n",
       "        vertical-align: middle;\n",
       "    }\n",
       "\n",
       "    .dataframe tbody tr th {\n",
       "        vertical-align: top;\n",
       "    }\n",
       "\n",
       "    .dataframe thead th {\n",
       "        text-align: right;\n",
       "    }\n",
       "</style>\n",
       "<table border=\"1\" class=\"dataframe\">\n",
       "  <thead>\n",
       "    <tr style=\"text-align: right;\">\n",
       "      <th></th>\n",
       "      <th>Topic</th>\n",
       "      <th>Count</th>\n",
       "      <th>Name</th>\n",
       "      <th>Representation</th>\n",
       "      <th>KeyBERTInspired</th>\n",
       "      <th>Representative_Docs</th>\n",
       "    </tr>\n",
       "  </thead>\n",
       "  <tbody>\n",
       "    <tr>\n",
       "      <th>0</th>\n",
       "      <td>-1</td>\n",
       "      <td>6692</td>\n",
       "      <td>-1_berbasis_pengembangan_model_indonesia</td>\n",
       "      <td>[berbasis, pengembangan, model, indonesia, men...</td>\n",
       "      <td>[pembelajaran, learning, pendidikan, sekolah d...</td>\n",
       "      <td>[konstruktivisme model pembelajaran cognitive ...</td>\n",
       "    </tr>\n",
       "    <tr>\n",
       "      <th>1</th>\n",
       "      <td>0</td>\n",
       "      <td>586</td>\n",
       "      <td>0_menggunakan_deep_deteksi_sistem</td>\n",
       "      <td>[menggunakan, deep, deteksi, sistem, learning,...</td>\n",
       "      <td>[machine learning, neural network, artificial ...</td>\n",
       "      <td>[pengklasifikasi bibit kelapa menggunakan algo...</td>\n",
       "    </tr>\n",
       "    <tr>\n",
       "      <th>2</th>\n",
       "      <td>1</td>\n",
       "      <td>455</td>\n",
       "      <td>1_wisata_tourism_desa wisata_destinasi</td>\n",
       "      <td>[wisata, tourism, desa wisata, destinasi, desa...</td>\n",
       "      <td>[tourism, desa wisata, wisatawan, wisata, kota...</td>\n",
       "      <td>[optimalisasi desa wisata berbasis umkm melalu...</td>\n",
       "    </tr>\n",
       "    <tr>\n",
       "      <th>3</th>\n",
       "      <td>2</td>\n",
       "      <td>362</td>\n",
       "      <td>2_bakteri_tanaman_endofit_senyawa</td>\n",
       "      <td>[bakteri, tanaman, endofit, senyawa, daun, baw...</td>\n",
       "      <td>[bakteri, senyawa bioaktif, infeksi, bioaktif,...</td>\n",
       "      <td>[analisis senyawa bioaktif identifikasi moleku...</td>\n",
       "    </tr>\n",
       "    <tr>\n",
       "      <th>4</th>\n",
       "      <td>3</td>\n",
       "      <td>208</td>\n",
       "      <td>3_ikan_perikanan_perairan_pakan</td>\n",
       "      <td>[ikan, perikanan, perairan, pakan, dna, endemi...</td>\n",
       "      <td>[perikanan, ikan, ekosistem, wilayah pesisir, ...</td>\n",
       "      <td>[rekonstruksi modernisasi perikanan tangkap tr...</td>\n",
       "    </tr>\n",
       "    <tr>\n",
       "      <th>5</th>\n",
       "      <td>4</td>\n",
       "      <td>180</td>\n",
       "      <td>4_budaya_adat_masyarakat_tradisi</td>\n",
       "      <td>[budaya, adat, masyarakat, tradisi, suku, iden...</td>\n",
       "      <td>[masyarakat adat, masyarakat suku, budaya loka...</td>\n",
       "      <td>[elaborasi studi antropologi hukum antropoling...</td>\n",
       "    </tr>\n",
       "    <tr>\n",
       "      <th>6</th>\n",
       "      <td>5</td>\n",
       "      <td>173</td>\n",
       "      <td>5_marketing_digital marketing_digital_pemasaran</td>\n",
       "      <td>[marketing, digital marketing, digital, pemasa...</td>\n",
       "      <td>[digital marketing, pemasaran digital, marketi...</td>\n",
       "      <td>[kpopfikasi digital marketing akselerasi visib...</td>\n",
       "    </tr>\n",
       "    <tr>\n",
       "      <th>7</th>\n",
       "      <td>6</td>\n",
       "      <td>169</td>\n",
       "      <td>6_pangan_ketahanan pangan_ketahanan_petani</td>\n",
       "      <td>[pangan, ketahanan pangan, ketahanan, petani, ...</td>\n",
       "      <td>[ketahanan pangan, mitigasi perubahan iklim, p...</td>\n",
       "      <td>[transformasi lumbung pangan desa berketahanan...</td>\n",
       "    </tr>\n",
       "    <tr>\n",
       "      <th>8</th>\n",
       "      <td>7</td>\n",
       "      <td>169</td>\n",
       "      <td>7_listrik_energi_pembangkit_surya</td>\n",
       "      <td>[listrik, energi, pembangkit, surya, tenaga, p...</td>\n",
       "      <td>[pembangkit listrik tenaga, energi terbarukan,...</td>\n",
       "      <td>[optimalisasi energi angin pembangkit listrik ...</td>\n",
       "    </tr>\n",
       "    <tr>\n",
       "      <th>9</th>\n",
       "      <td>8</td>\n",
       "      <td>162</td>\n",
       "      <td>8_reality_augmented_augmented reality_virtual</td>\n",
       "      <td>[reality, augmented, augmented reality, virtua...</td>\n",
       "      <td>[berbasis augmented reality, augmented reality...</td>\n",
       "      <td>[optimalisasi pembelajaran vokasional berbasis...</td>\n",
       "    </tr>\n",
       "    <tr>\n",
       "      <th>10</th>\n",
       "      <td>9</td>\n",
       "      <td>156</td>\n",
       "      <td>9_matematika_kemampuan_siswa_pembelajaran</td>\n",
       "      <td>[matematika, kemampuan, siswa, pembelajaran, m...</td>\n",
       "      <td>[pembelajaran berdiferensiasi, model pembelaja...</td>\n",
       "      <td>[pengembangan bahan ajar soal cerita matematik...</td>\n",
       "    </tr>\n",
       "    <tr>\n",
       "      <th>11</th>\n",
       "      <td>10</td>\n",
       "      <td>153</td>\n",
       "      <td>10_inggris_bahasa inggris_bahasa_membaca</td>\n",
       "      <td>[inggris, bahasa inggris, bahasa, membaca, pem...</td>\n",
       "      <td>[pembelajaran bahasa, bahasa inggris, pembelaj...</td>\n",
       "      <td>[kelas keterampilan menulis bahasa inggris ana...</td>\n",
       "    </tr>\n",
       "    <tr>\n",
       "      <th>12</th>\n",
       "      <td>11</td>\n",
       "      <td>151</td>\n",
       "      <td>11_kanker_payudara_sel_antikanker</td>\n",
       "      <td>[kanker, payudara, sel, antikanker, senyawa, a...</td>\n",
       "      <td>[antikanker, kanker, bahan baku obat, inhibito...</td>\n",
       "      <td>[evaluasi efek sinergis ac01 ac02 agen kemoter...</td>\n",
       "    </tr>\n",
       "    <tr>\n",
       "      <th>13</th>\n",
       "      <td>12</td>\n",
       "      <td>150</td>\n",
       "      <td>12_bencana_mitigasi_banjir_tsunami</td>\n",
       "      <td>[bencana, mitigasi, banjir, tsunami, bumi, ris...</td>\n",
       "      <td>[rawan bencana, bencana, upaya mitigasi, banji...</td>\n",
       "      <td>[komunikasi risiko bencana mendukung ketahanan...</td>\n",
       "    </tr>\n",
       "    <tr>\n",
       "      <th>14</th>\n",
       "      <td>13</td>\n",
       "      <td>140</td>\n",
       "      <td>13_green_hijau_green economy_economy</td>\n",
       "      <td>[green, hijau, green economy, economy, umkm, p...</td>\n",
       "      <td>[ekonomi hijau, green economy, berbasis green,...</td>\n",
       "      <td>[pengembangan model praktik green banking gree...</td>\n",
       "    </tr>\n",
       "    <tr>\n",
       "      <th>15</th>\n",
       "      <td>14</td>\n",
       "      <td>123</td>\n",
       "      <td>14_antioksidan_ekstrak_daun_etanol</td>\n",
       "      <td>[antioksidan, ekstrak, daun, etanol, aktivitas...</td>\n",
       "      <td>[aktivitas antioksidan, antioksidan, senyawa b...</td>\n",
       "      <td>[aktivitas antioksidan ekstrak etanol etil ase...</td>\n",
       "    </tr>\n",
       "    <tr>\n",
       "      <th>16</th>\n",
       "      <td>15</td>\n",
       "      <td>111</td>\n",
       "      <td>15_ion_sensor_material_oksida</td>\n",
       "      <td>[ion, sensor, material, oksida, termodifikasi,...</td>\n",
       "      <td>[ion, sensor, pengembangan sensor, logam, nano...</td>\n",
       "      <td>[fabrikasi sensor ion timbal ii pb2 berbasiska...</td>\n",
       "    </tr>\n",
       "    <tr>\n",
       "      <th>17</th>\n",
       "      <td>16</td>\n",
       "      <td>109</td>\n",
       "      <td>16_berpikir_keterampilan_berpikir kritis_kritis</td>\n",
       "      <td>[berpikir, keterampilan, berpikir kritis, krit...</td>\n",
       "      <td>[pengembangan model pembelajaran, learning ber...</td>\n",
       "      <td>[implementasi pembelajaran berdiferensiasi ber...</td>\n",
       "    </tr>\n",
       "    <tr>\n",
       "      <th>18</th>\n",
       "      <td>17</td>\n",
       "      <td>102</td>\n",
       "      <td>17_sapi_daging_ayam_telur</td>\n",
       "      <td>[sapi, daging, ayam, telur, tepung, kambing, k...</td>\n",
       "      <td>[ayam, pangan fungsional, telur, tepung, dagin...</td>\n",
       "      <td>[produksi daging ayam broiler fungsional tingg...</td>\n",
       "    </tr>\n",
       "    <tr>\n",
       "      <th>19</th>\n",
       "      <td>18</td>\n",
       "      <td>101</td>\n",
       "      <td>18_diabetes_tikus_ekstrak_daun</td>\n",
       "      <td>[diabetes, tikus, ekstrak, daun, ekstrak daun,...</td>\n",
       "      <td>[penderita diabetes, diabetes, kadar glukosa, ...</td>\n",
       "      <td>[granul instan berbasis ekstrak daun undis jah...</td>\n",
       "    </tr>\n",
       "    <tr>\n",
       "      <th>20</th>\n",
       "      <td>19</td>\n",
       "      <td>94</td>\n",
       "      <td>19_nanopartikel_luka_ekstrak_delivery</td>\n",
       "      <td>[nanopartikel, luka, ekstrak, delivery, sediaa...</td>\n",
       "      <td>[nanopartikel, nanofiber, aktivitas antioksida...</td>\n",
       "      <td>[inovasi sediaan nanoemulsi gel ekstrak daun p...</td>\n",
       "    </tr>\n",
       "    <tr>\n",
       "      <th>21</th>\n",
       "      <td>20</td>\n",
       "      <td>93</td>\n",
       "      <td>20_ibu_bayi_stunting_pencegahan</td>\n",
       "      <td>[ibu, bayi, stunting, pencegahan, pemberian, m...</td>\n",
       "      <td>[bayi, ibu, balita, perawatan, terapi, upaya p...</td>\n",
       "      <td>[model pengembangan aplikasi golden1000 efekti...</td>\n",
       "    </tr>\n",
       "    <tr>\n",
       "      <th>22</th>\n",
       "      <td>21</td>\n",
       "      <td>86</td>\n",
       "      <td>21_katalis_bahan bakar_bakar_menjadi</td>\n",
       "      <td>[katalis, bahan bakar, bakar, menjadi, minyak,...</td>\n",
       "      <td>[limbah biomassa, biomassa, limbah organik, ba...</td>\n",
       "      <td>[pengembangan katalis hijau berbasis zeolit ka...</td>\n",
       "    </tr>\n",
       "    <tr>\n",
       "      <th>23</th>\n",
       "      <td>22</td>\n",
       "      <td>84</td>\n",
       "      <td>22_sampah_pengelolaan_sirkular_karbon</td>\n",
       "      <td>[sampah, pengelolaan, sirkular, karbon, kota, ...</td>\n",
       "      <td>[waste, strategi pengelolaan, sampah, lingkung...</td>\n",
       "      <td>[pengelolaan sampah laut melalui bank sampah b...</td>\n",
       "    </tr>\n",
       "    <tr>\n",
       "      <th>24</th>\n",
       "      <td>23</td>\n",
       "      <td>82</td>\n",
       "      <td>23_perusahaan_korupsi_fraud_bank</td>\n",
       "      <td>[perusahaan, korupsi, fraud, bank, keuangan, i...</td>\n",
       "      <td>[kinerja keuangan, perbankan, akuntansi, keuan...</td>\n",
       "      <td>[pengaruh rasio klaim hasil investasi rasio re...</td>\n",
       "    </tr>\n",
       "    <tr>\n",
       "      <th>25</th>\n",
       "      <td>24</td>\n",
       "      <td>81</td>\n",
       "      <td>24_keluarga_remaja_mental_kesehatan mental</td>\n",
       "      <td>[keluarga, remaja, mental, kesehatan mental, k...</td>\n",
       "      <td>[kesehatan mental, keluarga, family, psikoeduk...</td>\n",
       "      <td>[pekerti sehati program pendampingan keluarga ...</td>\n",
       "    </tr>\n",
       "    <tr>\n",
       "      <th>26</th>\n",
       "      <td>25</td>\n",
       "      <td>76</td>\n",
       "      <td>25_keuangan_literasi_financial_inklusi keuangan</td>\n",
       "      <td>[keuangan, literasi, financial, inklusi keuang...</td>\n",
       "      <td>[pengelolaan keuangan, inklusi keuangan, kiner...</td>\n",
       "      <td>[penguatan inklusi keuangan digital literasi k...</td>\n",
       "    </tr>\n",
       "    <tr>\n",
       "      <th>27</th>\n",
       "      <td>26</td>\n",
       "      <td>75</td>\n",
       "      <td>26_padi_hasil_varietas_sawah</td>\n",
       "      <td>[padi, hasil, varietas, sawah, analog, ketahan...</td>\n",
       "      <td>[pertanian, budidaya, padi, kacang, petani, ta...</td>\n",
       "      <td>[ekspresi 3 gen pengatur anakan padi moc1 moc3...</td>\n",
       "    </tr>\n",
       "    <tr>\n",
       "      <th>28</th>\n",
       "      <td>27</td>\n",
       "      <td>73</td>\n",
       "      <td>27_limbah_material_struktur_beban</td>\n",
       "      <td>[limbah, material, struktur, beban, abu, ekspe...</td>\n",
       "      <td>[konstruksi, struktur, material, mekanik, infr...</td>\n",
       "      <td>[studi eksperimental numerikal sifat mekanik b...</td>\n",
       "    </tr>\n",
       "    <tr>\n",
       "      <th>29</th>\n",
       "      <td>28</td>\n",
       "      <td>73</td>\n",
       "      <td>28_hutan_iklim_masyarakat_berkelanjutan</td>\n",
       "      <td>[hutan, iklim, masyarakat, berkelanjutan, desa...</td>\n",
       "      <td>[usaha milik desa, pembangunan berkelanjutan, ...</td>\n",
       "      <td>[analisis kinerja berkelanjutan badan usaha mi...</td>\n",
       "    </tr>\n",
       "    <tr>\n",
       "      <th>30</th>\n",
       "      <td>29</td>\n",
       "      <td>67</td>\n",
       "      <td>29_karyawan_organizational_organisasi_work</td>\n",
       "      <td>[karyawan, organizational, organisasi, work, p...</td>\n",
       "      <td>[karyawan, pekerja, organizational, wellbeing,...</td>\n",
       "      <td>[pengaruh perceived organizational support psy...</td>\n",
       "    </tr>\n",
       "    <tr>\n",
       "      <th>31</th>\n",
       "      <td>30</td>\n",
       "      <td>67</td>\n",
       "      <td>30_islam_agama_pendidikan_beragama</td>\n",
       "      <td>[islam, agama, pendidikan, beragama, al, pembe...</td>\n",
       "      <td>[islam, muhammadiyah, syariah, beragama, agama...</td>\n",
       "      <td>[agama kelestarian lingkungan identifikasi fik...</td>\n",
       "    </tr>\n",
       "    <tr>\n",
       "      <th>32</th>\n",
       "      <td>31</td>\n",
       "      <td>65</td>\n",
       "      <td>31_olahraga_latihan_usia_fisik</td>\n",
       "      <td>[olahraga, latihan, usia, fisik, tahun, traini...</td>\n",
       "      <td>[latihan, aktivitas fisik, training, skills, o...</td>\n",
       "      <td>[model latihan keterampilan teknik jatuhan pen...</td>\n",
       "    </tr>\n",
       "    <tr>\n",
       "      <th>33</th>\n",
       "      <td>32</td>\n",
       "      <td>65</td>\n",
       "      <td>32_anak_pencegahan_korban_perlindungan</td>\n",
       "      <td>[anak, pencegahan, korban, perlindungan, perem...</td>\n",
       "      <td>[anak berbasis, anak melalui, upaya pencegahan...</td>\n",
       "      <td>[implementasi perlindungan hukum anak korban t...</td>\n",
       "    </tr>\n",
       "    <tr>\n",
       "      <th>34</th>\n",
       "      <td>33</td>\n",
       "      <td>60</td>\n",
       "      <td>33_mangrove_ekosistem_ekowisata_pesisir</td>\n",
       "      <td>[mangrove, ekosistem, ekowisata, pesisir, pula...</td>\n",
       "      <td>[mangrove, ekosistem, kawasan konservasi, kons...</td>\n",
       "      <td>[analisis stok sekuestrasi karbon ekosistem ma...</td>\n",
       "    </tr>\n",
       "    <tr>\n",
       "      <th>35</th>\n",
       "      <td>34</td>\n",
       "      <td>58</td>\n",
       "      <td>34_pasien_obat_pengobatan_resisten</td>\n",
       "      <td>[pasien, obat, pengobatan, resisten, kepatuhan...</td>\n",
       "      <td>[kualitas hidup pasien, kepatuhan pengobatan, ...</td>\n",
       "      <td>[model prediksi lama pengobatan pasien tuberku...</td>\n",
       "    </tr>\n",
       "    <tr>\n",
       "      <th>36</th>\n",
       "      <td>35</td>\n",
       "      <td>56</td>\n",
       "      <td>35_digital_literasi digital_literasi_kompetensi</td>\n",
       "      <td>[digital, literasi digital, literasi, kompeten...</td>\n",
       "      <td>[pembelajaran digital, literasi digital, kompe...</td>\n",
       "      <td>[pengembangan emodul ipa berbasis authenthic l...</td>\n",
       "    </tr>\n",
       "    <tr>\n",
       "      <th>37</th>\n",
       "      <td>36</td>\n",
       "      <td>56</td>\n",
       "      <td>36_kesehatan_rumah sakit_sakit_rumah</td>\n",
       "      <td>[kesehatan, rumah sakit, sakit, rumah, pelayan...</td>\n",
       "      <td>[layanan kesehatan, rumah sakit, pasien, medis...</td>\n",
       "      <td>[peran karakteristik individu lingkungan kerja...</td>\n",
       "    </tr>\n",
       "    <tr>\n",
       "      <th>38</th>\n",
       "      <td>37</td>\n",
       "      <td>52</td>\n",
       "      <td>37_diabetes_tipe_pasien_kaki</td>\n",
       "      <td>[diabetes, tipe, pasien, kaki, penderita, pend...</td>\n",
       "      <td>[penderita diabetes, diabetes, glukosa, kadar ...</td>\n",
       "      <td>[analisis penggunaan insulin pasien diabetes m...</td>\n",
       "    </tr>\n",
       "    <tr>\n",
       "      <th>39</th>\n",
       "      <td>38</td>\n",
       "      <td>49</td>\n",
       "      <td>38_tulang_regenerasi_bone_nanofiber</td>\n",
       "      <td>[tulang, regenerasi, bone, nanofiber, mekanik,...</td>\n",
       "      <td>[tulang, bone, regenerasi, rekonstruksi, biomo...</td>\n",
       "      <td>[tandur tulang kalsium karbonat berbasis cangk...</td>\n",
       "    </tr>\n",
       "    <tr>\n",
       "      <th>40</th>\n",
       "      <td>39</td>\n",
       "      <td>49</td>\n",
       "      <td>39_gender_perempuan_wanita_kesetaraan gender</td>\n",
       "      <td>[gender, perempuan, wanita, kesetaraan gender,...</td>\n",
       "      <td>[kesetaraan gender, gender melalui, peran pere...</td>\n",
       "      <td>[perempuan tangguh ekonomi tumbuh pemberdayaan...</td>\n",
       "    </tr>\n",
       "    <tr>\n",
       "      <th>41</th>\n",
       "      <td>40</td>\n",
       "      <td>46</td>\n",
       "      <td>40_degradasi_zat_warna_sintesis</td>\n",
       "      <td>[degradasi, zat, warna, sintesis, logam, limba...</td>\n",
       "      <td>[degradasi, limbah organik, warna, pewarna, na...</td>\n",
       "      <td>[fabrikasi komposit mnofe3o4 aplikasinya fento...</td>\n",
       "    </tr>\n",
       "    <tr>\n",
       "      <th>42</th>\n",
       "      <td>41</td>\n",
       "      <td>45</td>\n",
       "      <td>41_kelapa_kelapa sawit_sawit_tandan kosong</td>\n",
       "      <td>[kelapa, kelapa sawit, sawit, tandan kosong, k...</td>\n",
       "      <td>[kelapa sawit, kelapa, pemanfaatan limbah, bio...</td>\n",
       "      <td>[hydrophobic composite foam berbasis tandan ko...</td>\n",
       "    </tr>\n",
       "    <tr>\n",
       "      <th>43</th>\n",
       "      <td>42</td>\n",
       "      <td>44</td>\n",
       "      <td>42_remaja_putri_gizi_status gizi</td>\n",
       "      <td>[remaja, putri, gizi, status gizi, status, kad...</td>\n",
       "      <td>[obesitas, pola makan, remaja, berat, anak usi...</td>\n",
       "      <td>[efek pemberian moringa oleifera diperkaya roy...</td>\n",
       "    </tr>\n",
       "    <tr>\n",
       "      <th>44</th>\n",
       "      <td>43</td>\n",
       "      <td>41</td>\n",
       "      <td>43_game_permainan_meningkatkan kemampuan_edukasi</td>\n",
       "      <td>[game, permainan, meningkatkan kemampuan, eduk...</td>\n",
       "      <td>[learning meningkatkan kemampuan, berbasis pem...</td>\n",
       "      <td>[pembelajaran ipa berdiferensiasi berbasis mob...</td>\n",
       "    </tr>\n",
       "    <tr>\n",
       "      <th>45</th>\n",
       "      <td>44</td>\n",
       "      <td>41</td>\n",
       "      <td>44_guru_sekolah_penggerak_kepala</td>\n",
       "      <td>[guru, sekolah, penggerak, kepala, merdeka, pe...</td>\n",
       "      <td>[implementasi kurikulum, penerapan kurikulum, ...</td>\n",
       "      <td>[transformasi pendidikan mengungkap dampak sig...</td>\n",
       "    </tr>\n",
       "    <tr>\n",
       "      <th>46</th>\n",
       "      <td>45</td>\n",
       "      <td>38</td>\n",
       "      <td>45_air_sungai_air sungai_das</td>\n",
       "      <td>[air, sungai, air sungai, das, kualitas, daera...</td>\n",
       "      <td>[air sungai, daerah aliran sungai, air bersih,...</td>\n",
       "      <td>[optimasi parameter analisis ekonomi proses el...</td>\n",
       "    </tr>\n",
       "    <tr>\n",
       "      <th>47</th>\n",
       "      <td>46</td>\n",
       "      <td>36</td>\n",
       "      <td>46_kewirausahaan_berwirausaha_mahasiswa_intensi</td>\n",
       "      <td>[kewirausahaan, berwirausaha, mahasiswa, inten...</td>\n",
       "      <td>[entrepreneurship, kewirausahaan, entrepreneur...</td>\n",
       "      <td>[membangun ekosistem kewirausahaan perguruan t...</td>\n",
       "    </tr>\n",
       "    <tr>\n",
       "      <th>48</th>\n",
       "      <td>47</td>\n",
       "      <td>33</td>\n",
       "      <td>47_korban_remaja_konseling_sekolah</td>\n",
       "      <td>[korban, remaja, konseling, sekolah, pencegaha...</td>\n",
       "      <td>[siswa sekolah dasar, siswa sekolah, perilaku,...</td>\n",
       "      <td>[pengembangan model bimbingan interpersonal si...</td>\n",
       "    </tr>\n",
       "    <tr>\n",
       "      <th>49</th>\n",
       "      <td>48</td>\n",
       "      <td>31</td>\n",
       "      <td>48_hipertensi_pasien_hidup_kepatuhan</td>\n",
       "      <td>[hipertensi, pasien, hidup, kepatuhan, jantung...</td>\n",
       "      <td>[kualitas hidup pasien, kepatuhan pengobatan, ...</td>\n",
       "      <td>[pengaruh edukasi berbasis android kepatuhan m...</td>\n",
       "    </tr>\n",
       "    <tr>\n",
       "      <th>50</th>\n",
       "      <td>49</td>\n",
       "      <td>30</td>\n",
       "      <td>49_model pembelajaran_pembelajaran_learning_be...</td>\n",
       "      <td>[model pembelajaran, pembelajaran, learning, b...</td>\n",
       "      <td>[pengembangan model pembelajaran, model pembel...</td>\n",
       "      <td>[pengembangan lkpd model resource based learni...</td>\n",
       "    </tr>\n",
       "    <tr>\n",
       "      <th>51</th>\n",
       "      <td>50</td>\n",
       "      <td>28</td>\n",
       "      <td>50_syariah_keuangan_islam_perbankan syariah</td>\n",
       "      <td>[syariah, keuangan, islam, perbankan syariah, ...</td>\n",
       "      <td>[perbankan syariah, syariah, islam, muslim, in...</td>\n",
       "      <td>[analisa perilaku nasabah bank syariah indones...</td>\n",
       "    </tr>\n",
       "    <tr>\n",
       "      <th>52</th>\n",
       "      <td>51</td>\n",
       "      <td>28</td>\n",
       "      <td>51_membran_selulosa_biokomposit_oxide</td>\n",
       "      <td>[membran, selulosa, biokomposit, oxide, materi...</td>\n",
       "      <td>[membran, biokomposit, kimia, komposit, sintes...</td>\n",
       "      <td>[sintesis membran flat molekul tercetak urea c...</td>\n",
       "    </tr>\n",
       "    <tr>\n",
       "      <th>53</th>\n",
       "      <td>52</td>\n",
       "      <td>26</td>\n",
       "      <td>52_akut_molekuler_karakterisasi_infeksi</td>\n",
       "      <td>[akut, molekuler, karakterisasi, infeksi, babi...</td>\n",
       "      <td>[infeksi, disease, genomik, imun, pandemi, seq...</td>\n",
       "      <td>[pemetaan virus penyakit mulut kuku karakteris...</td>\n",
       "    </tr>\n",
       "    <tr>\n",
       "      <th>54</th>\n",
       "      <td>53</td>\n",
       "      <td>23</td>\n",
       "      <td>53_halal_muslim_tourism_wisata</td>\n",
       "      <td>[halal, muslim, tourism, wisata, process, wisa...</td>\n",
       "      <td>[halal, tourism, wisatawan, wisata, berkelanju...</td>\n",
       "      <td>[pariwisata lombok masihkah halal, kajian neur...</td>\n",
       "    </tr>\n",
       "    <tr>\n",
       "      <th>55</th>\n",
       "      <td>54</td>\n",
       "      <td>23</td>\n",
       "      <td>54_sapi_pakan_peternakan_ternak</td>\n",
       "      <td>[sapi, pakan, peternakan, ternak, peningkatan,...</td>\n",
       "      <td>[sapi, peternakan, budidaya, ketahanan pangan,...</td>\n",
       "      <td>[pengembangan model kemitraan usaha peternakan...</td>\n",
       "    </tr>\n",
       "    <tr>\n",
       "      <th>56</th>\n",
       "      <td>55</td>\n",
       "      <td>22</td>\n",
       "      <td>55_media_media sosial_sosial_2024</td>\n",
       "      <td>[media, media sosial, sosial, 2024, konten, ko...</td>\n",
       "      <td>[media sosial, melalui media, media digital, m...</td>\n",
       "      <td>[analisis trending topics media sosial menggun...</td>\n",
       "    </tr>\n",
       "    <tr>\n",
       "      <th>57</th>\n",
       "      <td>56</td>\n",
       "      <td>21</td>\n",
       "      <td>56_ikan_ikan nila_nila_pakan</td>\n",
       "      <td>[ikan, ikan nila, nila, pakan, tepung, amino, ...</td>\n",
       "      <td>[ikan nila, ikan, ikan bandeng, ikan patin, te...</td>\n",
       "      <td>[analisis substitusi pakan azolla microphylla ...</td>\n",
       "    </tr>\n",
       "    <tr>\n",
       "      <th>58</th>\n",
       "      <td>57</td>\n",
       "      <td>21</td>\n",
       "      <td>57_halal_sertifikasi_produk_rantai pasok</td>\n",
       "      <td>[halal, sertifikasi, produk, rantai pasok, pas...</td>\n",
       "      <td>[halal, perilaku konsumen, konsumen, papua bar...</td>\n",
       "      <td>[perancangan model percepatan implementasi ser...</td>\n",
       "    </tr>\n",
       "  </tbody>\n",
       "</table>\n",
       "</div>"
      ],
      "text/plain": [
       "    Topic  Count                                               Name  \\\n",
       "0      -1   6692           -1_berbasis_pengembangan_model_indonesia   \n",
       "1       0    586                  0_menggunakan_deep_deteksi_sistem   \n",
       "2       1    455             1_wisata_tourism_desa wisata_destinasi   \n",
       "3       2    362                  2_bakteri_tanaman_endofit_senyawa   \n",
       "4       3    208                    3_ikan_perikanan_perairan_pakan   \n",
       "5       4    180                   4_budaya_adat_masyarakat_tradisi   \n",
       "6       5    173    5_marketing_digital marketing_digital_pemasaran   \n",
       "7       6    169         6_pangan_ketahanan pangan_ketahanan_petani   \n",
       "8       7    169                  7_listrik_energi_pembangkit_surya   \n",
       "9       8    162      8_reality_augmented_augmented reality_virtual   \n",
       "10      9    156          9_matematika_kemampuan_siswa_pembelajaran   \n",
       "11     10    153           10_inggris_bahasa inggris_bahasa_membaca   \n",
       "12     11    151                  11_kanker_payudara_sel_antikanker   \n",
       "13     12    150                 12_bencana_mitigasi_banjir_tsunami   \n",
       "14     13    140               13_green_hijau_green economy_economy   \n",
       "15     14    123                 14_antioksidan_ekstrak_daun_etanol   \n",
       "16     15    111                      15_ion_sensor_material_oksida   \n",
       "17     16    109    16_berpikir_keterampilan_berpikir kritis_kritis   \n",
       "18     17    102                          17_sapi_daging_ayam_telur   \n",
       "19     18    101                     18_diabetes_tikus_ekstrak_daun   \n",
       "20     19     94              19_nanopartikel_luka_ekstrak_delivery   \n",
       "21     20     93                    20_ibu_bayi_stunting_pencegahan   \n",
       "22     21     86               21_katalis_bahan bakar_bakar_menjadi   \n",
       "23     22     84              22_sampah_pengelolaan_sirkular_karbon   \n",
       "24     23     82                   23_perusahaan_korupsi_fraud_bank   \n",
       "25     24     81         24_keluarga_remaja_mental_kesehatan mental   \n",
       "26     25     76    25_keuangan_literasi_financial_inklusi keuangan   \n",
       "27     26     75                       26_padi_hasil_varietas_sawah   \n",
       "28     27     73                  27_limbah_material_struktur_beban   \n",
       "29     28     73            28_hutan_iklim_masyarakat_berkelanjutan   \n",
       "30     29     67         29_karyawan_organizational_organisasi_work   \n",
       "31     30     67                 30_islam_agama_pendidikan_beragama   \n",
       "32     31     65                     31_olahraga_latihan_usia_fisik   \n",
       "33     32     65             32_anak_pencegahan_korban_perlindungan   \n",
       "34     33     60            33_mangrove_ekosistem_ekowisata_pesisir   \n",
       "35     34     58                 34_pasien_obat_pengobatan_resisten   \n",
       "36     35     56    35_digital_literasi digital_literasi_kompetensi   \n",
       "37     36     56               36_kesehatan_rumah sakit_sakit_rumah   \n",
       "38     37     52                       37_diabetes_tipe_pasien_kaki   \n",
       "39     38     49                38_tulang_regenerasi_bone_nanofiber   \n",
       "40     39     49       39_gender_perempuan_wanita_kesetaraan gender   \n",
       "41     40     46                    40_degradasi_zat_warna_sintesis   \n",
       "42     41     45         41_kelapa_kelapa sawit_sawit_tandan kosong   \n",
       "43     42     44                   42_remaja_putri_gizi_status gizi   \n",
       "44     43     41   43_game_permainan_meningkatkan kemampuan_edukasi   \n",
       "45     44     41                   44_guru_sekolah_penggerak_kepala   \n",
       "46     45     38                       45_air_sungai_air sungai_das   \n",
       "47     46     36    46_kewirausahaan_berwirausaha_mahasiswa_intensi   \n",
       "48     47     33                 47_korban_remaja_konseling_sekolah   \n",
       "49     48     31               48_hipertensi_pasien_hidup_kepatuhan   \n",
       "50     49     30  49_model pembelajaran_pembelajaran_learning_be...   \n",
       "51     50     28        50_syariah_keuangan_islam_perbankan syariah   \n",
       "52     51     28              51_membran_selulosa_biokomposit_oxide   \n",
       "53     52     26            52_akut_molekuler_karakterisasi_infeksi   \n",
       "54     53     23                     53_halal_muslim_tourism_wisata   \n",
       "55     54     23                    54_sapi_pakan_peternakan_ternak   \n",
       "56     55     22                  55_media_media sosial_sosial_2024   \n",
       "57     56     21                       56_ikan_ikan nila_nila_pakan   \n",
       "58     57     21           57_halal_sertifikasi_produk_rantai pasok   \n",
       "\n",
       "                                       Representation  \\\n",
       "0   [berbasis, pengembangan, model, indonesia, men...   \n",
       "1   [menggunakan, deep, deteksi, sistem, learning,...   \n",
       "2   [wisata, tourism, desa wisata, destinasi, desa...   \n",
       "3   [bakteri, tanaman, endofit, senyawa, daun, baw...   \n",
       "4   [ikan, perikanan, perairan, pakan, dna, endemi...   \n",
       "5   [budaya, adat, masyarakat, tradisi, suku, iden...   \n",
       "6   [marketing, digital marketing, digital, pemasa...   \n",
       "7   [pangan, ketahanan pangan, ketahanan, petani, ...   \n",
       "8   [listrik, energi, pembangkit, surya, tenaga, p...   \n",
       "9   [reality, augmented, augmented reality, virtua...   \n",
       "10  [matematika, kemampuan, siswa, pembelajaran, m...   \n",
       "11  [inggris, bahasa inggris, bahasa, membaca, pem...   \n",
       "12  [kanker, payudara, sel, antikanker, senyawa, a...   \n",
       "13  [bencana, mitigasi, banjir, tsunami, bumi, ris...   \n",
       "14  [green, hijau, green economy, economy, umkm, p...   \n",
       "15  [antioksidan, ekstrak, daun, etanol, aktivitas...   \n",
       "16  [ion, sensor, material, oksida, termodifikasi,...   \n",
       "17  [berpikir, keterampilan, berpikir kritis, krit...   \n",
       "18  [sapi, daging, ayam, telur, tepung, kambing, k...   \n",
       "19  [diabetes, tikus, ekstrak, daun, ekstrak daun,...   \n",
       "20  [nanopartikel, luka, ekstrak, delivery, sediaa...   \n",
       "21  [ibu, bayi, stunting, pencegahan, pemberian, m...   \n",
       "22  [katalis, bahan bakar, bakar, menjadi, minyak,...   \n",
       "23  [sampah, pengelolaan, sirkular, karbon, kota, ...   \n",
       "24  [perusahaan, korupsi, fraud, bank, keuangan, i...   \n",
       "25  [keluarga, remaja, mental, kesehatan mental, k...   \n",
       "26  [keuangan, literasi, financial, inklusi keuang...   \n",
       "27  [padi, hasil, varietas, sawah, analog, ketahan...   \n",
       "28  [limbah, material, struktur, beban, abu, ekspe...   \n",
       "29  [hutan, iklim, masyarakat, berkelanjutan, desa...   \n",
       "30  [karyawan, organizational, organisasi, work, p...   \n",
       "31  [islam, agama, pendidikan, beragama, al, pembe...   \n",
       "32  [olahraga, latihan, usia, fisik, tahun, traini...   \n",
       "33  [anak, pencegahan, korban, perlindungan, perem...   \n",
       "34  [mangrove, ekosistem, ekowisata, pesisir, pula...   \n",
       "35  [pasien, obat, pengobatan, resisten, kepatuhan...   \n",
       "36  [digital, literasi digital, literasi, kompeten...   \n",
       "37  [kesehatan, rumah sakit, sakit, rumah, pelayan...   \n",
       "38  [diabetes, tipe, pasien, kaki, penderita, pend...   \n",
       "39  [tulang, regenerasi, bone, nanofiber, mekanik,...   \n",
       "40  [gender, perempuan, wanita, kesetaraan gender,...   \n",
       "41  [degradasi, zat, warna, sintesis, logam, limba...   \n",
       "42  [kelapa, kelapa sawit, sawit, tandan kosong, k...   \n",
       "43  [remaja, putri, gizi, status gizi, status, kad...   \n",
       "44  [game, permainan, meningkatkan kemampuan, eduk...   \n",
       "45  [guru, sekolah, penggerak, kepala, merdeka, pe...   \n",
       "46  [air, sungai, air sungai, das, kualitas, daera...   \n",
       "47  [kewirausahaan, berwirausaha, mahasiswa, inten...   \n",
       "48  [korban, remaja, konseling, sekolah, pencegaha...   \n",
       "49  [hipertensi, pasien, hidup, kepatuhan, jantung...   \n",
       "50  [model pembelajaran, pembelajaran, learning, b...   \n",
       "51  [syariah, keuangan, islam, perbankan syariah, ...   \n",
       "52  [membran, selulosa, biokomposit, oxide, materi...   \n",
       "53  [akut, molekuler, karakterisasi, infeksi, babi...   \n",
       "54  [halal, muslim, tourism, wisata, process, wisa...   \n",
       "55  [sapi, pakan, peternakan, ternak, peningkatan,...   \n",
       "56  [media, media sosial, sosial, 2024, konten, ko...   \n",
       "57  [ikan, ikan nila, nila, pakan, tepung, amino, ...   \n",
       "58  [halal, sertifikasi, produk, rantai pasok, pas...   \n",
       "\n",
       "                                      KeyBERTInspired  \\\n",
       "0   [pembelajaran, learning, pendidikan, sekolah d...   \n",
       "1   [machine learning, neural network, artificial ...   \n",
       "2   [tourism, desa wisata, wisatawan, wisata, kota...   \n",
       "3   [bakteri, senyawa bioaktif, infeksi, bioaktif,...   \n",
       "4   [perikanan, ikan, ekosistem, wilayah pesisir, ...   \n",
       "5   [masyarakat adat, masyarakat suku, budaya loka...   \n",
       "6   [digital marketing, pemasaran digital, marketi...   \n",
       "7   [ketahanan pangan, mitigasi perubahan iklim, p...   \n",
       "8   [pembangkit listrik tenaga, energi terbarukan,...   \n",
       "9   [berbasis augmented reality, augmented reality...   \n",
       "10  [pembelajaran berdiferensiasi, model pembelaja...   \n",
       "11  [pembelajaran bahasa, bahasa inggris, pembelaj...   \n",
       "12  [antikanker, kanker, bahan baku obat, inhibito...   \n",
       "13  [rawan bencana, bencana, upaya mitigasi, banji...   \n",
       "14  [ekonomi hijau, green economy, berbasis green,...   \n",
       "15  [aktivitas antioksidan, antioksidan, senyawa b...   \n",
       "16  [ion, sensor, pengembangan sensor, logam, nano...   \n",
       "17  [pengembangan model pembelajaran, learning ber...   \n",
       "18  [ayam, pangan fungsional, telur, tepung, dagin...   \n",
       "19  [penderita diabetes, diabetes, kadar glukosa, ...   \n",
       "20  [nanopartikel, nanofiber, aktivitas antioksida...   \n",
       "21  [bayi, ibu, balita, perawatan, terapi, upaya p...   \n",
       "22  [limbah biomassa, biomassa, limbah organik, ba...   \n",
       "23  [waste, strategi pengelolaan, sampah, lingkung...   \n",
       "24  [kinerja keuangan, perbankan, akuntansi, keuan...   \n",
       "25  [kesehatan mental, keluarga, family, psikoeduk...   \n",
       "26  [pengelolaan keuangan, inklusi keuangan, kiner...   \n",
       "27  [pertanian, budidaya, padi, kacang, petani, ta...   \n",
       "28  [konstruksi, struktur, material, mekanik, infr...   \n",
       "29  [usaha milik desa, pembangunan berkelanjutan, ...   \n",
       "30  [karyawan, pekerja, organizational, wellbeing,...   \n",
       "31  [islam, muhammadiyah, syariah, beragama, agama...   \n",
       "32  [latihan, aktivitas fisik, training, skills, o...   \n",
       "33  [anak berbasis, anak melalui, upaya pencegahan...   \n",
       "34  [mangrove, ekosistem, kawasan konservasi, kons...   \n",
       "35  [kualitas hidup pasien, kepatuhan pengobatan, ...   \n",
       "36  [pembelajaran digital, literasi digital, kompe...   \n",
       "37  [layanan kesehatan, rumah sakit, pasien, medis...   \n",
       "38  [penderita diabetes, diabetes, glukosa, kadar ...   \n",
       "39  [tulang, bone, regenerasi, rekonstruksi, biomo...   \n",
       "40  [kesetaraan gender, gender melalui, peran pere...   \n",
       "41  [degradasi, limbah organik, warna, pewarna, na...   \n",
       "42  [kelapa sawit, kelapa, pemanfaatan limbah, bio...   \n",
       "43  [obesitas, pola makan, remaja, berat, anak usi...   \n",
       "44  [learning meningkatkan kemampuan, berbasis pem...   \n",
       "45  [implementasi kurikulum, penerapan kurikulum, ...   \n",
       "46  [air sungai, daerah aliran sungai, air bersih,...   \n",
       "47  [entrepreneurship, kewirausahaan, entrepreneur...   \n",
       "48  [siswa sekolah dasar, siswa sekolah, perilaku,...   \n",
       "49  [kualitas hidup pasien, kepatuhan pengobatan, ...   \n",
       "50  [pengembangan model pembelajaran, model pembel...   \n",
       "51  [perbankan syariah, syariah, islam, muslim, in...   \n",
       "52  [membran, biokomposit, kimia, komposit, sintes...   \n",
       "53  [infeksi, disease, genomik, imun, pandemi, seq...   \n",
       "54  [halal, tourism, wisatawan, wisata, berkelanju...   \n",
       "55  [sapi, peternakan, budidaya, ketahanan pangan,...   \n",
       "56  [media sosial, melalui media, media digital, m...   \n",
       "57  [ikan nila, ikan, ikan bandeng, ikan patin, te...   \n",
       "58  [halal, perilaku konsumen, konsumen, papua bar...   \n",
       "\n",
       "                                  Representative_Docs  \n",
       "0   [konstruktivisme model pembelajaran cognitive ...  \n",
       "1   [pengklasifikasi bibit kelapa menggunakan algo...  \n",
       "2   [optimalisasi desa wisata berbasis umkm melalu...  \n",
       "3   [analisis senyawa bioaktif identifikasi moleku...  \n",
       "4   [rekonstruksi modernisasi perikanan tangkap tr...  \n",
       "5   [elaborasi studi antropologi hukum antropoling...  \n",
       "6   [kpopfikasi digital marketing akselerasi visib...  \n",
       "7   [transformasi lumbung pangan desa berketahanan...  \n",
       "8   [optimalisasi energi angin pembangkit listrik ...  \n",
       "9   [optimalisasi pembelajaran vokasional berbasis...  \n",
       "10  [pengembangan bahan ajar soal cerita matematik...  \n",
       "11  [kelas keterampilan menulis bahasa inggris ana...  \n",
       "12  [evaluasi efek sinergis ac01 ac02 agen kemoter...  \n",
       "13  [komunikasi risiko bencana mendukung ketahanan...  \n",
       "14  [pengembangan model praktik green banking gree...  \n",
       "15  [aktivitas antioksidan ekstrak etanol etil ase...  \n",
       "16  [fabrikasi sensor ion timbal ii pb2 berbasiska...  \n",
       "17  [implementasi pembelajaran berdiferensiasi ber...  \n",
       "18  [produksi daging ayam broiler fungsional tingg...  \n",
       "19  [granul instan berbasis ekstrak daun undis jah...  \n",
       "20  [inovasi sediaan nanoemulsi gel ekstrak daun p...  \n",
       "21  [model pengembangan aplikasi golden1000 efekti...  \n",
       "22  [pengembangan katalis hijau berbasis zeolit ka...  \n",
       "23  [pengelolaan sampah laut melalui bank sampah b...  \n",
       "24  [pengaruh rasio klaim hasil investasi rasio re...  \n",
       "25  [pekerti sehati program pendampingan keluarga ...  \n",
       "26  [penguatan inklusi keuangan digital literasi k...  \n",
       "27  [ekspresi 3 gen pengatur anakan padi moc1 moc3...  \n",
       "28  [studi eksperimental numerikal sifat mekanik b...  \n",
       "29  [analisis kinerja berkelanjutan badan usaha mi...  \n",
       "30  [pengaruh perceived organizational support psy...  \n",
       "31  [agama kelestarian lingkungan identifikasi fik...  \n",
       "32  [model latihan keterampilan teknik jatuhan pen...  \n",
       "33  [implementasi perlindungan hukum anak korban t...  \n",
       "34  [analisis stok sekuestrasi karbon ekosistem ma...  \n",
       "35  [model prediksi lama pengobatan pasien tuberku...  \n",
       "36  [pengembangan emodul ipa berbasis authenthic l...  \n",
       "37  [peran karakteristik individu lingkungan kerja...  \n",
       "38  [analisis penggunaan insulin pasien diabetes m...  \n",
       "39  [tandur tulang kalsium karbonat berbasis cangk...  \n",
       "40  [perempuan tangguh ekonomi tumbuh pemberdayaan...  \n",
       "41  [fabrikasi komposit mnofe3o4 aplikasinya fento...  \n",
       "42  [hydrophobic composite foam berbasis tandan ko...  \n",
       "43  [efek pemberian moringa oleifera diperkaya roy...  \n",
       "44  [pembelajaran ipa berdiferensiasi berbasis mob...  \n",
       "45  [transformasi pendidikan mengungkap dampak sig...  \n",
       "46  [optimasi parameter analisis ekonomi proses el...  \n",
       "47  [membangun ekosistem kewirausahaan perguruan t...  \n",
       "48  [pengembangan model bimbingan interpersonal si...  \n",
       "49  [pengaruh edukasi berbasis android kepatuhan m...  \n",
       "50  [pengembangan lkpd model resource based learni...  \n",
       "51  [analisa perilaku nasabah bank syariah indones...  \n",
       "52  [sintesis membran flat molekul tercetak urea c...  \n",
       "53  [pemetaan virus penyakit mulut kuku karakteris...  \n",
       "54  [pariwisata lombok masihkah halal, kajian neur...  \n",
       "55  [pengembangan model kemitraan usaha peternakan...  \n",
       "56  [analisis trending topics media sosial menggun...  \n",
       "57  [analisis substitusi pakan azolla microphylla ...  \n",
       "58  [perancangan model percepatan implementasi ser...  "
      ]
     },
     "execution_count": 38,
     "metadata": {},
     "output_type": "execute_result"
    }
   ],
   "source": [
    "topic_model.get_topic_info()"
   ]
  },
  {
   "cell_type": "code",
   "execution_count": 39,
   "id": "723f01d2-d153-4348-997e-2aee237976e1",
   "metadata": {},
   "outputs": [
    {
     "data": {
      "application/vnd.jupyter.widget-view+json": {
       "model_id": "18b5ab84f0f047f39a1f2e7d064d9eaa",
       "version_major": 2,
       "version_minor": 0
      },
      "text/plain": [
       "Batches:   0%|          | 0/391 [00:00<?, ?it/s]"
      ]
     },
     "metadata": {},
     "output_type": "display_data"
    },
    {
     "name": "stderr",
     "output_type": "stream",
     "text": [
      "2025-07-28 07:10:16,367 - BERTopic - Dimensionality - Reducing dimensionality of input embeddings.\n",
      "2025-07-28 07:10:16,404 - BERTopic - Dimensionality - Completed ✓\n",
      "2025-07-28 07:10:16,405 - BERTopic - Clustering - Approximating new points with `hdbscan_model`\n",
      "2025-07-28 07:10:17,105 - BERTopic - Cluster - Completed ✓\n"
     ]
    },
    {
     "name": "stdout",
     "output_type": "stream",
     "text": [
      "Waktu eksekusi:  11.08 detik.\n"
     ]
    }
   ],
   "source": [
    "sw = StopWatch()\n",
    "sw.start()\n",
    "\n",
    "bert_topics, probs = topic_model.transform(docs)\n",
    "\n",
    "sw.stop()\n",
    "sw.print()"
   ]
  },
  {
   "cell_type": "code",
   "execution_count": 40,
   "id": "69b708cf-3015-45e7-8c24-858c5928e962",
   "metadata": {},
   "outputs": [],
   "source": [
    "df_tm['BERT_topic'] = bert_topics"
   ]
  },
  {
   "cell_type": "markdown",
   "id": "43c60e95-5fe3-4db8-9e11-482761d1d520",
   "metadata": {},
   "source": [
    "### Evaluating #1"
   ]
  },
  {
   "cell_type": "code",
   "execution_count": 41,
   "id": "bc0d117b-c877-43c1-99de-f4d510f31f9c",
   "metadata": {},
   "outputs": [],
   "source": [
    "# Tokenisasi dokumen\n",
    "tokenized_docs = [doc.split() for doc in docs]\n",
    "\n",
    "dictionary = Dictionary(tokenized_docs)\n",
    "corpus = [dictionary.doc2bow(text) for text in tokenized_docs]"
   ]
  },
  {
   "cell_type": "code",
   "execution_count": 42,
   "id": "ce38cee6-00b0-40df-a637-8496079b531d",
   "metadata": {},
   "outputs": [],
   "source": [
    "nmf_topics_words = get_topics_words(nmf_model,tfidf_vectorizer)\n",
    "lda_topics_words = get_topics_words(lda_model,count_vectorizer)\n",
    "lsa_topics_words = get_topics_words(lsa_model,tfidf_vectorizer)"
   ]
  },
  {
   "cell_type": "code",
   "execution_count": 43,
   "id": "6f2d6bc7-8f99-497e-85ce-f0d418f0848d",
   "metadata": {},
   "outputs": [],
   "source": [
    "bert_topics_words = get_bert_topics_words(topic_model)"
   ]
  },
  {
   "cell_type": "code",
   "execution_count": 44,
   "id": "230f07ba-e9ba-4fa8-b18a-e216d2ce06ed",
   "metadata": {},
   "outputs": [
    {
     "name": "stdout",
     "output_type": "stream",
     "text": [
      "Waktu eksekusi:  11.16 detik.\n",
      "Waktu eksekusi:  11.04 detik.\n",
      "Waktu eksekusi:  10.84 detik.\n",
      "Waktu eksekusi:  11.67 detik.\n",
      "Waktu eksekusi:  44.71 detik.\n"
     ]
    }
   ],
   "source": [
    "sw.start()\n",
    "\n",
    "coherence_dict = {\n",
    "    'Model' : [\n",
    "        'NMF',\n",
    "        'LDA',\n",
    "        'LSA',\n",
    "        'BERTopic',\n",
    "    ],\n",
    "    'Coherence':[\n",
    "        get_coherence(nmf_topics_words),\n",
    "        get_coherence(lda_topics_words),\n",
    "        get_coherence(lsa_topics_words),\n",
    "        get_coherence(bert_topics_words),\n",
    "    ]\n",
    "}\n",
    "\n",
    "sw.stop()\n",
    "sw.print()"
   ]
  },
  {
   "cell_type": "code",
   "execution_count": 45,
   "id": "50855a1f-9928-4598-8fb8-a2a9d6c0a92c",
   "metadata": {},
   "outputs": [],
   "source": [
    "coherence_df = pd.DataFrame(coherence_dict)"
   ]
  },
  {
   "cell_type": "code",
   "execution_count": 46,
   "id": "9b62ecae-cad3-43b5-a488-05dcfc7286c7",
   "metadata": {},
   "outputs": [
    {
     "data": {
      "text/html": [
       "<div>\n",
       "<style scoped>\n",
       "    .dataframe tbody tr th:only-of-type {\n",
       "        vertical-align: middle;\n",
       "    }\n",
       "\n",
       "    .dataframe tbody tr th {\n",
       "        vertical-align: top;\n",
       "    }\n",
       "\n",
       "    .dataframe thead th {\n",
       "        text-align: right;\n",
       "    }\n",
       "</style>\n",
       "<table border=\"1\" class=\"dataframe\">\n",
       "  <thead>\n",
       "    <tr style=\"text-align: right;\">\n",
       "      <th></th>\n",
       "      <th>Model</th>\n",
       "      <th>Coherence</th>\n",
       "    </tr>\n",
       "  </thead>\n",
       "  <tbody>\n",
       "    <tr>\n",
       "      <th>0</th>\n",
       "      <td>NMF</td>\n",
       "      <td>0.651512</td>\n",
       "    </tr>\n",
       "    <tr>\n",
       "      <th>1</th>\n",
       "      <td>LDA</td>\n",
       "      <td>0.508846</td>\n",
       "    </tr>\n",
       "    <tr>\n",
       "      <th>2</th>\n",
       "      <td>LSA</td>\n",
       "      <td>0.459366</td>\n",
       "    </tr>\n",
       "    <tr>\n",
       "      <th>3</th>\n",
       "      <td>BERTopic</td>\n",
       "      <td>0.626531</td>\n",
       "    </tr>\n",
       "  </tbody>\n",
       "</table>\n",
       "</div>"
      ],
      "text/plain": [
       "      Model  Coherence\n",
       "0       NMF   0.651512\n",
       "1       LDA   0.508846\n",
       "2       LSA   0.459366\n",
       "3  BERTopic   0.626531"
      ]
     },
     "execution_count": 46,
     "metadata": {},
     "output_type": "execute_result"
    }
   ],
   "source": [
    "coherence_df"
   ]
  },
  {
   "cell_type": "markdown",
   "id": "5d5c8ae3-696f-4af5-9d09-98a56f935477",
   "metadata": {},
   "source": [
    "### Hyperparameter Tuning"
   ]
  },
  {
   "cell_type": "code",
   "execution_count": 47,
   "id": "ae4f0419-d4d0-414e-8d55-55fdd1c860d0",
   "metadata": {},
   "outputs": [
    {
     "data": {
      "text/plain": [
       "'4.4.0'"
      ]
     },
     "execution_count": 47,
     "metadata": {},
     "output_type": "execute_result"
    }
   ],
   "source": [
    "optuna.__version__"
   ]
  },
  {
   "cell_type": "code",
   "execution_count": 48,
   "id": "a945db1d-63d4-4c2d-bd30-472811913823",
   "metadata": {},
   "outputs": [],
   "source": [
    "def nmf_objective(trial):\n",
    "    params = {\n",
    "        'n_components': trial.suggest_int('n_components', 3, 100)\n",
    "    }\n",
    "\n",
    "    model = NMF(**params, random_state=42)\n",
    "    topics = model.fit_transform(tfidf)\n",
    "\n",
    "    topics_words = get_topics_words(model, tfidf_vectorizer)\n",
    "    return get_coherence(topics_words)\n",
    "\n",
    "def lda_objective(trial):\n",
    "    params = {\n",
    "        'n_components': trial.suggest_int('n_components', 3, 30)\n",
    "    }\n",
    "\n",
    "    model = LatentDirichletAllocation(**params, random_state=42)\n",
    "    topics = model.fit_transform(count)\n",
    "\n",
    "    topics_words = get_topics_words(model, count_vectorizer)\n",
    "    return get_coherence(topics_words)\n",
    "\n",
    "def lsa_objective(trial):\n",
    "    params = {\n",
    "        'n_components': trial.suggest_int('n_components', 3, 30)\n",
    "    }\n",
    "\n",
    "    model = TruncatedSVD(**params, random_state=42)\n",
    "    topics = model.fit_transform(tfidf)\n",
    "\n",
    "    topics_words = get_topics_words(model, tfidf_vectorizer)\n",
    "    return get_coherence(topics_words)\n",
    "\n",
    "def bert_objective(trial):\n",
    "    embedding_model = SentenceTransformer(\"paraphrase-multilingual-MiniLM-L12-v2\")\n",
    "    umap_model = UMAP(n_components=5, n_neighbors=50, random_state=42, metric=\"cosine\", verbose=True)\n",
    "    hdbscan_model = HDBSCAN(min_samples=20, gen_min_span_tree=True, prediction_data=True, min_cluster_size=trial.suggest_int('min_cluster_size', 3, 30))\n",
    "    vectorizer_model = CountVectorizer(ngram_range=(1, 3), min_df=5)\n",
    "\n",
    "    representation_models = {\n",
    "        \"KeyBERTInspired\": KeyBERTInspired()\n",
    "    }\n",
    "\n",
    "    topic_model= BERTopic(\n",
    "            embedding_model=embedding_model,\n",
    "            umap_model=umap_model,\n",
    "            hdbscan_model=hdbscan_model,\n",
    "            vectorizer_model=vectorizer_model,\n",
    "            representation_model=representation_models,\n",
    "            verbose=True\n",
    "    ).fit(docs)\n",
    "\n",
    "    bert_topics_words = get_bert_topics_words(topic_model)\n",
    "    return get_coherence(bert_topics_words)"
   ]
  },
  {
   "cell_type": "code",
   "execution_count": 49,
   "id": "bdae7e81-e67f-4260-af2f-0f9a6aa809db",
   "metadata": {
    "scrolled": true
   },
   "outputs": [],
   "source": [
    "# sw.start()\n",
    "\n",
    "# nmf_study = optuna.create_study(direction='maximize')\n",
    "# nmf_study.optimize(nmf_objective,n_trials=50)\n",
    "\n",
    "# sw.stop()\n",
    "# sw.print()"
   ]
  },
  {
   "cell_type": "code",
   "execution_count": 50,
   "id": "5f5ad477-8cb6-4974-82c7-43a46a17c7ba",
   "metadata": {},
   "outputs": [],
   "source": [
    "nmf_parmas = {'n_components': 10}"
   ]
  },
  {
   "cell_type": "code",
   "execution_count": 51,
   "id": "90b8d3e9-3ebc-4d0d-9cfb-bdf12a046be7",
   "metadata": {
    "scrolled": true
   },
   "outputs": [],
   "source": [
    "# sw.start()\n",
    "\n",
    "# lda_study = optuna.create_study(direction='maximize')\n",
    "# lda_study.optimize(lda_objective,n_trials=20)\n",
    "\n",
    "# sw.stop()\n",
    "# sw.print()"
   ]
  },
  {
   "cell_type": "code",
   "execution_count": 52,
   "id": "1095a2fe-4039-4e8a-8c00-d52321cdbb4c",
   "metadata": {},
   "outputs": [],
   "source": [
    "lda_params = {'n_components': 13}"
   ]
  },
  {
   "cell_type": "code",
   "execution_count": 53,
   "id": "24f8dc78-d8da-4f47-8e23-bfbc4329889c",
   "metadata": {
    "scrolled": true
   },
   "outputs": [],
   "source": [
    "# sw.start()\n",
    "\n",
    "# lsa_study = optuna.create_study(direction='maximize')\n",
    "# lsa_study.optimize(lsa_objective,n_trials=20)\n",
    "\n",
    "# sw.stop()\n",
    "# sw.print()"
   ]
  },
  {
   "cell_type": "code",
   "execution_count": 54,
   "id": "baee7603-e798-42cc-ad50-a436568fef9e",
   "metadata": {},
   "outputs": [],
   "source": [
    "lsa_params = {'n_components': 4}"
   ]
  },
  {
   "cell_type": "code",
   "execution_count": 55,
   "id": "35ff2f7c-c9cf-4a97-a4b7-d7497c51bc13",
   "metadata": {},
   "outputs": [],
   "source": [
    "# sw.start()\n",
    "\n",
    "# bert_study = optuna.create_study(direction='maximize')\n",
    "# bert_study.optimize(bert_objective,n_trials=5)\n",
    "\n",
    "# sw.stop()\n",
    "# sw.print()"
   ]
  },
  {
   "cell_type": "code",
   "execution_count": 56,
   "id": "1dffb9cf-46be-43c0-9fec-be12d908b344",
   "metadata": {},
   "outputs": [],
   "source": [
    "# bert_params = {'min_cluster_size': 22}"
   ]
  },
  {
   "cell_type": "code",
   "execution_count": 57,
   "id": "99c82c52-795b-4c53-ba85-e24b1cb2be09",
   "metadata": {},
   "outputs": [],
   "source": [
    "nmf_model = NMF(**nmf_parmas, random_state=42)\n",
    "nmf_topics = nmf_model.fit_transform(tfidf)\n",
    "\n",
    "lda_model = LatentDirichletAllocation(**lda_params, random_state=42)\n",
    "lda_topics = lda_model.fit_transform(count)\n",
    "\n",
    "lsa_model = TruncatedSVD(**lsa_params, random_state=42)\n",
    "lsa_topics = lsa_model.fit_transform(tfidf)"
   ]
  },
  {
   "cell_type": "code",
   "execution_count": 65,
   "id": "50cb4fbe-5223-450a-93f6-b6043c2fa936",
   "metadata": {},
   "outputs": [
    {
     "name": "stderr",
     "output_type": "stream",
     "text": [
      "2025-07-28 07:13:50,307 - BERTopic - Embedding - Transforming documents to embeddings.\n"
     ]
    },
    {
     "data": {
      "application/vnd.jupyter.widget-view+json": {
       "model_id": "c7b7e5a42f9d4d1884f532a497546186",
       "version_major": 2,
       "version_minor": 0
      },
      "text/plain": [
       "Batches:   0%|          | 0/391 [00:00<?, ?it/s]"
      ]
     },
     "metadata": {},
     "output_type": "display_data"
    },
    {
     "name": "stderr",
     "output_type": "stream",
     "text": [
      "2025-07-28 07:14:00,228 - BERTopic - Embedding - Completed ✓\n",
      "2025-07-28 07:14:00,229 - BERTopic - Dimensionality - Fitting the dimensionality reduction algorithm\n"
     ]
    },
    {
     "name": "stdout",
     "output_type": "stream",
     "text": [
      "UMAP(angular_rp_forest=True, metric='cosine', n_components=5, n_jobs=1, n_neighbors=50, random_state=42, verbose=True)\n",
      "Mon Jul 28 07:14:00 2025 Construct fuzzy simplicial set\n",
      "Mon Jul 28 07:14:00 2025 Finding Nearest Neighbors\n",
      "Mon Jul 28 07:14:00 2025 Building RP forest with 11 trees\n",
      "Mon Jul 28 07:14:00 2025 NN descent for 14 iterations\n",
      "\t 1  /  14\n",
      "\t 2  /  14\n",
      "\t 3  /  14\n",
      "\tStopping threshold met -- exiting after 3 iterations\n",
      "Mon Jul 28 07:14:06 2025 Finished Nearest Neighbor Search\n",
      "Mon Jul 28 07:14:06 2025 Construct embedding\n"
     ]
    },
    {
     "data": {
      "application/vnd.jupyter.widget-view+json": {
       "model_id": "79a45e6f488b4f569d5350a461af7497",
       "version_major": 2,
       "version_minor": 0
      },
      "text/plain": [
       "Epochs completed:   0%|            0/200 [00:00]"
      ]
     },
     "metadata": {},
     "output_type": "display_data"
    },
    {
     "name": "stdout",
     "output_type": "stream",
     "text": [
      "\tcompleted  0  /  200 epochs\n",
      "\tcompleted  20  /  200 epochs\n",
      "\tcompleted  40  /  200 epochs\n",
      "\tcompleted  60  /  200 epochs\n",
      "\tcompleted  80  /  200 epochs\n",
      "\tcompleted  100  /  200 epochs\n",
      "\tcompleted  120  /  200 epochs\n",
      "\tcompleted  140  /  200 epochs\n",
      "\tcompleted  160  /  200 epochs\n",
      "\tcompleted  180  /  200 epochs\n",
      "Mon Jul 28 07:14:17 2025 Finished embedding\n"
     ]
    },
    {
     "name": "stderr",
     "output_type": "stream",
     "text": [
      "2025-07-28 07:14:17,404 - BERTopic - Dimensionality - Completed ✓\n",
      "2025-07-28 07:14:17,406 - BERTopic - Cluster - Start clustering the reduced embeddings\n",
      "2025-07-28 07:14:17,984 - BERTopic - Cluster - Completed ✓\n",
      "2025-07-28 07:14:17,990 - BERTopic - Representation - Fine-tuning topics using representation models.\n",
      "2025-07-28 07:14:28,051 - BERTopic - Representation - Completed ✓\n"
     ]
    },
    {
     "name": "stdout",
     "output_type": "stream",
     "text": [
      "Waktu eksekusi:  38.18 detik.\n"
     ]
    }
   ],
   "source": [
    "# Prepare sub-models\n",
    "embedding_model = SentenceTransformer(\"paraphrase-multilingual-MiniLM-L12-v2\")\n",
    "umap_model = UMAP(n_components=5, n_neighbors=50, random_state=42, metric=\"cosine\", verbose=True)\n",
    "hdbscan_model = HDBSCAN(min_samples=20, gen_min_span_tree=True, prediction_data=True, min_cluster_size=20)\n",
    "vectorizer_model = CountVectorizer(ngram_range=(1, 3), min_df=5)\n",
    "\n",
    "# Representation models\n",
    "representation_models = {\n",
    "    \"KeyBERTInspired\": KeyBERTInspired(),\n",
    "    \"MMR\": MaximalMarginalRelevance(diversity=0.3),\n",
    "    \"KeyBERT + MMR\": [KeyBERTInspired(), MaximalMarginalRelevance(diversity=0.3)]\n",
    "}\n",
    "\n",
    "# Fit BERTopic\n",
    "sw = StopWatch()\n",
    "sw.start()\n",
    "\n",
    "topic_model= BERTopic(\n",
    "        embedding_model=embedding_model,\n",
    "        umap_model=umap_model,\n",
    "        hdbscan_model=hdbscan_model,\n",
    "        vectorizer_model=vectorizer_model,\n",
    "        representation_model=representation_models,\n",
    "        verbose=True\n",
    ").fit(docs)\n",
    "\n",
    "sw.stop()\n",
    "sw.print()"
   ]
  },
  {
   "cell_type": "code",
   "execution_count": 66,
   "id": "e70ad773-38d2-419c-ab34-7f8a06291496",
   "metadata": {},
   "outputs": [],
   "source": [
    "nmf_topics_words = get_topics_words(nmf_model,tfidf_vectorizer)\n",
    "lda_topics_words = get_topics_words(lda_model,count_vectorizer)\n",
    "lsa_topics_words = get_topics_words(lsa_model,tfidf_vectorizer)"
   ]
  },
  {
   "cell_type": "code",
   "execution_count": 67,
   "id": "dc5b5716-2342-48bd-bae9-275b6fc46acc",
   "metadata": {},
   "outputs": [],
   "source": [
    "bert_topics_words = get_bert_topics_words(topic_model)"
   ]
  },
  {
   "cell_type": "code",
   "execution_count": 68,
   "id": "88c0fc19-be42-4ef9-9476-3b691e25f280",
   "metadata": {},
   "outputs": [
    {
     "name": "stdout",
     "output_type": "stream",
     "text": [
      "Waktu eksekusi:  11.65 detik.\n"
     ]
    },
    {
     "data": {
      "text/plain": [
       "0.6265311567790711"
      ]
     },
     "execution_count": 68,
     "metadata": {},
     "output_type": "execute_result"
    }
   ],
   "source": [
    "get_coherence(bert_topics_words)"
   ]
  },
  {
   "cell_type": "code",
   "execution_count": 69,
   "id": "72e43ff4-ee30-4e09-97bc-1c9b9abaece1",
   "metadata": {},
   "outputs": [
    {
     "name": "stdout",
     "output_type": "stream",
     "text": [
      "Waktu eksekusi:  16.42 detik.\n",
      "Waktu eksekusi:  10.54 detik.\n",
      "Waktu eksekusi:  10.32 detik.\n",
      "Waktu eksekusi:  11.15 detik.\n",
      "Waktu eksekusi:  48.43 detik.\n"
     ]
    }
   ],
   "source": [
    "sw.start()\n",
    "\n",
    "coherence_dict = {\n",
    "    'Model' : [\n",
    "        'NMF',\n",
    "        'LDA',\n",
    "        'LSA',\n",
    "        'BERTopic',\n",
    "    ],\n",
    "    'Coherence':[\n",
    "        get_coherence(nmf_topics_words),\n",
    "        get_coherence(lda_topics_words),\n",
    "        get_coherence(lsa_topics_words),\n",
    "        get_coherence(bert_topics_words),\n",
    "    ]\n",
    "}\n",
    "\n",
    "sw.stop()\n",
    "sw.print()"
   ]
  },
  {
   "cell_type": "code",
   "execution_count": 70,
   "id": "d7f3d5cf-04a4-4635-8f13-db444c200864",
   "metadata": {},
   "outputs": [
    {
     "data": {
      "text/html": [
       "<div>\n",
       "<style scoped>\n",
       "    .dataframe tbody tr th:only-of-type {\n",
       "        vertical-align: middle;\n",
       "    }\n",
       "\n",
       "    .dataframe tbody tr th {\n",
       "        vertical-align: top;\n",
       "    }\n",
       "\n",
       "    .dataframe thead th {\n",
       "        text-align: right;\n",
       "    }\n",
       "</style>\n",
       "<table border=\"1\" class=\"dataframe\">\n",
       "  <thead>\n",
       "    <tr style=\"text-align: right;\">\n",
       "      <th></th>\n",
       "      <th>Model</th>\n",
       "      <th>Coherence</th>\n",
       "    </tr>\n",
       "  </thead>\n",
       "  <tbody>\n",
       "    <tr>\n",
       "      <th>0</th>\n",
       "      <td>NMF</td>\n",
       "      <td>0.651512</td>\n",
       "    </tr>\n",
       "    <tr>\n",
       "      <th>1</th>\n",
       "      <td>LDA</td>\n",
       "      <td>0.576520</td>\n",
       "    </tr>\n",
       "    <tr>\n",
       "      <th>2</th>\n",
       "      <td>LSA</td>\n",
       "      <td>0.601848</td>\n",
       "    </tr>\n",
       "    <tr>\n",
       "      <th>3</th>\n",
       "      <td>BERTopic</td>\n",
       "      <td>0.626531</td>\n",
       "    </tr>\n",
       "  </tbody>\n",
       "</table>\n",
       "</div>"
      ],
      "text/plain": [
       "      Model  Coherence\n",
       "0       NMF   0.651512\n",
       "1       LDA   0.576520\n",
       "2       LSA   0.601848\n",
       "3  BERTopic   0.626531"
      ]
     },
     "execution_count": 70,
     "metadata": {},
     "output_type": "execute_result"
    }
   ],
   "source": [
    "coherence_df = pd.DataFrame(coherence_dict)\n",
    "coherence_df"
   ]
  },
  {
   "cell_type": "markdown",
   "id": "48ac1f20-b42e-4236-85e0-025217797c66",
   "metadata": {},
   "source": [
    "## Conclusion"
   ]
  },
  {
   "cell_type": "code",
   "execution_count": 80,
   "id": "f3d1a9fa-5094-4759-aafd-ab3989368e1d",
   "metadata": {},
   "outputs": [],
   "source": [
    "# topic_model.save(\"BERTopic_Penelitian\")"
   ]
  },
  {
   "cell_type": "code",
   "execution_count": 81,
   "id": "3c7853ec-7eae-44a3-8563-a59c5bb5fe2f",
   "metadata": {},
   "outputs": [
    {
     "name": "stdout",
     "output_type": "stream",
     "text": [
      "Mon Jul 28 07:20:20 2025 Building and compiling search function\n"
     ]
    }
   ],
   "source": [
    "topic_model = BERTopic.load(\"BERTopic_Penelitian\")"
   ]
  },
  {
   "cell_type": "code",
   "execution_count": 76,
   "id": "bf8b67a5-5a36-46ee-ae01-badcfe32aa05",
   "metadata": {},
   "outputs": [],
   "source": [
    "def get_top_topics(topics):\n",
    "    topic_labels = np.argmax(topics,axis=1)\n",
    "    values,counts = np.unique(topic_labels,return_counts=True)\n",
    "\n",
    "    sorted_indices = np.argsort(-counts)\n",
    "\n",
    "    sorted_values = values[sorted_indices]\n",
    "    sorted_counts = counts[sorted_indices]\n",
    "\n",
    "    return sorted_values,sorted_counts"
   ]
  },
  {
   "cell_type": "code",
   "execution_count": 77,
   "id": "e8284c37-3b6d-4edb-9324-3e922ed46464",
   "metadata": {},
   "outputs": [],
   "source": [
    "def get_sorted_top_keyword(vectorizer,model,sorted_topics):\n",
    "    componenets = model.components_[sorted_topics]\n",
    "    feature_names = vectorizer.get_feature_names_out()\n",
    "    top_n = 10\n",
    "    keywords_per_topic = [\n",
    "        [feature_names[i] for i in topic.argsort()[:-top_n - 1:-1]] for topic in componenets\n",
    "    ]\n",
    "    return keywords_per_topic"
   ]
  },
  {
   "cell_type": "code",
   "execution_count": 78,
   "id": "46d4648d-9ae1-4441-a09f-c3fe16bcbe4b",
   "metadata": {},
   "outputs": [],
   "source": [
    "topic_info = topic_model.get_topic_info()"
   ]
  },
  {
   "cell_type": "code",
   "execution_count": 82,
   "id": "14586b16-4f5f-4d17-aeb5-d6c97172de80",
   "metadata": {},
   "outputs": [
    {
     "data": {
      "application/vnd.jupyter.widget-view+json": {
       "model_id": "bb592454d3e64c9b8542b12ecb8e2e17",
       "version_major": 2,
       "version_minor": 0
      },
      "text/plain": [
       "Batches:   0%|          | 0/391 [00:00<?, ?it/s]"
      ]
     },
     "metadata": {},
     "output_type": "display_data"
    },
    {
     "name": "stderr",
     "output_type": "stream",
     "text": [
      "2025-07-28 07:20:52,865 - BERTopic - Dimensionality - Reducing dimensionality of input embeddings.\n",
      "2025-07-28 07:20:52,899 - BERTopic - Dimensionality - Completed ✓\n",
      "2025-07-28 07:20:52,900 - BERTopic - Clustering - Approximating new points with `hdbscan_model`\n",
      "2025-07-28 07:20:53,466 - BERTopic - Cluster - Completed ✓\n"
     ]
    }
   ],
   "source": [
    "topics,prob = topic_model.transform(docs)"
   ]
  },
  {
   "cell_type": "code",
   "execution_count": 84,
   "id": "4b20ae06-2db4-4c8a-90d1-abb95180a6ca",
   "metadata": {},
   "outputs": [],
   "source": [
    "df['BERTopic'] = topics\n",
    "df = df[df['BERTopic'] != -1]"
   ]
  },
  {
   "cell_type": "code",
   "execution_count": 93,
   "id": "16c63722-fd3b-4b35-be46-986e85d2f270",
   "metadata": {},
   "outputs": [],
   "source": [
    "def summarize_bert(topics_info):\n",
    "    r_docs = topics_info['Representative_Docs'].to_list()\n",
    "    top_key = topics_info['KeyBERTInspired'].to_list()\n",
    "    topic_desc = {}\n",
    "    for topic_idx, keywords in enumerate(top_key):\n",
    "        docs_sample = r_docs[topic_idx]\n",
    "        result = summarize_topic(keywords, docs_sample)\n",
    "        topic_desc[topic_idx] = result\n",
    "    return topic_desc"
   ]
  },
  {
   "cell_type": "code",
   "execution_count": 102,
   "id": "face2791-72c5-4bb0-badd-e561e50af506",
   "metadata": {
    "scrolled": true
   },
   "outputs": [],
   "source": [
    "topic_info = topic_info.iloc[1:]"
   ]
  },
  {
   "cell_type": "code",
   "execution_count": 104,
   "id": "903073a6-3f1e-4611-a38d-f4032bdeb87a",
   "metadata": {},
   "outputs": [],
   "source": [
    "bert_sum = summarize_bert(topic_info)"
   ]
  },
  {
   "cell_type": "code",
   "execution_count": 105,
   "id": "c948439d-b96a-4366-bac2-01b40397a50e",
   "metadata": {
    "scrolled": true
   },
   "outputs": [
    {
     "data": {
      "text/plain": [
       "{0: {'label_topik': 'Penerapan Machine Learning dan Neural Network dalam Sistem Cerdas',\n",
       "  'deskripsi': 'Topik ini mencakup penelitian dan pengabdian masyarakat yang berfokus pada penggunaan machine learning, neural network, dan artificial intelligence untuk mengembangkan sistem cerdas. Penelitian ini melibatkan algoritma klasifikasi dan optimisasi dalam berbagai aplikasi, termasuk pengklasifikasi bibit kelapa menggunakan deep learning, deteksi dini penyakit melalui sensor IoT, dan sistem otentikasi berbasis suara.'},\n",
       " 1: {'label_topik': 'Pengembangan Desa Wisata Berbasis Kearifan Lokal',\n",
       "  'deskripsi': 'Topik ini membahas tentang strategi dan implementasi pengembangan desa wisata dengan memanfaatkan potensi lokal dan kearifan lokal untuk menciptakan destinasi wisata yang berkelanjutan. Fokusnya adalah pada optimalisasi sumber daya lokal, termasuk UMKM dan ekonomi kreatif, serta penerapan teknologi cerdas untuk pengelolaan wisata. Studi kasus yang relevan melibatkan desa wisata seperti Pulo Panjang dan Sidowayah, di mana pendekatan berbasis komunitas dan lokal branding menjadi kunci dalam meningkatkan daya tarik wisatawan serta kesejahteraan masyarakat setempat.'},\n",
       " 2: {'label_topik': 'Pemanfaatan Bakteri Endofit dan Senyawa Bioaktif dalam Pengendalian Penyakit dan Peningkatan Ketahanan Tanaman',\n",
       "  'deskripsi': 'Topik ini mencakup penelitian tentang penggunaan bakteri endofit yang diisolasi dari tumbuhan untuk mengidentifikasi senyawa bioaktif yang dapat berfungsi sebagai antioksidan dan enzim penghambat infeksi. Fokusnya adalah pada bioaktivitas senyawa tersebut dalam pengendalian penyakit tanaman dan peningkatan ketahanan tanaman terhadap infeksi. Studi kasus melibatkan bakteri endofit dari berbagai tanaman seperti sirsak dan nilam, serta potensinya dalam pengelolaan penyakit tanaman melalui mekanisme seperti fermentasi dan induksi ketahanan.'},\n",
       " 3: {'label_topik': 'Konservasi dan Pengelolaan Sumber Daya Perikanan Pesisir',\n",
       "  'deskripsi': 'Topik ini mencakup penelitian dan pengabdian masyarakat yang berfokus pada modernisasi dan keberlanjutan perikanan tradisional, konservasi biodiversitas ekosistem perairan, domestikasi ikan endemik untuk budidaya, serta pengelolaan sumber daya perikanan di wilayah pesisir, termasuk pengembangan alat tangkap berkelanjutan dan perlindungan spesies seperti tuna dan rumput laut.'},\n",
       " 4: {'label_topik': 'Pelestarian Budaya dan Tradisi Masyarakat Adat',\n",
       "  'deskripsi': 'Topik ini mencakup studi dan pengabdian masyarakat yang berfokus pada masyarakat adat dan suku, dengan penekanan pada budaya lokal, tradisi, dan kebudayaan. Penelitian dalam topik ini sering kali mengeksplorasi aspek antropologi, linguistik, dan hukum terkait masyarakat adat seperti suku Dayak, suku Moronene, dan komunitas adat lainnya, serta upaya pelestarian kearifan lokal dan tradisi lisan.'},\n",
       " 5: {'label_topik': 'Penerapan Digital Marketing dalam Transformasi UMKM',\n",
       "  'deskripsi': 'Topik ini membahas penggunaan strategi pemasaran digital untuk meningkatkan visibilitas dan keberlanjutan usaha mikro, kecil, dan menengah (UMKM) melalui teknologi digital. Penelitian dalam topik ini mencakup analisis pengaruh media sosial, neuromarketing, dan metode promosi berbasis digital untuk mempercepat transformasi ekonomi digital dan meningkatkan interaksi dengan konsumen.'},\n",
       " 6: {'label_topik': 'Ketahanan Pangan Berkelanjutan dalam Konteks Perubahan Iklim',\n",
       "  'deskripsi': 'Topik ini membahas strategi dan pendekatan untuk mewujudkan ketahanan pangan yang berkelanjutan dengan memperhatikan dampak perubahan iklim. Penelitian mencakup transformasi sistem pangan lokal, analisis ketahanan pangan rumah tangga, dan adaptasi petani terhadap variabilitas iklim. Fokus utama adalah pada pengembangan sistem pangan yang tangguh dan berkelanjutan melalui pemanfaatan pangan lokal dan penerapan mitigasi perubahan iklim.'},\n",
       " 7: {'label_topik': 'Inovasi dan Optimalisasi Pembangkit Listrik Berbasis Energi Terbarukan',\n",
       "  'deskripsi': 'Topik ini mencakup penelitian dan pengabdian masyarakat yang berfokus pada pengembangan dan optimalisasi pembangkit listrik berbasis energi terbarukan, termasuk energi angin, surya, dan biomassa. Ini juga melibatkan integrasi teknologi seperti IoT untuk manajemen energi dan eksplorasi sumber energi baru untuk meningkatkan efisiensi dan keberlanjutan sistem pembangkit listrik serta dukungan terhadap kendaraan listrik.'},\n",
       " 8: {'label_topik': 'Pengembangan Media Pembelajaran Berbasis Augmented Reality',\n",
       "  'deskripsi': 'Topik ini berfokus pada pengembangan dan optimalisasi media pembelajaran yang memanfaatkan teknologi augmented reality dan virtual reality. Penelitian dalam topik ini mencakup penerapan augmented reality dalam pembelajaran vokasional untuk meningkatkan keterampilan hijau, pengembangan media pembelajaran etnomatematika dengan materi geometri berbasis augmented reality, serta kombinasi augmented reality dan virtual reality untuk meningkatkan literasi digital mahasiswa di era Society 5.0.'},\n",
       " 9: {'label_topik': 'Pengembangan dan Desain Model Pembelajaran Matematika Berdiferensiasi',\n",
       "  'deskripsi': 'Topik ini mencakup pengembangan dan desain model pembelajaran matematika yang berdiferensiasi, dengan fokus pada pendekatan berbasis masalah (problem based learning) dan integrasi budaya serta teknologi. Tujuannya adalah untuk meningkatkan kemampuan numerasi dan pemecahan masalah mahasiswa calon guru dan siswa, sejalan dengan prinsip-prinsip kurikulum merdeka.'},\n",
       " 10: {'label_topik': 'Inovasi Pembelajaran Bahasa Inggris untuk Meningkatkan Literasi',\n",
       "  'deskripsi': 'Topik ini mencakup berbagai pendekatan dan model pembelajaran bahasa Inggris yang inovatif, termasuk analisis dampak keterampilan menulis, penggunaan model 3gogies dalam pembelajaran, dan pengembangan media interaktif bilingual untuk siswa dengan kebutuhan khusus, dengan tujuan meningkatkan kemampuan literasi mahasiswa dan siswa dalam konteks kurikulum bahasa.'},\n",
       " 11: {'label_topik': 'Pengembangan dan Evaluasi Kandidat Obat Antikanker Payudara',\n",
       "  'deskripsi': 'Topik ini berfokus pada penelitian dan pengembangan bahan baku obat yang berpotensi sebagai inhibitor dan kandidat obat antikanker, khususnya untuk kanker payudara. Penelitian melibatkan evaluasi efek sinergis antara senyawa baru dan agen kemoterapi, aplikasi farmasetika bahan alami seperti fikosianin dari Spirulina platensis, serta pengembangan senyawa turunan dengan aktivitas sitotoksik yang ditargetkan pada sel kanker payudara.'},\n",
       " 12: {'label_topik': 'Mitigasi dan Adaptasi Bencana di Wilayah Rawan Bencana',\n",
       "  'deskripsi': 'Topik ini mencakup penelitian dan pengabdian masyarakat yang berfokus pada upaya mitigasi dan adaptasi terhadap bencana di wilayah rawan bencana, seperti banjir, tsunami, dan kebakaran. Melalui komunikasi risiko, efektivitas mitigasi pasca bencana, serta adaptasi berbasis kearifan lokal, topik ini mengeksplorasi strategi untuk meningkatkan ketahanan masyarakat terhadap bahaya dan risiko bencana.'},\n",
       " 13: {'label_topik': 'Penerapan Ekonomi Hijau dan Keberlanjutan di Sektor Keuangan dan Industri',\n",
       "  'deskripsi': 'Topik ini mencakup penelitian dan pengabdian masyarakat yang berfokus pada implementasi prinsip-prinsip ekonomi hijau dan keberlanjutan dalam sektor keuangan dan industri. Ini termasuk pengembangan model green banking dan green financing, serta peran green intellectual capital dalam meningkatkan performa perusahaan dan lingkungan. Selain itu, topik ini juga membahas praktik-praktik hijau sukarela yang mendukung industri perhotelan berkelanjutan.'},\n",
       " 14: {'label_topik': 'Penelitian Aktivitas Antioksidan dan Bioaktivitas Senyawa Bioaktif dari Ekstrak Tumbuhan',\n",
       "  'deskripsi': 'Topik ini mencakup penelitian mengenai aktivitas antioksidan dari senyawa bioaktif yang diekstraksi dari berbagai tumbuhan menggunakan pelarut etanol. Fokus utamanya adalah pada identifikasi dan pengujian senyawa bioaktif, seperti fenolik dan flavonoid, yang berpotensi sebagai obat herbal dan bahan aktif dalam produk perawatan kulit. Metode yang sering digunakan dalam penelitian ini termasuk DPPH untuk mengukur aktivitas antioksidan. Beberapa tanaman yang menjadi subjek penelitian termasuk daun waru, daun ciplukan, dan batang teratai putih.'},\n",
       " 15: {'label_topik': 'Pengembangan Sensor Ion Berbasis Nanoteknologi',\n",
       "  'deskripsi': 'Topik ini mencakup penelitian dan pengembangan sensor ion menggunakan teknologi nanomaterial seperti nanopartikel, nanofiber, dan polimer untuk mendeteksi logam dan ion tertentu. Fokus utama adalah pada peningkatan sensitivitas dan selektivitas sensor melalui modifikasi material, seperti penggunaan kopolimer dan teknik modifikasi permukaan, serta aplikasi dalam berbagai bidang termasuk baterai dan pengukuran ion spesifik menggunakan metode voltametri.'},\n",
       " 16: {'label_topik': 'Pengembangan dan Implementasi Model Pembelajaran Berbasis Proyek dan Masalah untuk Meningkatkan Keterampilan Berpikir Kritis',\n",
       "  'deskripsi': 'Topik ini berfokus pada pengembangan dan penerapan berbagai model pembelajaran berbasis proyek dan masalah, seperti project based learning dan problem based learning, dengan tujuan meningkatkan keterampilan berpikir kritis siswa. Melibatkan pengembangan perangkat pembelajaran dan integrasi isu-isu sosio-ilmiah, topik ini menekankan inovasi dalam desain pembelajaran untuk mendukung keterampilan berpikir kritis dan keterampilan proses sains di berbagai tingkat pendidikan.'},\n",
       " 17: {'label_topik': 'Pengembangan Pangan Fungsional Berbasis Ayam dan Suplementasi Nutrisi',\n",
       "  'deskripsi': 'Topik ini mencakup penelitian dan pengabdian masyarakat yang berfokus pada pengembangan produk pangan fungsional berbasis ayam, seperti daging ayam dan telur, dengan penambahan bahan-bahan seperti tepung dan minyak ikan untuk meningkatkan kandungan nutrisi seperti omega-3 dan protein. Selain itu, topik ini juga mengeksplorasi penggunaan bioteknologi dan suplementasi nutrisi, seperti ovotransferin dan mikronutrien, untuk meningkatkan kualitas pangan dan kesehatan, termasuk pencegahan stunting.'},\n",
       " 18: {'label_topik': 'Pengaruh Senyawa Alami terhadap Kondisi Diabetes pada Model Hewan',\n",
       "  'deskripsi': 'Topik ini mencakup penelitian tentang penggunaan senyawa alami dari berbagai ekstrak tanaman dan serangga untuk memperbaiki kondisi metabolik dan mengurangi kadar glukosa darah pada model hewan penderita diabetes. Studi-studi ini mengeksplorasi efek senyawa tersebut terhadap stres oksidatif dan histopatologi organ seperti hati, ginjal, pankreas, dan lambung pada tikus yang diinduksi diabetes, dengan fokus pada pendekatan metabolomik untuk memahami perubahan senyawa metabolit terkait diabetes.'},\n",
       " 19: {'label_topik': 'Pengembangan Sediaan Nano untuk Pengobatan Berbasis Ekstrak Daun',\n",
       "  'deskripsi': 'Topik ini berfokus pada inovasi dan pengembangan sediaan nano seperti nanopartikel dan nanoemulsi yang menggunakan ekstrak daun tanaman untuk meningkatkan aktivitas antioksidan dan efektivitas pengobatan, termasuk penyembuhan luka diabetik dan pengobatan antikanker. Penelitian ini mengeksplorasi potensi ekstrak daun dalam formulasi obat nano untuk meningkatkan efikasi terapi.'},\n",
       " 20: {'label_topik': 'Upaya Pencegahan Stunting dan Kesehatan Mental Ibu dan Bayi',\n",
       "  'deskripsi': 'Topik ini mencakup penelitian dan pengabdian masyarakat yang berfokus pada upaya pencegahan stunting pada bayi dan balita melalui perawatan dan terapi yang melibatkan ibu. Selain itu, topik ini juga menyoroti pentingnya kesehatan mental ibu selama masa nifas dan postpartum melalui berbagai intervensi seperti prenatal yoga dan terapi sentuhan. Penelitian juga mencakup pengembangan aplikasi untuk meningkatkan keterampilan ibu dalam pengolahan makanan pendamping ASI (MPASI) guna mendukung kesehatan bayi dan balita.'},\n",
       " 21: {'label_topik': 'Pengembangan Katalis untuk Produksi Bahan Bakar Alternatif dari Limbah Biomassa',\n",
       "  'deskripsi': 'Topik ini berfokus pada penelitian dan pengembangan katalis inovatif untuk mengolah limbah biomassa dan limbah organik menjadi bahan bakar alternatif. Penelitian ini mencakup penggunaan katalis hijau dan mesopori, serta reformasi katalitik dari minyak pirolisis limbah, dengan tujuan meningkatkan efisiensi dan keberlanjutan produksi biofuel. Metode seperti pirolisis dan oligomerisasi digunakan untuk mengonversi limbah menjadi sumber energi yang lebih bersih dan ramah lingkungan.'},\n",
       " 22: {'label_topik': 'Pengelolaan Sampah Berkelanjutan Berbasis Masyarakat di Kota Makassar',\n",
       "  'deskripsi': 'Topik ini membahas strategi pengelolaan sampah yang berfokus pada pendekatan berbasis masyarakat untuk mencapai keberlanjutan lingkungan di Kota Makassar. Dengan memanfaatkan model ekonomi sirkular dan sumber daya lokal, penelitian dan pengabdian ini mengeksplorasi pengelolaan sampah laut melalui bank sampah, perubahan perilaku pembuangan sampah di kota besar Indonesia, dan pengembangan platform digital untuk penanganan sampah rumah tangga.'},\n",
       " 23: {'label_topik': 'Analisis Kinerja Keuangan dan Risiko di Sektor Perbankan dan Keuangan',\n",
       "  'deskripsi': 'Topik ini mencakup penelitian terkait kinerja keuangan dalam sektor perbankan dan keuangan, termasuk analisis risiko, pengaruh rasio keuangan terhadap kinerja perusahaan, serta implementasi teknologi keuangan dan kontrol internal untuk mencegah penipuan. Studi ini juga mempertimbangkan aspek akuntansi dan dampak faktor eksternal seperti ESG (Environmental, Social, and Governance) terhadap nilai perusahaan, khususnya di sektor perbankan dan UMKM.'},\n",
       " 24: {'label_topik': 'Pengembangan Program Psikoedukasi Keluarga untuk Meningkatkan Kesehatan Mental',\n",
       "  'deskripsi': 'Topik ini berfokus pada pengembangan dan implementasi program psikoedukasi yang melibatkan keluarga untuk meningkatkan kesehatan mental dan kesejahteraan psikologis. Melalui pendekatan seperti pendampingan keluarga, revitalisasi pusat informasi, dan health coaching, tujuan utamanya adalah memberikan dukungan kepada anak usia dini dan remaja, serta meningkatkan kemampuan keluarga dalam merawat anggota dengan gangguan jiwa. Program ini juga bertujuan untuk menurunkan risiko ide bunuh diri di kalangan remaja dan meningkatkan kemandirian kader keluarga dalam menangani isu kesehatan mental.'},\n",
       " 25: {'label_topik': 'Inklusi dan Literasi Keuangan dalam Pengelolaan Keuangan UMKM dan Investasi',\n",
       "  'deskripsi': 'Topik ini berfokus pada pengelolaan dan peningkatan kapabilitas keuangan, terutama dalam konteks inklusi keuangan dan literasi keuangan. Hal ini mencakup studi tentang peran teknologi finansial (fintech) dalam mendukung keputusan investasi, serta penguatan literasi keuangan digital untuk meningkatkan pengelolaan keuangan di kalangan wirausaha perempuan dan generasi muda. Penelitian ini juga melihat keberlanjutan usaha mikro, kecil, dan menengah (UMKM) dengan fokus pada inklusi keuangan dan perbankan, serta penerapan akuntansi yang efektif.'},\n",
       " 26: {'label_topik': 'Inovasi Pertanian untuk Ketahanan Pangan',\n",
       "  'deskripsi': 'Topik ini mencakup penelitian dan pengabdian masyarakat yang berfokus pada pengembangan praktik budidaya tanaman padi dan kacang secara organik, dengan tujuan meningkatkan ketahanan pangan dan menghasilkan pangan fungsional. Studi-studi dalam topik ini melibatkan eksplorasi genetik padi, integrasi sistem pertanian seperti padi-itik-azola, serta uji varietas padi baru yang memiliki potensi hasil tinggi dan berumur genjah. Fokusnya adalah pada peningkatan produktivitas dan keberlanjutan pertanian untuk mendukung kesejahteraan petani dan ketahanan pangan masyarakat.'},\n",
       " 27: {'label_topik': 'Pengembangan dan Analisis Struktur dan Material Bangunan',\n",
       "  'deskripsi': 'Topik ini mencakup penelitian dan pengabdian masyarakat yang berfokus pada pengembangan dan analisis struktur serta material bangunan. Penelitian di dalamnya melibatkan studi eksperimental dan numerikal terkait sifat mekanik material seperti bata ringan dan pengaruh penggunaan material tambahan seperti abu terbang. Selain itu, topik ini juga mencakup analisis struktur bangunan dan jembatan, termasuk dampak beban gempa dan penggunaan elemen struktural seperti stiffener baja untuk meningkatkan ketahanan infrastruktur.'},\n",
       " 28: {'label_topik': 'Pengembangan Berkelanjutan Usaha Milik Desa dan Ekowisata',\n",
       "  'deskripsi': 'Topik ini berfokus pada strategi pengelolaan dan pengembangan usaha milik desa dengan pendekatan berkelanjutan untuk pengentasan kemiskinan dan pembangunan berkelanjutan. Ini mencakup analisis kinerja badan usaha milik desa melalui modal sosial dan manajemen mutu terpadu, model pertanggungjawaban untuk mewujudkan pembangunan desa berkelanjutan, serta pengembangan ekowisata berbasis pemberdayaan masyarakat di kawasan konservasi untuk mitigasi perubahan iklim di tingkat kabupaten.'},\n",
       " 29: {'label_topik': 'Peningkatan Kinerja dan Kepuasan Karyawan melalui Dukungan Organisasi dan Pengembangan Kompetensi',\n",
       "  'deskripsi': 'Topik ini membahas bagaimana dukungan organisasi, kepuasan kerja, dan pengembangan kompetensi berkontribusi terhadap peningkatan kinerja dan motivasi karyawan. Fokusnya adalah pada peran budaya organisasi dan strategi peningkatan kompetensi dalam memperkuat komitmen, resiliensi, dan perilaku kewargaan organisasi (OCB) di tempat kerja, yang pada akhirnya meningkatkan kesejahteraan dan kinerja karyawan.'},\n",
       " 30: {'label_topik': 'Pendidikan dan Pengaruh Islam dalam Kurikulum Muhammadiyah',\n",
       "  'deskripsi': 'Topik ini mengeksplorasi peran dan pengaruh ajaran Islam, khususnya dalam konteks Muhammadiyah, dalam pengembangan kurikulum pendidikan dan media pembelajaran. Fokusnya mencakup bagaimana nilai-nilai syariah dan agama diintegrasikan dalam pendidikan untuk membentuk profil pelajar Pancasila, serta dampak branding dan reputasi lembaga pendidikan berbasis karakter Islam terhadap masyarakat.'},\n",
       " 31: {'label_topik': 'Pengembangan Model Latihan dan Aktivitas Fisik Berbasis Teknologi',\n",
       "  'deskripsi': 'Topik ini mencakup penelitian dan pengabdian masyarakat yang berfokus pada pengembangan model latihan dan aktivitas fisik yang efektif, khususnya dalam konteks olahraga dan peningkatan keterampilan. Penelitian dalam topik ini sering kali mengintegrasikan teknologi seperti mobile learning dan Internet of Things untuk meningkatkan efektivitas dan pemantauan latihan. Fokus utamanya adalah pada peningkatan kompetensi dan keterampilan fisik melalui metode latihan yang inovatif dan ergonomis, yang diterapkan pada berbagai kelompok usia, termasuk remaja dan anak-anak.'},\n",
       " 32: {'label_topik': 'Strategi Pencegahan dan Penanganan Kekerasan terhadap Anak dan Perempuan',\n",
       "  'deskripsi': 'Topik ini membahas berbagai strategi dan intervensi preventif untuk mencegah serta menangani kasus kekerasan terhadap anak dan perempuan. Fokus utama terletak pada implementasi perlindungan hukum, pemenuhan hak-hak korban, serta penggunaan sistem informasi dan model perlindungan yang melibatkan aspek kesehatan, pendidikan, dan kesetaraan gender.'},\n",
       " 33: {'label_topik': 'Konservasi dan Pengelolaan Ekosistem Mangrove untuk Mitigasi Perubahan Iklim',\n",
       "  'deskripsi': 'Topik ini mencakup penelitian dan pengabdian masyarakat yang berfokus pada konservasi dan pengelolaan ekosistem mangrove. Ekosistem ini penting untuk menjaga biodiversitas, berfungsi sebagai kawasan konservasi, serta memiliki peran signifikan dalam mitigasi perubahan iklim melalui sekuestrasi karbon. Studi kasus dan model pengelolaan yang berkelanjutan di berbagai lokasi, seperti Teluk Balikpapan dan Pantai Utara Pulau Jawa, juga menjadi bagian dari topik ini.'},\n",
       " 34: {'label_topik': 'Pengaruh Kepatuhan Pengobatan terhadap Kualitas Hidup Pasien Tuberkulosis',\n",
       "  'deskripsi': 'Topik ini membahas bagaimana kepatuhan pasien dalam menjalani pengobatan tuberkulosis mempengaruhi kualitas hidup mereka. Termasuk di dalamnya adalah analisis terhadap efektivitas terapi obat, prediksi lama pengobatan, dan dampak efek samping obat terhadap kepatuhan dan kesehatan pasien. Penelitian ini penting untuk meningkatkan strategi pengobatan dan meningkatkan kualitas hidup pasien dengan tuberkulosis, terutama mereka yang memiliki kondisi komorbid atau resisten obat.'},\n",
       " 35: {'label_topik': 'Pengembangan Pembelajaran Berbasis Literasi Digital',\n",
       "  'deskripsi': 'Topik ini berfokus pada pengembangan dan penerapan metode pembelajaran yang mengintegrasikan literasi digital untuk meningkatkan kompetensi dan keterampilan digital peserta didik. Melalui pendekatan berbasis literasi dan penggunaan sumber daya multimedia, penelitian ini bertujuan untuk meningkatkan literasi digital di kalangan pelajar, khususnya dalam konteks kurikulum modern dan pembelajaran autentik.'},\n",
       " 36: {'label_topik': 'Peningkatan Layanan dan Manajemen Kesehatan di Rumah Sakit',\n",
       "  'deskripsi': 'Topik ini mencakup penelitian dan pengabdian masyarakat yang berfokus pada layanan kesehatan di rumah sakit, termasuk kinerja pelayanan, kemandirian kesehatan, transformasi digital, serta manajemen dan kepemimpinan di lingkungan rumah sakit untuk meningkatkan akses dan kepuasan pasien.'},\n",
       " 37: {'label_topik': 'Manajemen Kesehatan dan Kualitas Hidup Pasien Diabetes',\n",
       "  'deskripsi': 'Topik ini mencakup penelitian dan pengabdian masyarakat terkait dengan manajemen kesehatan penderita diabetes, terutama diabetes melitus tipe 2. Fokusnya adalah pada analisis penggunaan insulin, efektivitas model perawatan, dan hubungan antara lama menderita diabetes dengan perilaku self-management serta komplikasi. Tujuan utama adalah meningkatkan kualitas hidup pasien melalui kemandirian kesehatan dan kepatuhan pengobatan.'},\n",
       " 38: {'label_topik': 'Inovasi Biomaterial untuk Regenerasi dan Rekonstruksi Tulang',\n",
       "  'deskripsi': 'Topik ini berfokus pada pengembangan biomaterial inovatif untuk regenerasi dan rekonstruksi tulang, dengan memanfaatkan bahan-bahan seperti nanofiber, protein, dan selulosa dari cangkang telur. Penelitian ini mengeksplorasi penggunaan scaffolds biomimetik dan bone grafts yang mengandung komponen seperti kalsium karbonat dan β-tricalcium phosphate untuk mempercepat proses regenerasi tulang, khususnya dalam konteks defek tulang alveolar dan celah lelangit. Pendekatan biomolekuler dan nano ini bertujuan untuk meningkatkan osteoinduktivitas dan efektivitas terapi regenerasi tulang.'},\n",
       " 39: {'label_topik': 'Pemberdayaan Perempuan dan Kesetaraan Gender di Indonesia',\n",
       "  'deskripsi': 'Topik ini mengeksplorasi peran perempuan dalam masyarakat Indonesia dan upaya untuk mencapai kesetaraan gender melalui pemberdayaan ekonomi, pengarusutamaan gender, dan kebijakan berorientasi gender. Penelitian ini mencakup strategi pemberdayaan UMKM, pendekatan hermeneutik dalam pengarusutamaan gender, serta peran legislator perempuan dalam memperjuangkan kebijakan yang mendukung kesetaraan gender berbasis modal sosial dan budaya.'},\n",
       " 40: {'label_topik': 'Pengembangan dan Aplikasi Komposit untuk Degradasi Limbah Pewarna',\n",
       "  'deskripsi': 'Topik ini berfokus pada penelitian dan pengembangan material komposit, termasuk nanopartikel dan biokomposit, untuk aplikasi dalam degradasi limbah organik dan pewarna. Melibatkan sintesis dan aplikasi material seperti komposit MnOFe3O4 dan ZnO-RGO untuk proses fotokatalis dan penjerapan, serta pengembangan material inovatif seperti metal-organic frameworks (MOFs) untuk meningkatkan efisiensi pengolahan limbah.'},\n",
       " 41: {'label_topik': 'Pemanfaatan Limbah Kelapa Sawit untuk Solusi Ramah Lingkungan',\n",
       "  'deskripsi': 'Topik ini membahas tentang pemanfaatan limbah kelapa sawit dan kelapa dalam upaya pengelolaan biomassa yang berkelanjutan di Indonesia. Fokus utama adalah pada pengembangan teknologi dan metode yang ramah lingkungan untuk mengolah residu dan limbah dari proses produksi kelapa sawit, seperti tandan kosong dan pelepah, menjadi produk yang bermanfaat. Penelitian ini juga mencakup upaya untuk meminimalkan polusi dan meningkatkan kualitas air bersih melalui inovasi dalam proses produksi dan pemanfaatan limbah kelapa sawit.'},\n",
       " 42: {'label_topik': 'Pengaruh Pola Makan dan Status Gizi pada Remaja Kota',\n",
       "  'deskripsi': 'Topik ini mengeksplorasi hubungan antara pola makan, status gizi, dan kesehatan remaja, terutama di lingkungan perkotaan. Penelitian dalam topik ini mencakup analisis efek makanan bergizi, seperti moringa oleifera dan royal jelly, terhadap status gizi dan kognitif remaja putri. Selain itu, topik ini juga membahas perbedaan chronotype dan crononutrition serta dampaknya terhadap kadar hemoglobin remaja putri yang tinggal di asrama dan non-asrama. Hubungan antara komposisi tubuh, fat free mass, dan anemia defisiensi zat besi pada remaja putri juga menjadi fokus dalam penelitian ini.'},\n",
       " 43: {'label_topik': 'Pengembangan Aplikasi Pembelajaran Interaktif untuk Meningkatkan Kemampuan Kognitif dan Berpikir',\n",
       "  'deskripsi': 'Topik ini berfokus pada pengembangan aplikasi dan media pembelajaran berbasis teknologi yang interaktif, seperti game edukasi dan aplikasi mobile, yang dirancang untuk meningkatkan kemampuan berpikir, kognitif, dan keterampilan siswa. Pendekatan pembelajaran berdiferensiasi dan berbasis budaya lokal juga diterapkan untuk mempromosikan pembelajaran yang lebih efektif dan menyenangkan, terutama bagi anak usia dini.'},\n",
       " 44: {'label_topik': 'Implementasi Kurikulum Merdeka di Sekolah Dasar',\n",
       "  'deskripsi': 'Topik ini membahas tentang penerapan dan implementasi Kurikulum Merdeka di sekolah dasar, dengan fokus pada transformasi pendidikan melalui program guru penggerak, pengembangan kompetensi kolaborasi antar guru, dan inovasi manajemen pendidikan. Penelitian ini juga mencakup persepsi guru terhadap program ini dan model kepemimpinan dalam pengembangan komunitas pembelajaran profesional di sekolah dasar.'},\n",
       " 45: {'label_topik': 'Pengelolaan dan Pemantauan Kualitas Air Sungai',\n",
       "  'deskripsi': 'Topik ini mencakup penelitian dan pengabdian masyarakat yang berfokus pada pengelolaan, pemantauan, dan peningkatan kualitas air sungai, termasuk teknik pengolahan air seperti elektrokoagulasi, sistem pemantauan kualitas air, dan analisis status baku mutu air. Penelitian ini bertujuan untuk memastikan ketersediaan air bersih dan menjaga ekosistem perairan di daerah aliran sungai dan sekitarnya.'},\n",
       " 46: {'label_topik': 'Pengembangan Kewirausahaan di Lingkungan Pendidikan Tinggi',\n",
       "  'deskripsi': 'Topik ini berfokus pada pengembangan ekosistem kewirausahaan di perguruan tinggi dengan tujuan meningkatkan niat berwirausaha di kalangan mahasiswa. Penelitian dan pengabdian masyarakat dalam topik ini mengeksplorasi faktor-faktor yang mempengaruhi intensi berwirausaha, termasuk peran kurikulum pendidikan kewirausahaan, kompetensi emosional, dan dukungan universitas. Studi kasus melibatkan mahasiswa dari berbagai universitas, dengan tujuan untuk memahami dan mengoptimalkan strategi pendidikan kewirausahaan agar dapat menciptakan wirausahawan yang sukses dan berdaya saing tinggi.'},\n",
       " 47: {'label_topik': 'Pengembangan Model Edukasi dan Konseling untuk Mengatasi Perilaku Bullying di Sekolah',\n",
       "  'deskripsi': 'Topik ini berfokus pada pengembangan dan implementasi model edukasi serta konseling yang bertujuan untuk mengatasi perilaku bullying di lingkungan sekolah. Penelitian ini mencakup siswa sekolah dasar hingga menengah, dengan pendekatan yang berbasis pada nilai budaya dan teknik self-management. Tujuannya adalah untuk meningkatkan resiliensi korban bullying dan mereduksi trauma yang dialami, dengan memanfaatkan model bimbingan interpersonal dan konseling yang berlandaskan nilai-nilai lokal dan karakter ksatria.'},\n",
       " 48: {'label_topik': 'Peningkatan Kualitas Hidup Pasien Hipertensi Melalui Kepatuhan Pengobatan',\n",
       "  'deskripsi': 'Topik ini berfokus pada strategi dan intervensi untuk meningkatkan kepatuhan pengobatan dan kualitas hidup pasien dengan kondisi hipertensi dan gagal jantung kronis. Penelitian dalam topik ini mengeksplorasi berbagai pendekatan seperti edukasi berbasis teknologi, intervensi yang disesuaikan, dan model pendekatan biopsikososial untuk meningkatkan adherensi pengobatan dan mencegah kejadian rawat inap berulang.'},\n",
       " 49: {'label_topik': 'Pengembangan Model Pembelajaran Berbasis untuk Meningkatkan Profil Pelajar Pancasila',\n",
       "  'deskripsi': 'Topik ini berfokus pada pengembangan dan inovasi model pembelajaran yang berbasis pada pendekatan tertentu, seperti resource based learning dan pembelajaran metakognitif, dengan tujuan untuk meningkatkan hasil belajar dan ketercapaian profil pelajar Pancasila. Pendekatan ini diterapkan di berbagai tingkat pendidikan, termasuk pendidikan dasar dan menengah, dalam rangka implementasi kurikulum merdeka.'},\n",
       " 50: {'label_topik': 'Analisis dan Pengembangan Perbankan Syariah di Indonesia',\n",
       "  'deskripsi': 'Topik ini mencakup analisis perilaku nasabah, faktor-faktor yang mempengaruhi keputusan menggunakan perbankan syariah, serta penguatan pengawasan syariah di Indonesia. Fokusnya adalah pada prinsip maqasid syariah, literasi dan inklusi keuangan Islam, serta kinerja dan deteksi dini kecurangan dalam laporan keuangan bank syariah.'},\n",
       " 51: {'label_topik': 'Pengembangan Membran Biokomposit untuk Aplikasi Pemisahan dan Pengolahan Limbah',\n",
       "  'deskripsi': 'Topik ini mencakup penelitian dan pengembangan membran biokomposit yang melibatkan sintesis dan karakterisasi material berbasis kimia seperti nanopartikel, nanofiber, dan nanokristal dari limbah kulit dan sumber lainnya. Fokus utama adalah pada peningkatan sifat antifouling, adsorpsi, dan degradasi untuk aplikasi dalam pemisahan molekul aromatik, hidrokarbon, dan limbah farmasi. Penggunaan bahan seperti polieugenol, polisulfon, selulosa asetat, dan graphene oxide menjadi bagian integral dari penelitian ini untuk meningkatkan efisiensi dan keberlanjutan proses pemisahan dan pengolahan limbah.'},\n",
       " 52: {'label_topik': 'Penelitian Genomik dan Epidemiologi Penyakit Infeksi',\n",
       "  'deskripsi': 'Topik ini mencakup penelitian dan pengabdian masyarakat yang berfokus pada pemetaan dan analisis penyakit infeksi menggunakan pendekatan genomik dan epidemiologi. Studi-studi ini mencakup berbagai penyakit infeksi yang menyerang manusia dan hewan, seperti virus penyakit mulut dan kuku pada sapi, infeksi gastroenteritis akut oleh norovirus, serta infeksi saluran napas akut pada anak. Pendekatan seperti whole genome sequencing dan analisis filogenetik digunakan untuk memahami penyebab, penularan, dan resistensi terhadap vaksin, serta untuk mengembangkan strategi pencegahan dan pengobatan yang efektif.'},\n",
       " 53: {'label_topik': 'Pengembangan Pariwisata Halal Berkelanjutan di Indonesia',\n",
       "  'deskripsi': 'Topik ini membahas tentang pengembangan dan implementasi pariwisata halal di Indonesia, dengan fokus pada keberlanjutan dan perspektif holistik dalam pengelolaan destinasi wisata di kota-kota seperti Surakarta dan Padangsidimpuan. Penelitian ini mencakup analisis atribut halal tourism dan dampaknya terhadap wisatawan, serta kajian tentang bagaimana konsep halal dapat diterapkan dalam konteks pariwisata berkelanjutan.'},\n",
       " 54: {'label_topik': 'Pengembangan Peternakan Berkelanjutan untuk Ketahanan Pangan dan Ekonomi Rumah Tangga',\n",
       "  'deskripsi': 'Topik ini mencakup penelitian dan pengabdian masyarakat yang berfokus pada pengembangan peternakan sapi dan kambing dengan pendekatan berkelanjutan. Ini termasuk strategi budidaya dan breeding yang mendukung ketahanan pangan dan penguatan ekonomi rumah tangga. Pendekatan yang digunakan dapat mencakup integrasi dengan sistem agroforestri dan pemanfaatan sumber daya lokal seperti pakan berkualitas dari perkebunan sawit. Tujuan utamanya adalah untuk mencapai swasembada daging sapi nasional dan mendukung ekonomi rumah tangga melalui model kemitraan dan pemanfaatan wakaf produktif.'},\n",
       " 55: {'label_topik': 'Pengaruh Media Sosial dan Digital dalam Komunikasi Publik',\n",
       "  'deskripsi': 'Topik ini mengkaji peran dan dampak media sosial serta media digital dalam membentuk komunikasi publik di era digital. Ini mencakup analisis tren topik di media sosial, penyebaran informasi seperti hoaks terkait peristiwa penting seperti pemilu, dan bagaimana konten digital mempengaruhi wacana politik dan budaya.'},\n",
       " 56: {'label_topik': 'Pengembangan Pakan Ikan Berbasis Protein Nabati dan Enzim',\n",
       "  'deskripsi': 'Topik ini membahas tentang inovasi dalam pengembangan pakan ikan, khususnya untuk ikan nila, dengan memanfaatkan bahan-bahan nabati seperti tepung kacang dan enzim untuk meningkatkan pertumbuhan dan efisiensi pakan. Penelitian mencakup analisis substitusi pakan dengan bahan terfermentasi, penggunaan enzim fitase untuk meningkatkan kecernaan protein, serta pemanfaatan tepung magot dan limbah tumbuhan sebagai sumber protein alternatif.'},\n",
       " 57: {'label_topik': 'Implementasi Sertifikasi Halal dan Perilaku Konsumen di Papua Barat',\n",
       "  'deskripsi': \"Topik ini membahas tentang strategi dan model untuk mempercepat implementasi sertifikasi halal di Papua Barat, dengan fokus pada perilaku konsumen dan literasi halal. Tujuannya adalah untuk mendukung industri dan usaha mikro dalam mencapai keberlanjutan melalui sertifikasi halal, serta meningkatkan kesadaran dan penerimaan produk halal di kalangan konsumen, khususnya di wilayah Papua Barat. Inisiatif seperti 'One Subdistrict One Centre Halal Product' juga menjadi bagian dari upaya ini dalam menghadapi mandatory halal pada tahun 2024.\"}}"
      ]
     },
     "execution_count": 105,
     "metadata": {},
     "output_type": "execute_result"
    }
   ],
   "source": [
    "bert_sum"
   ]
  },
  {
   "cell_type": "code",
   "execution_count": 99,
   "id": "f9a3a87f-4863-4e5e-aa67-c7f775104999",
   "metadata": {},
   "outputs": [
    {
     "data": {
      "text/plain": [
       "586"
      ]
     },
     "execution_count": 99,
     "metadata": {},
     "output_type": "execute_result"
    }
   ],
   "source": [
    "(df['BERTopic']==0).sum()"
   ]
  },
  {
   "cell_type": "code",
   "execution_count": 1,
   "id": "f583ad22-9e64-436d-8554-5ae15d75c0f9",
   "metadata": {},
   "outputs": [
    {
     "ename": "FileNotFoundError",
     "evalue": "[Errno 2] No such file or directory: 'institusi.json'",
     "output_type": "error",
     "traceback": [
      "\u001b[1;31m---------------------------------------------------------------------------\u001b[0m",
      "\u001b[1;31mFileNotFoundError\u001b[0m                         Traceback (most recent call last)",
      "Cell \u001b[1;32mIn[1], line 1\u001b[0m\n\u001b[1;32m----> 1\u001b[0m \u001b[38;5;28;01mwith\u001b[39;00m \u001b[38;5;28;43mopen\u001b[39;49m\u001b[43m(\u001b[49m\u001b[38;5;124;43m\"\u001b[39;49m\u001b[38;5;124;43minstitusi.json\u001b[39;49m\u001b[38;5;124;43m\"\u001b[39;49m\u001b[43m,\u001b[49m\u001b[43m \u001b[49m\u001b[38;5;124;43m\"\u001b[39;49m\u001b[38;5;124;43mr\u001b[39;49m\u001b[38;5;124;43m\"\u001b[39;49m\u001b[43m,\u001b[49m\u001b[43m \u001b[49m\u001b[43mencoding\u001b[49m\u001b[38;5;241;43m=\u001b[39;49m\u001b[38;5;124;43m\"\u001b[39;49m\u001b[38;5;124;43mutf-8\u001b[39;49m\u001b[38;5;124;43m\"\u001b[39;49m\u001b[43m)\u001b[49m \u001b[38;5;28;01mas\u001b[39;00m f:\n\u001b[0;32m      2\u001b[0m     data \u001b[38;5;241m=\u001b[39m json\u001b[38;5;241m.\u001b[39mload(f)\n",
      "File \u001b[1;32m~\\.conda\\envs\\nlp\\lib\\site-packages\\IPython\\core\\interactiveshell.py:324\u001b[0m, in \u001b[0;36m_modified_open\u001b[1;34m(file, *args, **kwargs)\u001b[0m\n\u001b[0;32m    317\u001b[0m \u001b[38;5;28;01mif\u001b[39;00m file \u001b[38;5;129;01min\u001b[39;00m {\u001b[38;5;241m0\u001b[39m, \u001b[38;5;241m1\u001b[39m, \u001b[38;5;241m2\u001b[39m}:\n\u001b[0;32m    318\u001b[0m     \u001b[38;5;28;01mraise\u001b[39;00m \u001b[38;5;167;01mValueError\u001b[39;00m(\n\u001b[0;32m    319\u001b[0m         \u001b[38;5;124mf\u001b[39m\u001b[38;5;124m\"\u001b[39m\u001b[38;5;124mIPython won\u001b[39m\u001b[38;5;124m'\u001b[39m\u001b[38;5;124mt let you open fd=\u001b[39m\u001b[38;5;132;01m{\u001b[39;00mfile\u001b[38;5;132;01m}\u001b[39;00m\u001b[38;5;124m by default \u001b[39m\u001b[38;5;124m\"\u001b[39m\n\u001b[0;32m    320\u001b[0m         \u001b[38;5;124m\"\u001b[39m\u001b[38;5;124mas it is likely to crash IPython. If you know what you are doing, \u001b[39m\u001b[38;5;124m\"\u001b[39m\n\u001b[0;32m    321\u001b[0m         \u001b[38;5;124m\"\u001b[39m\u001b[38;5;124myou can use builtins\u001b[39m\u001b[38;5;124m'\u001b[39m\u001b[38;5;124m open.\u001b[39m\u001b[38;5;124m\"\u001b[39m\n\u001b[0;32m    322\u001b[0m     )\n\u001b[1;32m--> 324\u001b[0m \u001b[38;5;28;01mreturn\u001b[39;00m io_open(file, \u001b[38;5;241m*\u001b[39margs, \u001b[38;5;241m*\u001b[39m\u001b[38;5;241m*\u001b[39mkwargs)\n",
      "\u001b[1;31mFileNotFoundError\u001b[0m: [Errno 2] No such file or directory: 'institusi.json'"
     ]
    }
   ],
   "source": [
    "with open(\"institusi.json\", \"r\", encoding=\"utf-8\") as f:\n",
    "    data = json.load(f)"
   ]
  }
 ],
 "metadata": {
  "kernelspec": {
   "display_name": "Python 3 (ipykernel)",
   "language": "python",
   "name": "python3"
  },
  "language_info": {
   "codemirror_mode": {
    "name": "ipython",
    "version": 3
   },
   "file_extension": ".py",
   "mimetype": "text/x-python",
   "name": "python",
   "nbconvert_exporter": "python",
   "pygments_lexer": "ipython3",
   "version": "3.10.11"
  }
 },
 "nbformat": 4,
 "nbformat_minor": 5
}
