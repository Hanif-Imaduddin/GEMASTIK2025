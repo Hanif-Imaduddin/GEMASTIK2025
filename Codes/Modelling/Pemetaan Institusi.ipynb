{
 "cells": [
  {
   "cell_type": "code",
   "execution_count": 2,
   "id": "97d831b0-b604-42a7-ab88-91dcb7c720f7",
   "metadata": {},
   "outputs": [],
   "source": [
    "import numpy as np\n",
    "import pandas as pd\n",
    "import matplotlib.pyplot as plt\n",
    "import seaborn as sns\n",
    "\n",
    "import openai\n",
    "from openai import OpenAI\n",
    "\n",
    "import os\n",
    "from dotenv import load_dotenv\n",
    "\n",
    "load_dotenv(override=True)\n",
    "openai.api_key = os.getenv(\"OPENAI_API_KEY\")\n",
    "client = OpenAI()"
   ]
  },
  {
   "cell_type": "code",
   "execution_count": 106,
   "id": "22dcaeef-5a6e-487f-beb5-9bbfab0143bb",
   "metadata": {},
   "outputs": [],
   "source": [
    "import re"
   ]
  },
  {
   "cell_type": "code",
   "execution_count": 49,
   "id": "188ce084-d7d8-4136-92a8-cff8e37cfd62",
   "metadata": {},
   "outputs": [],
   "source": [
    "import ast"
   ]
  },
  {
   "cell_type": "code",
   "execution_count": 3,
   "id": "7184066b-3f38-4cfb-b3e2-dc364879f066",
   "metadata": {},
   "outputs": [],
   "source": [
    "config = {\n",
    "    'dataset_dir' : '../../Datasets/'\n",
    "}"
   ]
  },
  {
   "cell_type": "code",
   "execution_count": 4,
   "id": "18ded8ba-7252-4ad9-b34a-cbde0fa092d9",
   "metadata": {},
   "outputs": [],
   "source": [
    "df_penelitian = pd.read_csv(config['dataset_dir']+'Daftar Penerima Pendanaan Program Penelitian Tahun Anggaran 2024.csv')\n",
    "\n",
    "df_abdimas = pd.read_csv(config['dataset_dir']+'Penerima Pendanaan Program Pengabdian kepada Masyarakat Batch II  Tahun  Anggaran 2025.csv')\n",
    "df_abdimas = df_abdimas.rename(columns={'Institusi':'Nama Institusi'})"
   ]
  },
  {
   "cell_type": "code",
   "execution_count": 5,
   "id": "8fa451db-0fd1-4a31-a877-8537669d2606",
   "metadata": {},
   "outputs": [],
   "source": [
    "df = pd.concat([df_penelitian[['Nama Institusi','Judul']],df_abdimas[['Nama Institusi','Judul']]]).reset_index(drop=True)"
   ]
  },
  {
   "cell_type": "code",
   "execution_count": 27,
   "id": "848ed8fa-f731-4924-b76c-2f8d61c3daab",
   "metadata": {},
   "outputs": [],
   "source": [
    "def batch_generator(data,batch_size=50):\n",
    "    for i in range(0,len(data),batch_size):\n",
    "        yield data[i:i+batch_size]"
   ]
  },
  {
   "cell_type": "code",
   "execution_count": 54,
   "id": "c4a73915-2a09-475f-82c3-ddec8ee655da",
   "metadata": {},
   "outputs": [],
   "source": [
    "all_institusi = list(df['Nama Institusi'].unique())"
   ]
  },
  {
   "cell_type": "code",
   "execution_count": 59,
   "id": "451b140c-8db0-40c1-897a-f0709193e7a1",
   "metadata": {},
   "outputs": [],
   "source": [
    "def get_location(list_institusi):\n",
    "    prompt = f\"Saya mempunyai list yang berisi nama-nama institusi pendidikan di Indonesia sebagai berikut {list_institusi}\\n\\n\"\n",
    "    prompt += \"Berdasarkan list nama-nama institusi tersebut, cari tahu masing-masing kabupaten atau kota dan provinsi tempat institusi itu berada.\\n\\n\"\n",
    "    prompt += \"Jawab dalam format list yang berisi tuple-tuple seperti ini: [(nama_institusi,kabupaten atau kota,provinsi),(nama_institusi,kabupaten atau kota,provinsi), ...]. Jika salah satu tidak diketahui maka isi dengna 'unknown'.\"\n",
    "\n",
    "    response = client.chat.completions.create(\n",
    "        model=\"gpt-4o-2024-08-06\",\n",
    "        messages=[\n",
    "            {\"role\": \"system\", \"content\": 'Kamu adalah asisten yang mencari tahu di kota/kabupaten dan provinsi mana suatu institusi berada. Kamu hanya menjawab dalam format list yang berisi tuple'},\n",
    "            {\"role\": \"user\", \"content\": prompt}\n",
    "        ],\n",
    "        temperature=0\n",
    "    )\n",
    "    content = response.choices[0].message.content.strip()\n",
    "    if content.startswith(\"```\") and content.endswith(\"```\"):\n",
    "        content = \"\\n\".join(content.splitlines()[1:-1])\n",
    "    return ast.literal_eval(content)"
   ]
  },
  {
   "cell_type": "code",
   "execution_count": 39,
   "id": "ca475418-291a-407e-92d8-dd4614f4f2f4",
   "metadata": {},
   "outputs": [],
   "source": [
    "gen = batch_generator(all_institusi,50)\n",
    "nyoba = next(iter(gen))"
   ]
  },
  {
   "cell_type": "code",
   "execution_count": 88,
   "id": "150e9106-ba7e-4742-9559-5e582d5d9d50",
   "metadata": {},
   "outputs": [],
   "source": [
    "gen = batch_generator(all_institusi,50)\n",
    "list_tuple_all = []\n",
    "for list_institusi in gen:\n",
    "    list_tuple = get_location(list_institusi)\n",
    "    list_tuple_all += list_tuple"
   ]
  },
  {
   "cell_type": "code",
   "execution_count": 89,
   "id": "f3270e21-1644-4704-98d6-8031d149022d",
   "metadata": {},
   "outputs": [
    {
     "data": {
      "text/plain": [
       "1285"
      ]
     },
     "execution_count": 89,
     "metadata": {},
     "output_type": "execute_result"
    }
   ],
   "source": [
    "len(list_tuple_all)"
   ]
  },
  {
   "cell_type": "code",
   "execution_count": 90,
   "id": "2c738ae6-c0dd-4673-bf69-028698a2238a",
   "metadata": {},
   "outputs": [],
   "source": [
    "institusi_dict = {}\n",
    "for t in list_tuple_all:\n",
    "    institusi_dict[t[0]] = {'kota':t[1],'provinsi':t[2]}"
   ]
  },
  {
   "cell_type": "code",
   "execution_count": 117,
   "id": "2929f549-6bcb-47d9-aac1-4fc34d757c59",
   "metadata": {},
   "outputs": [],
   "source": [
    "def get_kota(x):\n",
    "    result = institusi_dict.get(x,'unknown')\n",
    "    if result == 'unknown':\n",
    "        return result\n",
    "    else:\n",
    "        return result['kota']"
   ]
  },
  {
   "cell_type": "code",
   "execution_count": 93,
   "id": "0044e40d-c4ec-44de-b075-40ebd72a4d44",
   "metadata": {},
   "outputs": [],
   "source": [
    "df['kota'] = df['Nama Institusi'].apply(get_kota)"
   ]
  },
  {
   "cell_type": "code",
   "execution_count": 94,
   "id": "75e185d5-d9ff-426b-b7b8-182b759e3e2e",
   "metadata": {},
   "outputs": [],
   "source": [
    "all_institusi2 = list(df[df['kota']=='unknown']['Nama Institusi'].unique())"
   ]
  },
  {
   "cell_type": "code",
   "execution_count": 95,
   "id": "c396c111-e3ad-4c9a-88a5-bddb92663d40",
   "metadata": {},
   "outputs": [],
   "source": [
    "gen = batch_generator(all_institusi2,50)\n",
    "list_tuple_all = []\n",
    "for list_institusi in gen:\n",
    "    list_tuple = get_location(list_institusi)\n",
    "    list_tuple_all += list_tuple"
   ]
  },
  {
   "cell_type": "code",
   "execution_count": 96,
   "id": "8da6a71e-6907-4b83-aaa3-9c14cbac1b13",
   "metadata": {},
   "outputs": [],
   "source": [
    "for t in list_tuple_all:\n",
    "    institusi_dict[t[0]] = {'kota':t[1],'provinsi':t[2]}"
   ]
  },
  {
   "cell_type": "code",
   "execution_count": 97,
   "id": "fcb91f01-c82a-42ef-98bf-ba2f20068370",
   "metadata": {},
   "outputs": [],
   "source": [
    "df['kota'] = df['Nama Institusi'].apply(get_kota)"
   ]
  },
  {
   "cell_type": "code",
   "execution_count": 98,
   "id": "4570f2d3-ea1c-487c-865f-844552067c35",
   "metadata": {},
   "outputs": [
    {
     "data": {
      "text/plain": [
       "0           Kota Bogor\n",
       "1           Kota Bogor\n",
       "2           Kota Bogor\n",
       "3           Kota Bogor\n",
       "4           Kota Bogor\n",
       "             ...      \n",
       "12485        Pekanbaru\n",
       "12486        Pekanbaru\n",
       "12487        Pekanbaru\n",
       "12488    Pasaman Barat\n",
       "12489            Batam\n",
       "Name: kota, Length: 12490, dtype: object"
      ]
     },
     "execution_count": 98,
     "metadata": {},
     "output_type": "execute_result"
    }
   ],
   "source": [
    "df['kota']"
   ]
  },
  {
   "cell_type": "code",
   "execution_count": 100,
   "id": "0eb6fa6f-0ca2-4120-ad8d-162831f5a45c",
   "metadata": {},
   "outputs": [
    {
     "data": {
      "text/plain": [
       "633"
      ]
     },
     "execution_count": 100,
     "metadata": {},
     "output_type": "execute_result"
    }
   ],
   "source": [
    "sum(df['kota'] == 'unknown')"
   ]
  },
  {
   "cell_type": "code",
   "execution_count": 101,
   "id": "1540c242-e902-458f-bed1-69fea35fb4d5",
   "metadata": {},
   "outputs": [],
   "source": [
    "all_institusi3 = list(df[df['kota']=='unknown']['Nama Institusi'].unique())"
   ]
  },
  {
   "cell_type": "code",
   "execution_count": 103,
   "id": "39e84bf1-d109-4961-8629-ec8e6628f244",
   "metadata": {},
   "outputs": [
    {
     "data": {
      "text/plain": [
       "202"
      ]
     },
     "execution_count": 103,
     "metadata": {},
     "output_type": "execute_result"
    }
   ],
   "source": [
    "len(all_institusi2)"
   ]
  },
  {
   "cell_type": "code",
   "execution_count": 109,
   "id": "9ab778f5-2d89-4b9f-b2f2-d17d622b8a83",
   "metadata": {},
   "outputs": [],
   "source": [
    "df['Nama Institusi'] = df['Nama Institusi'].apply(lambda x: re.sub(r'\\s+', ' ', x).strip())"
   ]
  },
  {
   "cell_type": "code",
   "execution_count": 118,
   "id": "c6d9a111-ad12-4d87-9fb2-ce771ae7923b",
   "metadata": {},
   "outputs": [],
   "source": [
    "df['kota'] = df['Nama Institusi'].apply(get_kota)"
   ]
  },
  {
   "cell_type": "code",
   "execution_count": 119,
   "id": "e68aead6-3f09-4ca7-a54e-51469e2fb91d",
   "metadata": {},
   "outputs": [],
   "source": [
    "all_institusi3 = list(df[df['kota']=='unknown']['Nama Institusi'].unique())"
   ]
  },
  {
   "cell_type": "code",
   "execution_count": 120,
   "id": "d6b63cc3-419d-4fa5-843b-1439b5be97dc",
   "metadata": {},
   "outputs": [
    {
     "data": {
      "text/plain": [
       "105"
      ]
     },
     "execution_count": 120,
     "metadata": {},
     "output_type": "execute_result"
    }
   ],
   "source": [
    "len(all_institusi3)"
   ]
  },
  {
   "cell_type": "code",
   "execution_count": 127,
   "id": "9e371b3c-4cf2-434e-8b43-44580ec2dfab",
   "metadata": {},
   "outputs": [],
   "source": [
    "from json import dump,load\n",
    "import json"
   ]
  },
  {
   "cell_type": "code",
   "execution_count": 128,
   "id": "c742eda0-f0f6-49e6-8119-adecbce2a50b",
   "metadata": {},
   "outputs": [],
   "source": [
    "with open(\"insitusi.json\", \"w\", encoding=\"utf-8\") as f:\n",
    "    json.dump(institusi_dict, f, ensure_ascii=False, indent=4)"
   ]
  },
  {
   "cell_type": "code",
   "execution_count": null,
   "id": "a9cf4d07-c2af-4ee1-9cda-4be94f414b04",
   "metadata": {},
   "outputs": [],
   "source": []
  }
 ],
 "metadata": {
  "kernelspec": {
   "display_name": "Python 3 (ipykernel)",
   "language": "python",
   "name": "python3"
  },
  "language_info": {
   "codemirror_mode": {
    "name": "ipython",
    "version": 3
   },
   "file_extension": ".py",
   "mimetype": "text/x-python",
   "name": "python",
   "nbconvert_exporter": "python",
   "pygments_lexer": "ipython3",
   "version": "3.10.11"
  }
 },
 "nbformat": 4,
 "nbformat_minor": 5
}
