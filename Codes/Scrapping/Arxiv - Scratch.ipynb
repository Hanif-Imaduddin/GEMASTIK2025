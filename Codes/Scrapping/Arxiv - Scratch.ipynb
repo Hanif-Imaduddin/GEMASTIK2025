{
 "cells": [
  {
   "cell_type": "code",
   "execution_count": 4,
   "id": "4cee5bf7-8bad-466a-9e0b-b683c7181be9",
   "metadata": {},
   "outputs": [],
   "source": [
    "from selenium import webdriver\n",
    "from selenium.webdriver.chrome.service import Service\n",
    "from selenium.webdriver.support.ui import Select, WebDriverWait\n",
    "from selenium.webdriver.common.by import By\n",
    "from webdriver_manager.chrome import ChromeDriverManager\n",
    "from selenium.webdriver.support import expected_conditions as EC\n",
    "import chromedriver_autoinstaller\n",
    "import time\n",
    "\n",
    "from selenium.common.exceptions import NoSuchElementException, ElementClickInterceptedException"
   ]
  },
  {
   "cell_type": "code",
   "execution_count": 5,
   "id": "6ad8d226-6236-480f-82b4-d39b5e3be90b",
   "metadata": {},
   "outputs": [],
   "source": [
    "import numpy as np\n",
    "import pandas as pd"
   ]
  },
  {
   "cell_type": "code",
   "execution_count": 21,
   "id": "8dec5c35-de69-482f-8be8-0c9080d1b0da",
   "metadata": {},
   "outputs": [],
   "source": [
    "import os\n",
    "os.mkdir(\"./Test2/\")"
   ]
  },
  {
   "cell_type": "code",
   "execution_count": 19,
   "id": "c2f4bfa6-d815-405a-8853-a14b786aa90c",
   "metadata": {
    "scrolled": true
   },
   "outputs": [
    {
     "data": {
      "text/plain": [
       "DatetimeIndex(['2014-12-31', '2015-12-31', '2016-12-31', '2017-12-31',\n",
       "               '2018-12-31', '2019-12-31', '2020-12-31', '2021-12-31',\n",
       "               '2022-12-31', '2023-12-31', '2024-12-31'],\n",
       "              dtype='datetime64[ns]', freq='YE-DEC')"
      ]
     },
     "execution_count": 19,
     "metadata": {},
     "output_type": "execute_result"
    }
   ],
   "source": [
    "pd.date_range('2014','2025',freq='YE')"
   ]
  },
  {
   "cell_type": "code",
   "execution_count": 24,
   "id": "405305e1-e5c7-4854-8626-0240d2f977f2",
   "metadata": {},
   "outputs": [
    {
     "data": {
      "text/plain": [
       "[Timestamp('2014-01-01 00:00:00'),\n",
       " Timestamp('2015-01-01 00:00:00'),\n",
       " Timestamp('2016-01-01 00:00:00'),\n",
       " Timestamp('2017-01-01 00:00:00'),\n",
       " Timestamp('2018-01-01 00:00:00'),\n",
       " Timestamp('2019-01-01 00:00:00'),\n",
       " Timestamp('2020-01-01 00:00:00'),\n",
       " Timestamp('2021-01-01 00:00:00'),\n",
       " Timestamp('2022-01-01 00:00:00'),\n",
       " Timestamp('2023-01-01 00:00:00'),\n",
       " Timestamp('2024-01-01 00:00:00'),\n",
       " Timestamp('2025-01-01 00:00:00')]"
      ]
     },
     "execution_count": 24,
     "metadata": {},
     "output_type": "execute_result"
    }
   ],
   "source": [
    "pd.date_range('2014','2025',freq='YS')"
   ]
  },
  {
   "cell_type": "code",
   "execution_count": 27,
   "id": "43bd2eac-ab02-495d-9af3-d852cf328b3b",
   "metadata": {},
   "outputs": [
    {
     "name": "stdout",
     "output_type": "stream",
     "text": [
      "2014-01-01\n",
      "2015-01-01\n",
      "2016-01-01\n",
      "2017-01-01\n",
      "2018-01-01\n",
      "2019-01-01\n",
      "2020-01-01\n",
      "2021-01-01\n",
      "2022-01-01\n",
      "2023-01-01\n",
      "2024-01-01\n",
      "2025-01-01\n"
     ]
    }
   ],
   "source": [
    "for date in pd.date_range('2014','2025',freq='YS'):\n",
    "    print(str(date)[:-9])"
   ]
  },
  {
   "cell_type": "code",
   "execution_count": 2,
   "id": "3c558b81-b213-471b-9b78-37378ab08064",
   "metadata": {},
   "outputs": [],
   "source": [
    "search_term = \"technological innovation\""
   ]
  },
  {
   "cell_type": "code",
   "execution_count": 4,
   "id": "21255054-772b-4640-aafd-122ab5995348",
   "metadata": {},
   "outputs": [],
   "source": [
    "sample_url = \"https://arxiv.org/search/advanced\""
   ]
  },
  {
   "cell_type": "code",
   "execution_count": 2,
   "id": "26a956d1-5e9a-4c31-ab94-d6d9fa1e5c7d",
   "metadata": {},
   "outputs": [],
   "source": [
    "key_word = \"innovation\""
   ]
  },
  {
   "cell_type": "code",
   "execution_count": 148,
   "id": "c8d2cf59-4df5-476d-a76d-0c0a48290ba6",
   "metadata": {},
   "outputs": [],
   "source": [
    "class Article:\n",
    "    def __init__(self):\n",
    "        self.authors = ''\n",
    "        self.title = ''\n",
    "        self.abstract = ''\n",
    "        self.submitted_date = ''\n",
    "        self.pdf_link = ''"
   ]
  },
  {
   "cell_type": "code",
   "execution_count": 22,
   "id": "d3715220-81cf-43a0-b37a-8e186e846a71",
   "metadata": {},
   "outputs": [],
   "source": [
    "def send_key(driver,xpath,key_word):\n",
    "    elm = driver.find_element(By.XPATH,xpath)\n",
    "    elm.send_keys(key_word)"
   ]
  },
  {
   "cell_type": "code",
   "execution_count": 24,
   "id": "4bbddc13-e14a-4b9c-b7f3-b658814aee51",
   "metadata": {},
   "outputs": [],
   "source": [
    "def set_search_term(driver,key_word,dropdown_value=\"abstract\"):\n",
    "    dropdown_xpath = '//*[@id=\"terms-0-field\"]'\n",
    "    dropdown = Select(driver.find_element(By.XPATH,dropdown_xpath))\n",
    "    dropdown.select_by_value(dropdown_value)\n",
    "\n",
    "    # input_box = driver.find_element(By.XPATH,input_box_xpath)\n",
    "    # input_box.send_keys(key_word)\n",
    "    send_key(driver,'//*[@id=\"terms-0-term\"]',key_word)"
   ]
  },
  {
   "cell_type": "code",
   "execution_count": 17,
   "id": "a7e2f5a8-ae0d-4b07-8d54-676732e80be3",
   "metadata": {},
   "outputs": [],
   "source": [
    "def set_subject(driver):\n",
    "    checkbox_xpath = '//*[@id=\"main-container\"]/div[2]/div[2]/div[1]/div/form/section[2]/fieldset[1]/div[2]/div[1]/div[1]/div/div/label'\n",
    "    checkbox = driver.find_element(By.XPATH,checkbox_xpath)\n",
    "    checkbox.click()"
   ]
  },
  {
   "cell_type": "code",
   "execution_count": 29,
   "id": "6fecc74c-dfec-4c55-8743-6ce8ea50b257",
   "metadata": {},
   "outputs": [],
   "source": [
    "def set_date_range(driver,date_from,date_to):\n",
    "    label_xpath = '//*[@id=\"main-container\"]/div[2]/div[2]/div[1]/div/form/section[2]/fieldset[2]/div[4]/div/div/label'\n",
    "    label = driver.find_element(By.XPATH,label_xpath)\n",
    "    label.click()\n",
    "    time.sleep(0.5)\n",
    "\n",
    "    date_from_xpath = '//*[@id=\"date-from_date\"]'\n",
    "    send_key(driver,date_from_xpath,date_from)\n",
    "    \n",
    "    date_to_xpath = '//*[@id=\"date-to_date\"]'\n",
    "    send_key(driver,date_to_xpath,date_to)"
   ]
  },
  {
   "cell_type": "code",
   "execution_count": 31,
   "id": "483e8aca-7357-47e4-8bff-18c668139314",
   "metadata": {},
   "outputs": [],
   "source": [
    "def click_search_button(driver):\n",
    "    search_button_xpath = '//*[@id=\"main-container\"]/div[2]/div[2]/div[1]/div/form/section[3]/button'\n",
    "    search_button = driver.find_element(By.XPATH,search_button_xpath)\n",
    "    search_button.click()"
   ]
  },
  {
   "cell_type": "code",
   "execution_count": 36,
   "id": "9c6920cb-9690-45aa-a76b-46a6aaf9907d",
   "metadata": {},
   "outputs": [],
   "source": [
    "def click_next_button(driver):\n",
    "    next_btn_xpath = '//*[@id=\"main-container\"]/div[2]/nav[2]/a[2]'\n",
    "    try:\n",
    "        next_btn = driver.find_element(By.XPATH,next_btn_xpath)\n",
    "        next_btn.click()\n",
    "        return True\n",
    "    except:\n",
    "        return False"
   ]
  },
  {
   "cell_type": "code",
   "execution_count": 172,
   "id": "0eb72b24-fba0-4f35-91a0-629775c25723",
   "metadata": {},
   "outputs": [],
   "source": [
    "def extract_article_box(article_box):\n",
    "    article = Article()\n",
    "    try:\n",
    "        more_btn = article_box.find_element(By.XPATH,'./p[3]/span[2]/a')\n",
    "        more_btn.click()\n",
    "        long_abstract = True\n",
    "    except:\n",
    "        long_abstract = False\n",
    "    try:\n",
    "        authors_xpath = './p[2]/a'\n",
    "        authors = article_box.find_elements(By.XPATH,authors_xpath)\n",
    "        author_list = []\n",
    "        for author in authors:\n",
    "            author_list.append(author.text)\n",
    "        article.authors = ';'.join(author_list)\n",
    "    except NoSuchElementException:\n",
    "        print(\"Author tidak ditemukan\")\n",
    "        return article,False\n",
    "\n",
    "    try:\n",
    "        title_xpath = './p[1]'\n",
    "        title = article_box.find_element(By.XPATH,title_xpath)\n",
    "        article.title = title.text\n",
    "    except NoSuchElementException:\n",
    "        print(\"Title tidak ditemukan\")\n",
    "        return article,False\n",
    "\n",
    "    try:\n",
    "        if long_abstract:\n",
    "            abstract = article_box.find_element(By.CSS_SELECTOR,'.abstract-full')\n",
    "        else:\n",
    "            abstract = article_box.find_element(By.CSS_SELECTOR,'.abstract-short')\n",
    "        article.abstract = abstract.text\n",
    "    except NoSuchElementException:\n",
    "        print(\"Abstract tidak ditemukan\")\n",
    "        return article,False\n",
    "\n",
    "    try:\n",
    "        submitted_date = article_box.find_element(By.XPATH,'./p[4]')\n",
    "        # pd.to_datetime(articles[0].submitted_date.)\n",
    "        article.submitted_date = submitted_date.text.split(';')[0][10:]\n",
    "    except NoSuchElementException:\n",
    "        print(\"Submitted Date tidak ketemu\")\n",
    "        return article,False\n",
    "\n",
    "    try:\n",
    "        pdf_link = article_box.find_element(By.XPATH,'./div/p/span/a[1]')\n",
    "        article.pdf_link = pdf_link.get_attribute('href')\n",
    "\n",
    "        if 'pdf' not in article.pdf_link:\n",
    "            raise('Link PDF tidak tersedia')\n",
    "    except:\n",
    "        print(\"Link PDF tidak tersedia\")\n",
    "        return article,False\n",
    "        \n",
    "    return article,True"
   ]
  },
  {
   "cell_type": "code",
   "execution_count": 173,
   "id": "b99a9fa6-d70a-4ed3-a3e4-1d074b8aaf95",
   "metadata": {},
   "outputs": [],
   "source": [
    "def extract_article_boxes(driver):\n",
    "    articles = []\n",
    "    article_boxes_xpath = '//*[@id=\"main-container\"]/div[2]/ol/li'\n",
    "    article_boxes = driver.find_elements(By.XPATH,article_boxes_xpath)\n",
    "    for article_box in article_boxes:\n",
    "        article,valid = extract_article_box(article_box)\n",
    "        if valid:\n",
    "            articles.append(article)\n",
    "    return articles"
   ]
  },
  {
   "cell_type": "code",
   "execution_count": 174,
   "id": "a6b67f85-93d0-4a6b-9e53-c8a11a947d87",
   "metadata": {},
   "outputs": [],
   "source": [
    "def get_data(driver,n=np.inf):\n",
    "    articles = []\n",
    "    i = 0\n",
    "    while i < n:\n",
    "        articles = articles + extract_article_boxes(driver)\n",
    "        if not click_next_button(driver):\n",
    "            break\n",
    "        i += 1\n",
    "        time.sleep(1)\n",
    "    return articles"
   ]
  },
  {
   "cell_type": "code",
   "execution_count": 180,
   "id": "945be3c2-64d7-487a-9652-e930d4a7ee93",
   "metadata": {},
   "outputs": [],
   "source": [
    "def article_list_to_df(article_list):\n",
    "    df_dict = {\n",
    "        'title': [],\n",
    "        'authors':[],\n",
    "        'abstract' : [],\n",
    "        'submitted_date' : [],\n",
    "        'pdf_link':[]\n",
    "    }\n",
    "    for article in article_list:\n",
    "        df_dict['title'].append(article.title)\n",
    "        df_dict['authors'].append(article.authors)\n",
    "        df_dict['abstract'].append(article.abstract)\n",
    "        df_dict['submitted_date'].append(article.submitted_date)\n",
    "        df_dict['pdf_link'].append(article.pdf_link)\n",
    "    return pd.DataFrame(df_dict)"
   ]
  },
  {
   "cell_type": "code",
   "execution_count": 184,
   "id": "047c6ec2-82d2-4c43-bf55-dbe4d64ff10f",
   "metadata": {
    "scrolled": true
   },
   "outputs": [],
   "source": [
    "driver = webdriver.Chrome()\n",
    "driver.get(sample_url)\n",
    "time.sleep(3)\n",
    "set_search_term(driver,key_word)\n",
    "set_subject(driver)\n",
    "set_date_range(driver,date_from='2010-01-01',date_to='2025-07-18')\n",
    "click_search_button(driver)\n",
    "time.sleep(2)\n",
    "articles = get_data(driver,n=1)"
   ]
  },
  {
   "cell_type": "code",
   "execution_count": 181,
   "id": "d6c15660-719a-402b-8b6d-c69253c47c4b",
   "metadata": {},
   "outputs": [],
   "source": [
    "df = article_list_to_df(articles)"
   ]
  },
  {
   "cell_type": "code",
   "execution_count": 183,
   "id": "092ba71f-d61a-4929-a48c-6b6a38e32e21",
   "metadata": {},
   "outputs": [
    {
     "data": {
      "text/html": [
       "<div>\n",
       "<style scoped>\n",
       "    .dataframe tbody tr th:only-of-type {\n",
       "        vertical-align: middle;\n",
       "    }\n",
       "\n",
       "    .dataframe tbody tr th {\n",
       "        vertical-align: top;\n",
       "    }\n",
       "\n",
       "    .dataframe thead th {\n",
       "        text-align: right;\n",
       "    }\n",
       "</style>\n",
       "<table border=\"1\" class=\"dataframe\">\n",
       "  <thead>\n",
       "    <tr style=\"text-align: right;\">\n",
       "      <th></th>\n",
       "      <th>title</th>\n",
       "      <th>authors</th>\n",
       "      <th>abstract</th>\n",
       "      <th>submitted_date</th>\n",
       "      <th>pdf_link</th>\n",
       "    </tr>\n",
       "  </thead>\n",
       "  <tbody>\n",
       "    <tr>\n",
       "      <th>0</th>\n",
       "      <td>A Survey on Segment Routing with Emphasis on U...</td>\n",
       "      <td>Aniruddha Kushwaha;Sidharth Sharma;Ashwin Gumaste</td>\n",
       "      <td>Segment routing is heralded as important techn...</td>\n",
       "      <td>29 December, 2020</td>\n",
       "      <td>https://arxiv.org/pdf/2012.14687</td>\n",
       "    </tr>\n",
       "    <tr>\n",
       "      <th>1</th>\n",
       "      <td>Robotics Enabling the Workforce</td>\n",
       "      <td>Henrik Christensen;Maria Gini;Odest Chadwicke ...</td>\n",
       "      <td>Robotics has the potential to magnify the skil...</td>\n",
       "      <td>16 December, 2020</td>\n",
       "      <td>https://arxiv.org/pdf/2012.09309</td>\n",
       "    </tr>\n",
       "    <tr>\n",
       "      <th>2</th>\n",
       "      <td>Use of Technology and Innovations in the COVID...</td>\n",
       "      <td>Adyasha Maharana;Morine Amutorine;Moinina Davi...</td>\n",
       "      <td>The use of technology has been ubiquitous in e...</td>\n",
       "      <td>11 December, 2020</td>\n",
       "      <td>https://arxiv.org/pdf/2012.07741</td>\n",
       "    </tr>\n",
       "    <tr>\n",
       "      <th>3</th>\n",
       "      <td>Artificial Intelligence for COVID-19 Detection...</td>\n",
       "      <td>Parsa Sarosh;Shabir A. Parah;Romany F Mansur;G...</td>\n",
       "      <td>The emergence of COVID-19 has necessitated man...</td>\n",
       "      <td>25 November, 2020</td>\n",
       "      <td>https://arxiv.org/pdf/2012.06310</td>\n",
       "    </tr>\n",
       "    <tr>\n",
       "      <th>4</th>\n",
       "      <td>Impact of Business technologies on the success...</td>\n",
       "      <td>Z. H. A Almtiri;S. J. Miah</td>\n",
       "      <td>The primary task of the study is to inspect th...</td>\n",
       "      <td>11 December, 2020</td>\n",
       "      <td>https://arxiv.org/pdf/2012.06214</td>\n",
       "    </tr>\n",
       "  </tbody>\n",
       "</table>\n",
       "</div>"
      ],
      "text/plain": [
       "                                               title  \\\n",
       "0  A Survey on Segment Routing with Emphasis on U...   \n",
       "1                    Robotics Enabling the Workforce   \n",
       "2  Use of Technology and Innovations in the COVID...   \n",
       "3  Artificial Intelligence for COVID-19 Detection...   \n",
       "4  Impact of Business technologies on the success...   \n",
       "\n",
       "                                             authors  \\\n",
       "0  Aniruddha Kushwaha;Sidharth Sharma;Ashwin Gumaste   \n",
       "1  Henrik Christensen;Maria Gini;Odest Chadwicke ...   \n",
       "2  Adyasha Maharana;Morine Amutorine;Moinina Davi...   \n",
       "3  Parsa Sarosh;Shabir A. Parah;Romany F Mansur;G...   \n",
       "4                         Z. H. A Almtiri;S. J. Miah   \n",
       "\n",
       "                                            abstract     submitted_date  \\\n",
       "0  Segment routing is heralded as important techn...  29 December, 2020   \n",
       "1  Robotics has the potential to magnify the skil...  16 December, 2020   \n",
       "2  The use of technology has been ubiquitous in e...  11 December, 2020   \n",
       "3  The emergence of COVID-19 has necessitated man...  25 November, 2020   \n",
       "4  The primary task of the study is to inspect th...  11 December, 2020   \n",
       "\n",
       "                           pdf_link  \n",
       "0  https://arxiv.org/pdf/2012.14687  \n",
       "1  https://arxiv.org/pdf/2012.09309  \n",
       "2  https://arxiv.org/pdf/2012.07741  \n",
       "3  https://arxiv.org/pdf/2012.06310  \n",
       "4  https://arxiv.org/pdf/2012.06214  "
      ]
     },
     "execution_count": 183,
     "metadata": {},
     "output_type": "execute_result"
    }
   ],
   "source": [
    "df.head()"
   ]
  }
 ],
 "metadata": {
  "kernelspec": {
   "display_name": "Python 3 (ipykernel)",
   "language": "python",
   "name": "python3"
  },
  "language_info": {
   "codemirror_mode": {
    "name": "ipython",
    "version": 3
   },
   "file_extension": ".py",
   "mimetype": "text/x-python",
   "name": "python",
   "nbconvert_exporter": "python",
   "pygments_lexer": "ipython3",
   "version": "3.12.4"
  }
 },
 "nbformat": 4,
 "nbformat_minor": 5
}
