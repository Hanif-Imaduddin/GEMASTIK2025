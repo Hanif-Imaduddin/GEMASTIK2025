{
 "cells": [
  {
   "cell_type": "code",
   "execution_count": 2,
   "id": "503eac9c-fa45-4c9d-ab27-ef38dc164437",
   "metadata": {},
   "outputs": [],
   "source": [
    "import numpy as np\n",
    "import pandas as pd\n",
    "from glob import glob"
   ]
  },
  {
   "cell_type": "code",
   "execution_count": 5,
   "id": "94a2b634-9bbc-43ef-9d84-fa384229bfc8",
   "metadata": {},
   "outputs": [],
   "source": [
    "file_paths = glob('./Innovation/*.csv')\n",
    "df = pd.concat([pd.read_csv(file_path) for file_path in file_paths])"
   ]
  },
  {
   "cell_type": "code",
   "execution_count": 6,
   "id": "38046920-ab32-4437-b4b5-6a5924e53160",
   "metadata": {},
   "outputs": [
    {
     "data": {
      "text/html": [
       "<div>\n",
       "<style scoped>\n",
       "    .dataframe tbody tr th:only-of-type {\n",
       "        vertical-align: middle;\n",
       "    }\n",
       "\n",
       "    .dataframe tbody tr th {\n",
       "        vertical-align: top;\n",
       "    }\n",
       "\n",
       "    .dataframe thead th {\n",
       "        text-align: right;\n",
       "    }\n",
       "</style>\n",
       "<table border=\"1\" class=\"dataframe\">\n",
       "  <thead>\n",
       "    <tr style=\"text-align: right;\">\n",
       "      <th></th>\n",
       "      <th>title</th>\n",
       "      <th>authors</th>\n",
       "      <th>abstract</th>\n",
       "      <th>submitted_date</th>\n",
       "      <th>pdf_link</th>\n",
       "    </tr>\n",
       "  </thead>\n",
       "  <tbody>\n",
       "    <tr>\n",
       "      <th>0</th>\n",
       "      <td>Improved texture image classification through ...</td>\n",
       "      <td>Núbia Rosa da Silva;Pieter Van der Weeën;Berna...</td>\n",
       "      <td>In this paper, the problem of classifying synt...</td>\n",
       "      <td>25 December, 2014</td>\n",
       "      <td>https://arxiv.org/pdf/1412.7889</td>\n",
       "    </tr>\n",
       "    <tr>\n",
       "      <th>1</th>\n",
       "      <td>An Implementation Framework (IF) for the Natio...</td>\n",
       "      <td>Ahmed Otoom;Issa Atoum</td>\n",
       "      <td>This paper proposes an implementation framewor...</td>\n",
       "      <td>30 November, 2014</td>\n",
       "      <td>https://arxiv.org/pdf/1412.1141</td>\n",
       "    </tr>\n",
       "    <tr>\n",
       "      <th>2</th>\n",
       "      <td>Υ\\n-DB: A system for data-driven hypothesis ma...</td>\n",
       "      <td>Bernardo Gonçalves;Frederico C. Silva;Fabio Porto</td>\n",
       "      <td>The vision of Υ-DB introduces deterministic sc...</td>\n",
       "      <td>26 November, 2014</td>\n",
       "      <td>https://arxiv.org/pdf/1411.7419</td>\n",
       "    </tr>\n",
       "    <tr>\n",
       "      <th>3</th>\n",
       "      <td>Analysis of Memory Ballooning Technique for Dy...</td>\n",
       "      <td>A B M Moniruzzaman</td>\n",
       "      <td>Memory ballooning is dynamic memory management...</td>\n",
       "      <td>26 November, 2014</td>\n",
       "      <td>https://arxiv.org/pdf/1411.7344</td>\n",
       "    </tr>\n",
       "    <tr>\n",
       "      <th>4</th>\n",
       "      <td>Patents used by NPE as an Open Information Sys...</td>\n",
       "      <td>Abdelkader Baaziz;Luc Quoniam</td>\n",
       "      <td>The Information Systems around patents are com...</td>\n",
       "      <td>26 November, 2014</td>\n",
       "      <td>https://arxiv.org/pdf/1411.7225</td>\n",
       "    </tr>\n",
       "    <tr>\n",
       "      <th>...</th>\n",
       "      <td>...</td>\n",
       "      <td>...</td>\n",
       "      <td>...</td>\n",
       "      <td>...</td>\n",
       "      <td>...</td>\n",
       "    </tr>\n",
       "    <tr>\n",
       "      <th>4074</th>\n",
       "      <td>A reduced 3D-0D FSI model of the aortic valve ...</td>\n",
       "      <td>Ivan Fumagalli;Luca Dede';Alfio Quarteroni</td>\n",
       "      <td>We introduce an innovative lumped-parameter mo...</td>\n",
       "      <td>13 April, 2025</td>\n",
       "      <td>https://arxiv.org/pdf/2106.00571</td>\n",
       "    </tr>\n",
       "    <tr>\n",
       "      <th>4075</th>\n",
       "      <td>Decrypting Cryptic Crosswords: Semantically Co...</td>\n",
       "      <td>Josh Rozner;Christopher Potts;Kyle Mahowald</td>\n",
       "      <td>Cryptic crosswords, the dominant crossword var...</td>\n",
       "      <td>17 February, 2025</td>\n",
       "      <td>https://arxiv.org/pdf/2104.08620</td>\n",
       "    </tr>\n",
       "    <tr>\n",
       "      <th>4076</th>\n",
       "      <td>HW-NAS-Bench:Hardware-Aware Neural Architectur...</td>\n",
       "      <td>Chaojian Li;Zhongzhi Yu;Yonggan Fu;Yongan Zhan...</td>\n",
       "      <td>HardWare-aware Neural Architecture Search (HW-...</td>\n",
       "      <td>27 March, 2025</td>\n",
       "      <td>https://arxiv.org/pdf/2103.10584</td>\n",
       "    </tr>\n",
       "    <tr>\n",
       "      <th>4077</th>\n",
       "      <td>Deep Reinforcement Learning for Long-Short Por...</td>\n",
       "      <td>Gang Huang;Xiaohua Zhou;Qingyang Song</td>\n",
       "      <td>With the rapid development of artificial intel...</td>\n",
       "      <td>15 March, 2025</td>\n",
       "      <td>https://arxiv.org/pdf/2012.13773</td>\n",
       "    </tr>\n",
       "    <tr>\n",
       "      <th>4078</th>\n",
       "      <td>A Promising Future: Omission Failures in Chore...</td>\n",
       "      <td>Eva Graversen;Fabrizio Montesi;Marco Peressotti</td>\n",
       "      <td>Choreographic programming promises a simple ap...</td>\n",
       "      <td>17 March, 2025</td>\n",
       "      <td>https://arxiv.org/pdf/1712.05465</td>\n",
       "    </tr>\n",
       "  </tbody>\n",
       "</table>\n",
       "<p>15055 rows × 5 columns</p>\n",
       "</div>"
      ],
      "text/plain": [
       "                                                  title  \\\n",
       "0     Improved texture image classification through ...   \n",
       "1     An Implementation Framework (IF) for the Natio...   \n",
       "2     Υ\\n-DB: A system for data-driven hypothesis ma...   \n",
       "3     Analysis of Memory Ballooning Technique for Dy...   \n",
       "4     Patents used by NPE as an Open Information Sys...   \n",
       "...                                                 ...   \n",
       "4074  A reduced 3D-0D FSI model of the aortic valve ...   \n",
       "4075  Decrypting Cryptic Crosswords: Semantically Co...   \n",
       "4076  HW-NAS-Bench:Hardware-Aware Neural Architectur...   \n",
       "4077  Deep Reinforcement Learning for Long-Short Por...   \n",
       "4078  A Promising Future: Omission Failures in Chore...   \n",
       "\n",
       "                                                authors  \\\n",
       "0     Núbia Rosa da Silva;Pieter Van der Weeën;Berna...   \n",
       "1                                Ahmed Otoom;Issa Atoum   \n",
       "2     Bernardo Gonçalves;Frederico C. Silva;Fabio Porto   \n",
       "3                                    A B M Moniruzzaman   \n",
       "4                         Abdelkader Baaziz;Luc Quoniam   \n",
       "...                                                 ...   \n",
       "4074         Ivan Fumagalli;Luca Dede';Alfio Quarteroni   \n",
       "4075        Josh Rozner;Christopher Potts;Kyle Mahowald   \n",
       "4076  Chaojian Li;Zhongzhi Yu;Yonggan Fu;Yongan Zhan...   \n",
       "4077              Gang Huang;Xiaohua Zhou;Qingyang Song   \n",
       "4078    Eva Graversen;Fabrizio Montesi;Marco Peressotti   \n",
       "\n",
       "                                               abstract     submitted_date  \\\n",
       "0     In this paper, the problem of classifying synt...  25 December, 2014   \n",
       "1     This paper proposes an implementation framewor...  30 November, 2014   \n",
       "2     The vision of Υ-DB introduces deterministic sc...  26 November, 2014   \n",
       "3     Memory ballooning is dynamic memory management...  26 November, 2014   \n",
       "4     The Information Systems around patents are com...  26 November, 2014   \n",
       "...                                                 ...                ...   \n",
       "4074  We introduce an innovative lumped-parameter mo...     13 April, 2025   \n",
       "4075  Cryptic crosswords, the dominant crossword var...  17 February, 2025   \n",
       "4076  HardWare-aware Neural Architecture Search (HW-...     27 March, 2025   \n",
       "4077  With the rapid development of artificial intel...     15 March, 2025   \n",
       "4078  Choreographic programming promises a simple ap...     17 March, 2025   \n",
       "\n",
       "                              pdf_link  \n",
       "0      https://arxiv.org/pdf/1412.7889  \n",
       "1      https://arxiv.org/pdf/1412.1141  \n",
       "2      https://arxiv.org/pdf/1411.7419  \n",
       "3      https://arxiv.org/pdf/1411.7344  \n",
       "4      https://arxiv.org/pdf/1411.7225  \n",
       "...                                ...  \n",
       "4074  https://arxiv.org/pdf/2106.00571  \n",
       "4075  https://arxiv.org/pdf/2104.08620  \n",
       "4076  https://arxiv.org/pdf/2103.10584  \n",
       "4077  https://arxiv.org/pdf/2012.13773  \n",
       "4078  https://arxiv.org/pdf/1712.05465  \n",
       "\n",
       "[15055 rows x 5 columns]"
      ]
     },
     "execution_count": 6,
     "metadata": {},
     "output_type": "execute_result"
    }
   ],
   "source": [
    "df"
   ]
  },
  {
   "cell_type": "code",
   "execution_count": 21,
   "id": "e847db67-e5e7-40d3-ac9d-89e36878a575",
   "metadata": {},
   "outputs": [
    {
     "data": {
      "text/plain": [
       "'This paper proposes an implementation framework that lays out the ground for a coherent, systematic, and comprehensive approach to implement the National Information Assurance and Cyber Security Strategy (NIACSS) of Jordan. The Framework 1). Suggests a methodology to analyze the NIACSS, 2). Illustrates how the NIACSS analysis can be utilized to design strategic moves and develop an appropriate functional structure, and 3). proposes a set of adaptable strategic controls that govern the NIACSS implementation and allow achieving excellence, innovation, efficiency, and quality.The framework, if adopted, is expected to harvest several advantages within the following areas: information security implementation management, control and guidance, efforts consolidation, resource utilization, productive collaboration, and completeness. The framework is flexible and expandable; therefore, it can be generalized. △ Less'"
      ]
     },
     "execution_count": 21,
     "metadata": {},
     "output_type": "execute_result"
    }
   ],
   "source": [
    "df['abstract'].iloc[1]"
   ]
  },
  {
   "cell_type": "code",
   "execution_count": 11,
   "id": "a48e3535-3ec4-411e-8279-7491c400f9e2",
   "metadata": {},
   "outputs": [],
   "source": [
    "df.to_csv('articles.csv',index=False)"
   ]
  },
  {
   "cell_type": "code",
   "execution_count": 12,
   "id": "3219b743-bfde-482b-a796-5c2e55d04c84",
   "metadata": {},
   "outputs": [],
   "source": [
    "df['submitted_year'] = pd.to_datetime(df['submitted_date']).dt.year"
   ]
  },
  {
   "cell_type": "code",
   "execution_count": 16,
   "id": "91c69bb1-49ec-44e1-b1e9-c5455dad3bda",
   "metadata": {},
   "outputs": [
    {
     "data": {
      "text/plain": [
       "submitted_year\n",
       "2024    5022\n",
       "2025    4079\n",
       "2023    1889\n",
       "2021     884\n",
       "2022     876\n",
       "2020     666\n",
       "2019     493\n",
       "2018     356\n",
       "2017     270\n",
       "2016     230\n",
       "2015     148\n",
       "2014     142\n",
       "Name: count, dtype: int64"
      ]
     },
     "execution_count": 16,
     "metadata": {},
     "output_type": "execute_result"
    }
   ],
   "source": [
    "df['submitted_year'].value_counts()"
   ]
  },
  {
   "cell_type": "code",
   "execution_count": null,
   "id": "f478c789-c4d3-406b-a6ae-5d4ada0c7a72",
   "metadata": {},
   "outputs": [],
   "source": []
  }
 ],
 "metadata": {
  "kernelspec": {
   "display_name": "Python 3 (ipykernel)",
   "language": "python",
   "name": "python3"
  },
  "language_info": {
   "codemirror_mode": {
    "name": "ipython",
    "version": 3
   },
   "file_extension": ".py",
   "mimetype": "text/x-python",
   "name": "python",
   "nbconvert_exporter": "python",
   "pygments_lexer": "ipython3",
   "version": "3.12.4"
  }
 },
 "nbformat": 4,
 "nbformat_minor": 5
}
