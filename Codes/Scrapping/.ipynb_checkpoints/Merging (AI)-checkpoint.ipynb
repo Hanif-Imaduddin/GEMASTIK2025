{
 "cells": [
  {
   "cell_type": "code",
   "execution_count": 1,
   "id": "503eac9c-fa45-4c9d-ab27-ef38dc164437",
   "metadata": {},
   "outputs": [],
   "source": [
    "import numpy as np\n",
    "import pandas as pd\n",
    "from glob import glob"
   ]
  },
  {
   "cell_type": "code",
   "execution_count": 2,
   "id": "94a2b634-9bbc-43ef-9d84-fa384229bfc8",
   "metadata": {},
   "outputs": [],
   "source": [
    "file_paths = glob('./AI/*.csv')\n",
    "df = pd.concat([pd.read_csv(file_path) for file_path in file_paths])"
   ]
  },
  {
   "cell_type": "code",
   "execution_count": 3,
   "id": "38046920-ab32-4437-b4b5-6a5924e53160",
   "metadata": {},
   "outputs": [
    {
     "data": {
      "text/html": [
       "<div>\n",
       "<style scoped>\n",
       "    .dataframe tbody tr th:only-of-type {\n",
       "        vertical-align: middle;\n",
       "    }\n",
       "\n",
       "    .dataframe tbody tr th {\n",
       "        vertical-align: top;\n",
       "    }\n",
       "\n",
       "    .dataframe thead th {\n",
       "        text-align: right;\n",
       "    }\n",
       "</style>\n",
       "<table border=\"1\" class=\"dataframe\">\n",
       "  <thead>\n",
       "    <tr style=\"text-align: right;\">\n",
       "      <th></th>\n",
       "      <th>title</th>\n",
       "      <th>authors</th>\n",
       "      <th>abstract</th>\n",
       "      <th>submitted_date</th>\n",
       "      <th>pdf_link</th>\n",
       "    </tr>\n",
       "  </thead>\n",
       "  <tbody>\n",
       "    <tr>\n",
       "      <th>0</th>\n",
       "      <td>Quantifying Natural and Artificial Intelligenc...</td>\n",
       "      <td>Hector Zenil</td>\n",
       "      <td>One of the most important aims of the fields o...</td>\n",
       "      <td>23 December, 2014</td>\n",
       "      <td>https://arxiv.org/pdf/1412.6703</td>\n",
       "    </tr>\n",
       "    <tr>\n",
       "      <th>1</th>\n",
       "      <td>GraATP: A Graph Theoretic Approach for Automat...</td>\n",
       "      <td>Mohammad Murtaza Mahmud;Swakkhar Shatabda;Moha...</td>\n",
       "      <td>Automated Theorem Proving (ATP) is an establis...</td>\n",
       "      <td>18 December, 2014</td>\n",
       "      <td>https://arxiv.org/pdf/1412.5980</td>\n",
       "    </tr>\n",
       "    <tr>\n",
       "      <th>2</th>\n",
       "      <td>Learning Word Representations from Relational ...</td>\n",
       "      <td>Danushka Bollegala;Takanori Maehara;Yuichi Yos...</td>\n",
       "      <td>Attributes of words and relations between two ...</td>\n",
       "      <td>7 December, 2014</td>\n",
       "      <td>https://arxiv.org/pdf/1412.2378</td>\n",
       "    </tr>\n",
       "    <tr>\n",
       "      <th>3</th>\n",
       "      <td>Genetic Algorithms in Wireless Networking: Tec...</td>\n",
       "      <td>Usama Mehboob;Junaid Qadir;Salman Ali;Athanasi...</td>\n",
       "      <td>In recent times, wireless access technology is...</td>\n",
       "      <td>19 November, 2014</td>\n",
       "      <td>https://arxiv.org/pdf/1411.5323</td>\n",
       "    </tr>\n",
       "    <tr>\n",
       "      <th>4</th>\n",
       "      <td>ROSS User's Guide and Reference Manual (Versio...</td>\n",
       "      <td>Glenn R. Hofford</td>\n",
       "      <td>The ROSS method is a new approach in the area ...</td>\n",
       "      <td>15 November, 2014</td>\n",
       "      <td>https://arxiv.org/pdf/1411.4194</td>\n",
       "    </tr>\n",
       "    <tr>\n",
       "      <th>...</th>\n",
       "      <td>...</td>\n",
       "      <td>...</td>\n",
       "      <td>...</td>\n",
       "      <td>...</td>\n",
       "      <td>...</td>\n",
       "    </tr>\n",
       "    <tr>\n",
       "      <th>3400</th>\n",
       "      <td>Towards Regulated Deep Learning</td>\n",
       "      <td>Andrés García-Camino</td>\n",
       "      <td>Regulation of Multi-Agent Systems (MAS) and De...</td>\n",
       "      <td>18 July, 2025</td>\n",
       "      <td>https://arxiv.org/pdf/1912.13122</td>\n",
       "    </tr>\n",
       "    <tr>\n",
       "      <th>3401</th>\n",
       "      <td>Learning from the Past: How Previous Technolog...</td>\n",
       "      <td>Risto Miikkulainen;Jerry Smith;Babak Hodjat</td>\n",
       "      <td>Artificial Intelligence (AI) is rapidly changi...</td>\n",
       "      <td>25 May, 2025</td>\n",
       "      <td>https://arxiv.org/pdf/1905.13178</td>\n",
       "    </tr>\n",
       "    <tr>\n",
       "      <th>3402</th>\n",
       "      <td>The Multi-Agent Reinforcement Learning in Malm...</td>\n",
       "      <td>Diego Perez-Liebana;Katja Hofmann;Sharada Pras...</td>\n",
       "      <td>Learning in multi-agent scenarios is a fruitfu...</td>\n",
       "      <td>11 April, 2025</td>\n",
       "      <td>https://arxiv.org/pdf/1901.08129</td>\n",
       "    </tr>\n",
       "    <tr>\n",
       "      <th>3403</th>\n",
       "      <td>Probability Bracket Notation: Markov Sequence ...</td>\n",
       "      <td>Xing M. Wang</td>\n",
       "      <td>With the symbolic framework of Probability Bra...</td>\n",
       "      <td>19 February, 2025</td>\n",
       "      <td>https://arxiv.org/pdf/1212.3817</td>\n",
       "    </tr>\n",
       "    <tr>\n",
       "      <th>3404</th>\n",
       "      <td>Probability Bracket Notation: Multivariable Sy...</td>\n",
       "      <td>Xing M. Wang</td>\n",
       "      <td>The Probability Bracket Notation (PBN) is used...</td>\n",
       "      <td>8 March, 2025</td>\n",
       "      <td>https://arxiv.org/pdf/1207.5293</td>\n",
       "    </tr>\n",
       "  </tbody>\n",
       "</table>\n",
       "<p>16379 rows × 5 columns</p>\n",
       "</div>"
      ],
      "text/plain": [
       "                                                  title  \\\n",
       "0     Quantifying Natural and Artificial Intelligenc...   \n",
       "1     GraATP: A Graph Theoretic Approach for Automat...   \n",
       "2     Learning Word Representations from Relational ...   \n",
       "3     Genetic Algorithms in Wireless Networking: Tec...   \n",
       "4     ROSS User's Guide and Reference Manual (Versio...   \n",
       "...                                                 ...   \n",
       "3400                    Towards Regulated Deep Learning   \n",
       "3401  Learning from the Past: How Previous Technolog...   \n",
       "3402  The Multi-Agent Reinforcement Learning in Malm...   \n",
       "3403  Probability Bracket Notation: Markov Sequence ...   \n",
       "3404  Probability Bracket Notation: Multivariable Sy...   \n",
       "\n",
       "                                                authors  \\\n",
       "0                                          Hector Zenil   \n",
       "1     Mohammad Murtaza Mahmud;Swakkhar Shatabda;Moha...   \n",
       "2     Danushka Bollegala;Takanori Maehara;Yuichi Yos...   \n",
       "3     Usama Mehboob;Junaid Qadir;Salman Ali;Athanasi...   \n",
       "4                                      Glenn R. Hofford   \n",
       "...                                                 ...   \n",
       "3400                               Andrés García-Camino   \n",
       "3401        Risto Miikkulainen;Jerry Smith;Babak Hodjat   \n",
       "3402  Diego Perez-Liebana;Katja Hofmann;Sharada Pras...   \n",
       "3403                                       Xing M. Wang   \n",
       "3404                                       Xing M. Wang   \n",
       "\n",
       "                                               abstract     submitted_date  \\\n",
       "0     One of the most important aims of the fields o...  23 December, 2014   \n",
       "1     Automated Theorem Proving (ATP) is an establis...  18 December, 2014   \n",
       "2     Attributes of words and relations between two ...   7 December, 2014   \n",
       "3     In recent times, wireless access technology is...  19 November, 2014   \n",
       "4     The ROSS method is a new approach in the area ...  15 November, 2014   \n",
       "...                                                 ...                ...   \n",
       "3400  Regulation of Multi-Agent Systems (MAS) and De...      18 July, 2025   \n",
       "3401  Artificial Intelligence (AI) is rapidly changi...       25 May, 2025   \n",
       "3402  Learning in multi-agent scenarios is a fruitfu...     11 April, 2025   \n",
       "3403  With the symbolic framework of Probability Bra...  19 February, 2025   \n",
       "3404  The Probability Bracket Notation (PBN) is used...      8 March, 2025   \n",
       "\n",
       "                              pdf_link  \n",
       "0      https://arxiv.org/pdf/1412.6703  \n",
       "1      https://arxiv.org/pdf/1412.5980  \n",
       "2      https://arxiv.org/pdf/1412.2378  \n",
       "3      https://arxiv.org/pdf/1411.5323  \n",
       "4      https://arxiv.org/pdf/1411.4194  \n",
       "...                                ...  \n",
       "3400  https://arxiv.org/pdf/1912.13122  \n",
       "3401  https://arxiv.org/pdf/1905.13178  \n",
       "3402  https://arxiv.org/pdf/1901.08129  \n",
       "3403   https://arxiv.org/pdf/1212.3817  \n",
       "3404   https://arxiv.org/pdf/1207.5293  \n",
       "\n",
       "[16379 rows x 5 columns]"
      ]
     },
     "execution_count": 3,
     "metadata": {},
     "output_type": "execute_result"
    }
   ],
   "source": [
    "df"
   ]
  },
  {
   "cell_type": "code",
   "execution_count": 4,
   "id": "e847db67-e5e7-40d3-ac9d-89e36878a575",
   "metadata": {},
   "outputs": [
    {
     "data": {
      "text/plain": [
       "'Automated Theorem Proving (ATP) is an established branch of Artificial Intelligence. The purpose of ATP is to design a system which can automatically figure out an algorithm either to prove or disprove a mathematical claim, on the basis of a set of given premises, using a set of fundamental postulates and following the method of logical inference. In this paper, we propose GraATP, a generalized framework for automated theorem proving in plane geometry. Our proposed method translates the geometric entities into nodes of a graph and the relations between them as edges of that graph. The automated system searches for different ways to reach the conclusion for a claim via graph traversal by which the validity of the geometric theorem is examined. △ Less'"
      ]
     },
     "execution_count": 4,
     "metadata": {},
     "output_type": "execute_result"
    }
   ],
   "source": [
    "df['abstract'].iloc[1]"
   ]
  },
  {
   "cell_type": "code",
   "execution_count": 5,
   "id": "a48e3535-3ec4-411e-8279-7491c400f9e2",
   "metadata": {},
   "outputs": [],
   "source": [
    "df.to_csv('ai_articles.csv',index=False)"
   ]
  },
  {
   "cell_type": "code",
   "execution_count": 6,
   "id": "3219b743-bfde-482b-a796-5c2e55d04c84",
   "metadata": {},
   "outputs": [],
   "source": [
    "df['submitted_year'] = pd.to_datetime(df['submitted_date']).dt.year"
   ]
  },
  {
   "cell_type": "code",
   "execution_count": 7,
   "id": "91c69bb1-49ec-44e1-b1e9-c5455dad3bda",
   "metadata": {},
   "outputs": [
    {
     "data": {
      "text/plain": [
       "submitted_year\n",
       "2024    4264\n",
       "2025    3405\n",
       "2023    2641\n",
       "2022    1751\n",
       "2021    1492\n",
       "2020    1110\n",
       "2019     699\n",
       "2018     478\n",
       "2017     236\n",
       "2016     141\n",
       "2014      85\n",
       "2015      77\n",
       "Name: count, dtype: int64"
      ]
     },
     "execution_count": 7,
     "metadata": {},
     "output_type": "execute_result"
    }
   ],
   "source": [
    "df['submitted_year'].value_counts()"
   ]
  },
  {
   "cell_type": "code",
   "execution_count": null,
   "id": "f478c789-c4d3-406b-a6ae-5d4ada0c7a72",
   "metadata": {},
   "outputs": [],
   "source": []
  }
 ],
 "metadata": {
  "kernelspec": {
   "display_name": "Python 3 (ipykernel)",
   "language": "python",
   "name": "python3"
  },
  "language_info": {
   "codemirror_mode": {
    "name": "ipython",
    "version": 3
   },
   "file_extension": ".py",
   "mimetype": "text/x-python",
   "name": "python",
   "nbconvert_exporter": "python",
   "pygments_lexer": "ipython3",
   "version": "3.10.11"
  }
 },
 "nbformat": 4,
 "nbformat_minor": 5
}
